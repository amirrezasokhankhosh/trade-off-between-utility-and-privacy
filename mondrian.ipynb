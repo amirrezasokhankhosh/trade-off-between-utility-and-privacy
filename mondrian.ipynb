{
 "cells": [
  {
   "cell_type": "code",
   "execution_count": 15,
   "metadata": {},
   "outputs": [],
   "source": [
    "import tensorflow as tf\n",
    "import matplotlib.pyplot as plt\n",
    "import os\n",
    "os.chdir(\"/Users/amirrezasokhankhosh/Documents/Workstation/testing_adult/privacy/\")\n",
    "from privacy.encode import encodeData, encodeNonAnonData\n",
    "os.chdir(\"/Users/amirrezasokhankhosh/Documents/Workstation/testing_adult/\")"
   ]
  },
  {
   "cell_type": "code",
   "execution_count": 16,
   "metadata": {},
   "outputs": [],
   "source": [
    "data = \"texas\"\n",
    "k_list = [2, 3, 4, 5]"
   ]
  },
  {
   "cell_type": "code",
   "execution_count": 17,
   "metadata": {},
   "outputs": [],
   "source": [
    "class Mondrian_Utility:\n",
    "    def __init__(self, data, k_list):\n",
    "        self.data = data\n",
    "        self.k_list = k_list\n",
    "    \n",
    "    def anonymize(self):\n",
    "        for k in self.k_list:\n",
    "            os.system(f'python privacy/anonymize.py --method={\"classic_mondrian\"} --k={k} --dataset={self.data}')\n",
    "    \n",
    "    def get_features(self):\n",
    "        self.features = []\n",
    "        self.val = []\n",
    "        for k in self.k_list:\n",
    "            _, X_org, y_org, _, X_anon, y_anon = encodeData(self.data, k)\n",
    "            if not len(self.features):\n",
    "                self.features.append((X_org, y_org))\n",
    "            self.features.append((X_anon, y_anon))\n",
    "        _, X_val, y_val = encodeNonAnonData(self.data, f'/Users/amirrezasokhankhosh/Documents/Workstation/testing_adult/data/{self.data}/val.csv')\n",
    "        self.val_data = X_val, y_val\n",
    "\n",
    "    def get_model(self):\n",
    "        self.models = []\n",
    "        for _ in range(len(self.features)):\n",
    "            if self.data == \"texas\":\n",
    "                model = tf.keras.models.Sequential([tf.keras.layers.InputLayer(input_shape=(self.features[0][0].shape[1],)),\n",
    "                    tf.keras.layers.Dense(256, activation='relu'),\n",
    "                    tf.keras.layers.Dropout(0.5),\n",
    "                    tf.keras.layers.Dense(128, activation='relu'),\n",
    "                    tf.keras.layers.Dropout(0.5),\n",
    "                    tf.keras.layers.Dense(64, activation='relu'),\n",
    "                    tf.keras.layers.Dense(32, activation='relu'),\n",
    "                    tf.keras.layers.Dense(1)])\n",
    "            elif self.data == \"adult\":\n",
    "                model = tf.keras.models.Sequential([tf.keras.layers.InputLayer(input_shape=(self.features[0][0].shape[1],)),\n",
    "                    tf.keras.layers.Dense(256, activation='relu'),\n",
    "                    tf.keras.layers.Dropout(0.5),\n",
    "                    tf.keras.layers.Dense(128, activation='relu'),\n",
    "                    tf.keras.layers.Dropout(0.5),\n",
    "                    tf.keras.layers.Dense(64, activation='relu'),\n",
    "                    tf.keras.layers.Dense(32, activation='relu'),\n",
    "                    tf.keras.layers.Dense(1, activation='sigmoid')])\n",
    "            else:\n",
    "                model = tf.keras.models.Sequential([tf.keras.layers.InputLayer(input_shape=(self.features[0][0].shape[1],)),\n",
    "                    tf.keras.layers.Dense(10, activation='relu'),\n",
    "                    tf.keras.layers.Dropout(0.5),\n",
    "                    tf.keras.layers.Dense(4, activation='softmax')])\n",
    "            self.models.append(model)\n",
    "\n",
    "    def compile_models(self):\n",
    "        for i in range(len(self.models)):\n",
    "            if self.data == \"adult\":\n",
    "                self.models[i].compile(optimizer=tf.keras.optimizers.Adam(learning_rate=3e-4),\n",
    "                    loss='binary_crossentropy',\n",
    "                    metrics=[\"accuracy\"])\n",
    "            elif self.data == \"texas\":\n",
    "                self.models[i].compile(optimizer='adam',\n",
    "                    loss='mean_squared_error')\n",
    "            else:\n",
    "                self.models[i].compile(optimizer=tf.keras.optimizers.Adam(learning_rate=3e-4),\n",
    "                    loss='categorical_crossentropy',\n",
    "                    metrics=[\"accuracy\"])\n",
    "\n",
    "    def prepare_training(self):\n",
    "        self.anonymize()\n",
    "        self.get_features()\n",
    "        self.get_model()\n",
    "        self.compile_models()\n",
    "    \n",
    "    def train(self):\n",
    "        self.histories = []\n",
    "        for i in range(len(self.k_list) + 1):\n",
    "            X, y = self.features[i]\n",
    "            callback = tf.keras.callbacks.EarlyStopping(monitor='val_loss', patience=10)\n",
    "            history = self.models[i].fit(X, y, epochs=100, batch_size=64, validation_data=self.val_data, callbacks=[callback])\n",
    "            self.histories.append(history)\n",
    "            if i == 0:\n",
    "                self.models[i].save(f\"./weights/model_{self.data}_org.h5\")\n",
    "            else:\n",
    "                self.models[i].save(f\"./weights/model_{self.data}_{k_list[i-1]}.h5\")\n",
    "            print(f\"{i+1} trained.\")\n",
    "\n",
    "    def plot_results(self):\n",
    "        for i in range(len(self.histories)):\n",
    "            if i == 0:\n",
    "                plt.plot(self.histories[i].history['accuracy'], label=\"Original\")\n",
    "            else:\n",
    "                plt.plot(self.histories[i].history['accuracy'], label=f\"K = {self.k_list[i-1]}\")\n",
    "        plt.title(\"Train Accuracy\")\n",
    "        plt.xlabel(\"Epoch\")\n",
    "        plt.ylabel(\"Accuracy\")\n",
    "        plt.legend()\n",
    "        plt.show()\n",
    "            "
   ]
  },
  {
   "cell_type": "code",
   "execution_count": 18,
   "metadata": {},
   "outputs": [],
   "source": [
    "mond_util = Mondrian_Utility(data, k_list)"
   ]
  },
  {
   "cell_type": "code",
   "execution_count": 19,
   "metadata": {},
   "outputs": [
    {
     "name": "stdout",
     "output_type": "stream",
     "text": [
      "Replacing all generalized values...\n"
     ]
    },
    {
     "name": "stderr",
     "output_type": "stream",
     "text": [
      "25532it [00:00, 25644.29it/s]\n"
     ]
    },
    {
     "name": "stdout",
     "output_type": "stream",
     "text": [
      "25532\n",
      "Replacing all generalized values...\n"
     ]
    },
    {
     "name": "stderr",
     "output_type": "stream",
     "text": [
      "16610it [00:00, 26252.90it/s]\n"
     ]
    },
    {
     "name": "stdout",
     "output_type": "stream",
     "text": [
      "16610\n",
      "Replacing all generalized values...\n"
     ]
    },
    {
     "name": "stderr",
     "output_type": "stream",
     "text": [
      "12590it [00:00, 27103.30it/s]\n"
     ]
    },
    {
     "name": "stdout",
     "output_type": "stream",
     "text": [
      "12590\n",
      "Replacing all generalized values...\n"
     ]
    },
    {
     "name": "stderr",
     "output_type": "stream",
     "text": [
      "10170it [00:00, 26849.43it/s]\n"
     ]
    },
    {
     "name": "stdout",
     "output_type": "stream",
     "text": [
      "10170\n",
      "Replacing all generalized values...\n"
     ]
    },
    {
     "name": "stderr",
     "output_type": "stream",
     "text": [
      "75555it [00:02, 27203.90it/s]\n"
     ]
    },
    {
     "name": "stdout",
     "output_type": "stream",
     "text": [
      "75555\n"
     ]
    }
   ],
   "source": [
    "mond_util.prepare_training()"
   ]
  },
  {
   "cell_type": "code",
   "execution_count": 20,
   "metadata": {},
   "outputs": [
    {
     "data": {
      "text/plain": [
       "array([0, 0, 0, 0, 0, 0, 1, 0, 1, 0, 0, 0, 0, 0, 0, 0, 0, 0, 1, 0, 1, 0,\n",
       "       0, 0, 0, 0, 0, 0, 0, 0, 0, 0, 0, 0, 0, 0, 0, 0, 0, 0, 0, 0, 1, 0,\n",
       "       0, 0, 0, 1, 0, 0, 1, 0, 0, 0, 0, 0, 1, 0, 0, 0, 0, 0, 0, 0, 0, 0,\n",
       "       0, 0, 0, 0, 0, 0, 0, 0, 0, 0, 1, 0, 0, 0, 0, 0, 1, 0, 0, 0, 0, 0,\n",
       "       1, 0, 0, 1, 0, 0, 0, 0, 0, 0, 0, 0, 0, 0, 0, 0, 0, 0, 0, 0, 0, 0,\n",
       "       0, 0, 0, 0, 0, 0, 0, 0, 0, 0, 0, 0, 0, 0, 0, 0, 0], dtype=uint8)"
      ]
     },
     "execution_count": 20,
     "metadata": {},
     "output_type": "execute_result"
    }
   ],
   "source": [
    "mond_util.features[0][0][0]\n"
   ]
  },
  {
   "cell_type": "code",
   "execution_count": 21,
   "metadata": {},
   "outputs": [
    {
     "name": "stdout",
     "output_type": "stream",
     "text": [
      "Epoch 1/100\n"
     ]
    },
    {
     "name": "stderr",
     "output_type": "stream",
     "text": [
      "2023-12-01 09:51:59.111983: I tensorflow/core/grappler/optimizers/custom_graph_optimizer_registry.cc:114] Plugin optimizer for device_type GPU is enabled.\n"
     ]
    },
    {
     "name": "stdout",
     "output_type": "stream",
     "text": [
      "1181/1181 [==============================] - ETA: 0s - loss: 0.6823"
     ]
    },
    {
     "name": "stderr",
     "output_type": "stream",
     "text": [
      "2023-12-01 09:52:09.353045: I tensorflow/core/grappler/optimizers/custom_graph_optimizer_registry.cc:114] Plugin optimizer for device_type GPU is enabled.\n"
     ]
    },
    {
     "name": "stdout",
     "output_type": "stream",
     "text": [
      "1181/1181 [==============================] - 14s 12ms/step - loss: 0.6823 - val_loss: 0.5381\n",
      "Epoch 2/100\n",
      "1181/1181 [==============================] - 13s 11ms/step - loss: 0.5453 - val_loss: 0.5915\n",
      "Epoch 3/100\n",
      "1181/1181 [==============================] - 13s 11ms/step - loss: 0.5094 - val_loss: 0.4798\n",
      "Epoch 4/100\n",
      "1181/1181 [==============================] - 13s 11ms/step - loss: 0.4885 - val_loss: 0.4447\n",
      "Epoch 5/100\n",
      "1181/1181 [==============================] - 13s 11ms/step - loss: 0.4651 - val_loss: 0.4327\n",
      "Epoch 6/100\n",
      "1181/1181 [==============================] - 13s 11ms/step - loss: 0.4577 - val_loss: 0.5108\n",
      "Epoch 7/100\n",
      "1181/1181 [==============================] - 13s 11ms/step - loss: 0.4417 - val_loss: 0.3900\n",
      "Epoch 8/100\n",
      "1181/1181 [==============================] - 13s 11ms/step - loss: 0.4157 - val_loss: 0.4059\n",
      "Epoch 9/100\n",
      "1181/1181 [==============================] - 13s 11ms/step - loss: 0.4004 - val_loss: 0.3554\n",
      "Epoch 10/100\n",
      "1181/1181 [==============================] - 14s 12ms/step - loss: 0.3980 - val_loss: 0.3892\n",
      "Epoch 11/100\n",
      "1181/1181 [==============================] - 15s 12ms/step - loss: 0.3821 - val_loss: 0.3113\n",
      "Epoch 12/100\n",
      "1181/1181 [==============================] - 14s 12ms/step - loss: 0.3777 - val_loss: 0.3491\n",
      "Epoch 13/100\n",
      "1181/1181 [==============================] - 14s 12ms/step - loss: 0.3545 - val_loss: 0.3265\n",
      "Epoch 14/100\n",
      "1181/1181 [==============================] - 14s 11ms/step - loss: 0.3385 - val_loss: 0.3154\n",
      "Epoch 15/100\n",
      "1181/1181 [==============================] - 13s 11ms/step - loss: 0.3273 - val_loss: 0.3454\n",
      "Epoch 16/100\n",
      "1181/1181 [==============================] - 14s 12ms/step - loss: 0.3409 - val_loss: 0.3162\n",
      "Epoch 17/100\n",
      "1181/1181 [==============================] - 14s 12ms/step - loss: 0.3232 - val_loss: 0.2708\n",
      "Epoch 18/100\n",
      "1181/1181 [==============================] - 14s 12ms/step - loss: 0.2929 - val_loss: 0.2941\n",
      "Epoch 19/100\n",
      "1181/1181 [==============================] - 14s 12ms/step - loss: 0.2948 - val_loss: 0.2339\n",
      "Epoch 20/100\n",
      "1181/1181 [==============================] - 14s 12ms/step - loss: 0.3108 - val_loss: 0.2347\n",
      "Epoch 21/100\n",
      "1181/1181 [==============================] - 14s 12ms/step - loss: 0.2877 - val_loss: 0.2378\n",
      "Epoch 22/100\n",
      "1181/1181 [==============================] - 14s 12ms/step - loss: 0.2909 - val_loss: 0.3176\n",
      "Epoch 23/100\n",
      "1181/1181 [==============================] - 14s 12ms/step - loss: 0.2759 - val_loss: 0.2381\n",
      "Epoch 24/100\n",
      "1181/1181 [==============================] - 14s 12ms/step - loss: 0.2831 - val_loss: 0.2821\n",
      "Epoch 25/100\n",
      "1181/1181 [==============================] - 14s 12ms/step - loss: 0.2697 - val_loss: 0.2561\n",
      "Epoch 26/100\n",
      "1181/1181 [==============================] - 14s 12ms/step - loss: 0.2814 - val_loss: 0.2232\n",
      "Epoch 27/100\n",
      "1181/1181 [==============================] - 14s 12ms/step - loss: 0.2551 - val_loss: 0.2426\n",
      "Epoch 28/100\n",
      "1181/1181 [==============================] - 14s 12ms/step - loss: 0.2681 - val_loss: 0.2286\n",
      "Epoch 29/100\n",
      "1181/1181 [==============================] - 14s 12ms/step - loss: 0.2708 - val_loss: 0.2151\n",
      "Epoch 30/100\n",
      "1181/1181 [==============================] - 15s 13ms/step - loss: 0.2453 - val_loss: 0.2067\n",
      "Epoch 31/100\n",
      "1181/1181 [==============================] - 14s 12ms/step - loss: 0.2572 - val_loss: 0.2232\n",
      "Epoch 32/100\n",
      "1181/1181 [==============================] - 14s 12ms/step - loss: 0.2448 - val_loss: 0.2077\n",
      "Epoch 33/100\n",
      "1181/1181 [==============================] - 14s 12ms/step - loss: 0.2446 - val_loss: 0.2189\n",
      "Epoch 34/100\n",
      "1181/1181 [==============================] - 14s 12ms/step - loss: 0.2567 - val_loss: 0.2066\n",
      "Epoch 35/100\n",
      "1181/1181 [==============================] - 14s 12ms/step - loss: 0.2482 - val_loss: 0.2162\n",
      "Epoch 36/100\n",
      "1181/1181 [==============================] - 14s 12ms/step - loss: 0.2536 - val_loss: 0.2135\n",
      "Epoch 37/100\n",
      "1181/1181 [==============================] - 14s 12ms/step - loss: 0.2398 - val_loss: 0.2185\n",
      "Epoch 38/100\n",
      "1181/1181 [==============================] - 14s 12ms/step - loss: 0.2471 - val_loss: 0.2140\n",
      "Epoch 39/100\n",
      "1181/1181 [==============================] - 14s 12ms/step - loss: 0.2443 - val_loss: 0.2122\n",
      "Epoch 40/100\n",
      "1181/1181 [==============================] - 14s 12ms/step - loss: 0.2467 - val_loss: 0.2346\n",
      "Epoch 41/100\n",
      "1181/1181 [==============================] - 14s 12ms/step - loss: 0.2236 - val_loss: 0.1981\n",
      "Epoch 42/100\n",
      "1181/1181 [==============================] - 14s 12ms/step - loss: 0.2313 - val_loss: 0.2524\n",
      "Epoch 43/100\n",
      "1181/1181 [==============================] - 13s 11ms/step - loss: 0.2431 - val_loss: 0.2211\n",
      "Epoch 44/100\n",
      "1181/1181 [==============================] - 15s 13ms/step - loss: 0.2224 - val_loss: 0.1846\n",
      "Epoch 45/100\n",
      "1181/1181 [==============================] - 15s 13ms/step - loss: 0.2320 - val_loss: 0.2180\n",
      "Epoch 46/100\n",
      "1181/1181 [==============================] - 14s 12ms/step - loss: 0.2191 - val_loss: 0.2187\n",
      "Epoch 47/100\n",
      "1181/1181 [==============================] - 13s 11ms/step - loss: 0.2234 - val_loss: 0.2151\n",
      "Epoch 48/100\n",
      "1181/1181 [==============================] - 13s 11ms/step - loss: 0.2239 - val_loss: 0.1843\n",
      "Epoch 49/100\n",
      "1181/1181 [==============================] - 13s 11ms/step - loss: 0.2209 - val_loss: 0.2147\n",
      "Epoch 50/100\n",
      "1181/1181 [==============================] - 13s 11ms/step - loss: 0.2136 - val_loss: 0.1857\n",
      "Epoch 51/100\n",
      "1181/1181 [==============================] - 13s 11ms/step - loss: 0.2247 - val_loss: 0.1836\n",
      "Epoch 52/100\n",
      "1181/1181 [==============================] - 13s 11ms/step - loss: 0.2177 - val_loss: 0.1959\n",
      "Epoch 53/100\n",
      "1181/1181 [==============================] - 13s 11ms/step - loss: 0.2284 - val_loss: 0.2083\n",
      "Epoch 54/100\n",
      "1181/1181 [==============================] - 13s 11ms/step - loss: 0.2158 - val_loss: 0.1811\n",
      "Epoch 55/100\n",
      "1181/1181 [==============================] - 13s 11ms/step - loss: 0.2147 - val_loss: 0.1885\n",
      "Epoch 56/100\n",
      "1181/1181 [==============================] - 13s 11ms/step - loss: 0.2228 - val_loss: 0.1898\n",
      "Epoch 57/100\n",
      "1181/1181 [==============================] - 13s 11ms/step - loss: 0.2107 - val_loss: 0.1974\n",
      "Epoch 58/100\n",
      "1181/1181 [==============================] - 13s 11ms/step - loss: 0.2138 - val_loss: 0.1776\n",
      "Epoch 59/100\n",
      "1181/1181 [==============================] - 13s 11ms/step - loss: 0.2201 - val_loss: 0.1846\n",
      "Epoch 60/100\n",
      "1181/1181 [==============================] - 13s 11ms/step - loss: 0.2082 - val_loss: 0.2030\n",
      "Epoch 61/100\n",
      "1181/1181 [==============================] - 13s 11ms/step - loss: 0.2231 - val_loss: 0.1834\n",
      "Epoch 62/100\n",
      "1181/1181 [==============================] - 13s 11ms/step - loss: 0.2221 - val_loss: 0.1772\n",
      "Epoch 63/100\n",
      "1181/1181 [==============================] - 13s 11ms/step - loss: 0.2082 - val_loss: 0.1777\n",
      "Epoch 64/100\n",
      "1181/1181 [==============================] - 13s 11ms/step - loss: 0.2221 - val_loss: 0.1869\n",
      "Epoch 65/100\n",
      "1181/1181 [==============================] - 13s 11ms/step - loss: 0.2093 - val_loss: 0.1703\n",
      "Epoch 66/100\n",
      "1181/1181 [==============================] - 19s 16ms/step - loss: 0.2067 - val_loss: 0.1717\n",
      "Epoch 67/100\n",
      "1181/1181 [==============================] - 23s 19ms/step - loss: 0.2005 - val_loss: 0.1764\n",
      "Epoch 68/100\n",
      "1181/1181 [==============================] - 43s 37ms/step - loss: 0.2136 - val_loss: 0.1833\n",
      "Epoch 69/100\n",
      "1181/1181 [==============================] - 23s 19ms/step - loss: 0.1979 - val_loss: 0.1666\n",
      "Epoch 70/100\n",
      "1181/1181 [==============================] - 35s 30ms/step - loss: 0.1996 - val_loss: 0.1680\n",
      "Epoch 71/100\n",
      "1181/1181 [==============================] - 22s 19ms/step - loss: 0.2033 - val_loss: 0.1716\n",
      "Epoch 72/100\n",
      "1181/1181 [==============================] - 322s 273ms/step - loss: 0.1971 - val_loss: 0.1628\n",
      "Epoch 73/100\n",
      "1181/1181 [==============================] - 13s 11ms/step - loss: 0.1928 - val_loss: 0.1745\n",
      "Epoch 74/100\n",
      "1181/1181 [==============================] - 13s 11ms/step - loss: 0.1962 - val_loss: 0.1901\n",
      "Epoch 75/100\n",
      "1181/1181 [==============================] - 13s 11ms/step - loss: 0.1990 - val_loss: 0.1587\n",
      "Epoch 76/100\n",
      "1181/1181 [==============================] - 938s 795ms/step - loss: 0.2002 - val_loss: 0.1748\n",
      "Epoch 77/100\n",
      "1181/1181 [==============================] - 13s 11ms/step - loss: 0.1994 - val_loss: 0.1728\n",
      "Epoch 78/100\n",
      "1181/1181 [==============================] - 13s 11ms/step - loss: 0.2023 - val_loss: 0.1655\n",
      "Epoch 79/100\n",
      "1181/1181 [==============================] - 13s 11ms/step - loss: 0.1989 - val_loss: 0.1692\n",
      "Epoch 80/100\n",
      "1181/1181 [==============================] - 13s 11ms/step - loss: 0.1928 - val_loss: 0.1571\n",
      "Epoch 81/100\n",
      "1181/1181 [==============================] - 12s 11ms/step - loss: 0.1920 - val_loss: 0.1609\n",
      "Epoch 82/100\n",
      "1181/1181 [==============================] - 13s 11ms/step - loss: 0.1928 - val_loss: 0.1960\n",
      "Epoch 83/100\n",
      "1181/1181 [==============================] - 13s 11ms/step - loss: 0.1906 - val_loss: 0.1552\n",
      "Epoch 84/100\n",
      "1181/1181 [==============================] - 13s 11ms/step - loss: 0.1931 - val_loss: 0.1737\n",
      "Epoch 85/100\n",
      "1181/1181 [==============================] - 13s 11ms/step - loss: 0.1975 - val_loss: 0.1519\n",
      "Epoch 86/100\n",
      "1181/1181 [==============================] - 486s 412ms/step - loss: 0.1915 - val_loss: 0.1638\n",
      "Epoch 87/100\n",
      "1181/1181 [==============================] - 13s 11ms/step - loss: 0.1882 - val_loss: 0.1515\n",
      "Epoch 88/100\n",
      "1181/1181 [==============================] - 13s 11ms/step - loss: 0.1887 - val_loss: 0.1733\n",
      "Epoch 89/100\n",
      "1181/1181 [==============================] - 13s 11ms/step - loss: 0.1998 - val_loss: 0.1745\n",
      "Epoch 90/100\n",
      "1181/1181 [==============================] - 13s 11ms/step - loss: 0.1987 - val_loss: 0.1670\n",
      "Epoch 91/100\n",
      "1181/1181 [==============================] - 13s 11ms/step - loss: 0.1874 - val_loss: 0.1596\n",
      "Epoch 92/100\n",
      "1181/1181 [==============================] - 13s 11ms/step - loss: 0.1861 - val_loss: 0.1649\n",
      "Epoch 93/100\n",
      "1181/1181 [==============================] - 13s 11ms/step - loss: 0.1807 - val_loss: 0.1678\n",
      "Epoch 94/100\n",
      "1181/1181 [==============================] - 13s 11ms/step - loss: 0.1871 - val_loss: 0.1578\n",
      "Epoch 95/100\n",
      "1181/1181 [==============================] - 13s 11ms/step - loss: 0.1920 - val_loss: 0.1746\n",
      "Epoch 96/100\n",
      "1181/1181 [==============================] - 13s 11ms/step - loss: 0.1955 - val_loss: 0.1634\n",
      "Epoch 97/100\n",
      "1181/1181 [==============================] - 59s 50ms/step - loss: 0.1837 - val_loss: 0.1473\n",
      "Epoch 98/100\n",
      "1181/1181 [==============================] - 13s 11ms/step - loss: 0.1757 - val_loss: 0.1446\n",
      "Epoch 99/100\n",
      "1181/1181 [==============================] - 13s 11ms/step - loss: 0.1780 - val_loss: 0.1650\n",
      "Epoch 100/100\n",
      "1181/1181 [==============================] - 13s 11ms/step - loss: 0.1863 - val_loss: 0.1803\n",
      "1 trained.\n",
      "Epoch 1/100\n"
     ]
    },
    {
     "name": "stderr",
     "output_type": "stream",
     "text": [
      "2023-12-01 10:44:55.028610: I tensorflow/core/grappler/optimizers/custom_graph_optimizer_registry.cc:114] Plugin optimizer for device_type GPU is enabled.\n"
     ]
    },
    {
     "name": "stdout",
     "output_type": "stream",
     "text": [
      "399/399 [==============================] - ETA: 0s - loss: 0.7032"
     ]
    },
    {
     "name": "stderr",
     "output_type": "stream",
     "text": [
      "2023-12-01 10:44:58.602076: I tensorflow/core/grappler/optimizers/custom_graph_optimizer_registry.cc:114] Plugin optimizer for device_type GPU is enabled.\n"
     ]
    },
    {
     "name": "stdout",
     "output_type": "stream",
     "text": [
      "399/399 [==============================] - 8s 18ms/step - loss: 0.7032 - val_loss: 1.1674\n",
      "Epoch 2/100\n",
      "399/399 [==============================] - 7s 17ms/step - loss: 0.6276 - val_loss: 1.1687\n",
      "Epoch 3/100\n",
      "399/399 [==============================] - 7s 17ms/step - loss: 0.6062 - val_loss: 1.4321\n",
      "Epoch 4/100\n",
      "399/399 [==============================] - 7s 17ms/step - loss: 0.5972 - val_loss: 1.3246\n",
      "Epoch 5/100\n",
      "399/399 [==============================] - 7s 17ms/step - loss: 0.5816 - val_loss: 1.2794\n",
      "Epoch 6/100\n",
      "399/399 [==============================] - 7s 17ms/step - loss: 0.5832 - val_loss: 1.2170\n",
      "Epoch 7/100\n",
      "399/399 [==============================] - 7s 17ms/step - loss: 0.5734 - val_loss: 1.3810\n",
      "Epoch 8/100\n",
      "399/399 [==============================] - 7s 17ms/step - loss: 0.5648 - val_loss: 1.2723\n",
      "Epoch 9/100\n",
      "399/399 [==============================] - 7s 17ms/step - loss: 0.5664 - val_loss: 1.3260\n",
      "Epoch 10/100\n",
      "399/399 [==============================] - 7s 17ms/step - loss: 0.5561 - val_loss: 1.4492\n",
      "Epoch 11/100\n",
      "399/399 [==============================] - 7s 17ms/step - loss: 0.5543 - val_loss: 1.3818\n",
      "2 trained.\n",
      "Epoch 1/100\n"
     ]
    },
    {
     "name": "stderr",
     "output_type": "stream",
     "text": [
      "2023-12-01 10:46:10.382367: I tensorflow/core/grappler/optimizers/custom_graph_optimizer_registry.cc:114] Plugin optimizer for device_type GPU is enabled.\n"
     ]
    },
    {
     "name": "stdout",
     "output_type": "stream",
     "text": [
      "260/260 [==============================] - ETA: 0s - loss: 0.6994"
     ]
    },
    {
     "name": "stderr",
     "output_type": "stream",
     "text": [
      "2023-12-01 10:46:12.846111: I tensorflow/core/grappler/optimizers/custom_graph_optimizer_registry.cc:114] Plugin optimizer for device_type GPU is enabled.\n"
     ]
    },
    {
     "name": "stdout",
     "output_type": "stream",
     "text": [
      "260/260 [==============================] - 6s 23ms/step - loss: 0.6994 - val_loss: 1.8029\n",
      "Epoch 2/100\n",
      "260/260 [==============================] - 6s 22ms/step - loss: 0.6099 - val_loss: 1.6037\n",
      "Epoch 3/100\n",
      "260/260 [==============================] - 6s 22ms/step - loss: 0.6015 - val_loss: 1.3108\n",
      "Epoch 4/100\n",
      "260/260 [==============================] - 6s 22ms/step - loss: 0.5878 - val_loss: 1.5311\n",
      "Epoch 5/100\n",
      "260/260 [==============================] - 6s 22ms/step - loss: 0.5808 - val_loss: 1.4801\n",
      "Epoch 6/100\n",
      "260/260 [==============================] - 6s 22ms/step - loss: 0.5796 - val_loss: 1.4379\n",
      "Epoch 7/100\n",
      "260/260 [==============================] - 6s 22ms/step - loss: 0.5738 - val_loss: 1.5859\n",
      "Epoch 8/100\n",
      "260/260 [==============================] - 6s 22ms/step - loss: 0.5664 - val_loss: 1.4341\n",
      "Epoch 9/100\n",
      "260/260 [==============================] - 6s 22ms/step - loss: 0.5636 - val_loss: 1.8232\n",
      "Epoch 10/100\n",
      "260/260 [==============================] - 6s 22ms/step - loss: 0.5630 - val_loss: 1.7739\n",
      "Epoch 11/100\n",
      "260/260 [==============================] - 6s 22ms/step - loss: 0.5584 - val_loss: 1.7822\n",
      "Epoch 12/100\n",
      "260/260 [==============================] - 6s 22ms/step - loss: 0.5526 - val_loss: 1.8873\n",
      "Epoch 13/100\n",
      "260/260 [==============================] - 6s 22ms/step - loss: 0.5613 - val_loss: 1.8649\n",
      "3 trained.\n",
      "Epoch 1/100\n"
     ]
    },
    {
     "name": "stderr",
     "output_type": "stream",
     "text": [
      "2023-12-01 10:47:25.108436: I tensorflow/core/grappler/optimizers/custom_graph_optimizer_registry.cc:114] Plugin optimizer for device_type GPU is enabled.\n"
     ]
    },
    {
     "name": "stdout",
     "output_type": "stream",
     "text": [
      "197/197 [==============================] - ETA: 0s - loss: 0.7616"
     ]
    },
    {
     "name": "stderr",
     "output_type": "stream",
     "text": [
      "2023-12-01 10:47:27.083966: I tensorflow/core/grappler/optimizers/custom_graph_optimizer_registry.cc:114] Plugin optimizer for device_type GPU is enabled.\n"
     ]
    },
    {
     "name": "stdout",
     "output_type": "stream",
     "text": [
      "197/197 [==============================] - 6s 29ms/step - loss: 0.7616 - val_loss: 1.3793\n",
      "Epoch 2/100\n",
      "197/197 [==============================] - 5s 27ms/step - loss: 0.6632 - val_loss: 1.4271\n",
      "Epoch 3/100\n",
      "197/197 [==============================] - 5s 27ms/step - loss: 0.6381 - val_loss: 1.8415\n",
      "Epoch 4/100\n",
      "197/197 [==============================] - 5s 27ms/step - loss: 0.6277 - val_loss: 1.3129\n",
      "Epoch 5/100\n",
      "197/197 [==============================] - 5s 26ms/step - loss: 0.6225 - val_loss: 1.4288\n",
      "Epoch 6/100\n",
      "197/197 [==============================] - 5s 26ms/step - loss: 0.6193 - val_loss: 1.5776\n",
      "Epoch 7/100\n",
      "197/197 [==============================] - 5s 27ms/step - loss: 0.6181 - val_loss: 1.8230\n",
      "Epoch 8/100\n",
      "197/197 [==============================] - 5s 27ms/step - loss: 0.6088 - val_loss: 2.2075\n",
      "Epoch 9/100\n",
      "197/197 [==============================] - 5s 27ms/step - loss: 0.6058 - val_loss: 2.9083\n",
      "Epoch 10/100\n",
      "197/197 [==============================] - 5s 27ms/step - loss: 0.6092 - val_loss: 1.6072\n",
      "Epoch 11/100\n",
      "197/197 [==============================] - 5s 27ms/step - loss: 0.5951 - val_loss: 1.7243\n",
      "Epoch 12/100\n",
      "197/197 [==============================] - 5s 27ms/step - loss: 0.6012 - val_loss: 2.3057\n",
      "Epoch 13/100\n",
      "197/197 [==============================] - 551s 3s/step - loss: 0.5978 - val_loss: 1.8855\n",
      "Epoch 14/100\n",
      "197/197 [==============================] - 7s 36ms/step - loss: 0.5997 - val_loss: 3.0867\n",
      "4 trained.\n",
      "Epoch 1/100\n"
     ]
    },
    {
     "name": "stderr",
     "output_type": "stream",
     "text": [
      "2023-12-01 10:57:46.755060: I tensorflow/core/grappler/optimizers/custom_graph_optimizer_registry.cc:114] Plugin optimizer for device_type GPU is enabled.\n"
     ]
    },
    {
     "name": "stdout",
     "output_type": "stream",
     "text": [
      "159/159 [==============================] - ETA: 0s - loss: 0.7314"
     ]
    },
    {
     "name": "stderr",
     "output_type": "stream",
     "text": [
      "2023-12-01 10:57:48.735386: I tensorflow/core/grappler/optimizers/custom_graph_optimizer_registry.cc:114] Plugin optimizer for device_type GPU is enabled.\n"
     ]
    },
    {
     "name": "stdout",
     "output_type": "stream",
     "text": [
      "159/159 [==============================] - 7s 38ms/step - loss: 0.7314 - val_loss: 1.1808\n",
      "Epoch 2/100\n",
      "159/159 [==============================] - 6s 36ms/step - loss: 0.6377 - val_loss: 2.5052\n",
      "Epoch 3/100\n",
      "159/159 [==============================] - 6s 38ms/step - loss: 0.5990 - val_loss: 1.6441\n",
      "Epoch 4/100\n",
      "159/159 [==============================] - 5s 34ms/step - loss: 0.5899 - val_loss: 1.8941\n",
      "Epoch 5/100\n",
      "159/159 [==============================] - 5s 34ms/step - loss: 0.5844 - val_loss: 1.6528\n",
      "Epoch 6/100\n",
      "159/159 [==============================] - 6s 35ms/step - loss: 0.5774 - val_loss: 2.1690\n",
      "Epoch 7/100\n",
      "159/159 [==============================] - 6s 35ms/step - loss: 0.5673 - val_loss: 2.1882\n",
      "Epoch 8/100\n",
      "159/159 [==============================] - 6s 36ms/step - loss: 0.5657 - val_loss: 2.3412\n",
      "Epoch 9/100\n",
      "159/159 [==============================] - 5s 34ms/step - loss: 0.5664 - val_loss: 2.3529\n",
      "Epoch 10/100\n",
      "159/159 [==============================] - 5s 33ms/step - loss: 0.5608 - val_loss: 2.0378\n",
      "Epoch 11/100\n",
      "159/159 [==============================] - 6s 35ms/step - loss: 0.5575 - val_loss: 2.3392\n",
      "5 trained.\n"
     ]
    }
   ],
   "source": [
    "mond_util.train()"
   ]
  },
  {
   "cell_type": "code",
   "execution_count": 1,
   "metadata": {},
   "outputs": [
    {
     "ename": "NameError",
     "evalue": "name 'mond_util' is not defined",
     "output_type": "error",
     "traceback": [
      "\u001b[0;31m---------------------------------------------------------------------------\u001b[0m",
      "\u001b[0;31mNameError\u001b[0m                                 Traceback (most recent call last)",
      "\u001b[1;32m/Users/amirrezasokhankhosh/Documents/Workstation/testing_adult/mondrian.ipynb Cell 8\u001b[0m line \u001b[0;36m1\n\u001b[0;32m----> <a href='vscode-notebook-cell:/Users/amirrezasokhankhosh/Documents/Workstation/testing_adult/mondrian.ipynb#X10sZmlsZQ%3D%3D?line=0'>1</a>\u001b[0m \u001b[39mfor\u001b[39;00m i \u001b[39min\u001b[39;00m \u001b[39mrange\u001b[39m(\u001b[39mlen\u001b[39m(mond_util\u001b[39m.\u001b[39mhistories)):\n\u001b[1;32m      <a href='vscode-notebook-cell:/Users/amirrezasokhankhosh/Documents/Workstation/testing_adult/mondrian.ipynb#X10sZmlsZQ%3D%3D?line=1'>2</a>\u001b[0m     \u001b[39mif\u001b[39;00m i \u001b[39m==\u001b[39m \u001b[39m0\u001b[39m:\n\u001b[1;32m      <a href='vscode-notebook-cell:/Users/amirrezasokhankhosh/Documents/Workstation/testing_adult/mondrian.ipynb#X10sZmlsZQ%3D%3D?line=2'>3</a>\u001b[0m         plt\u001b[39m.\u001b[39mplot(mond_util\u001b[39m.\u001b[39mhistories[i]\u001b[39m.\u001b[39mhistory[\u001b[39m'\u001b[39m\u001b[39mloss\u001b[39m\u001b[39m'\u001b[39m], label\u001b[39m=\u001b[39m\u001b[39m\"\u001b[39m\u001b[39mOriginal\u001b[39m\u001b[39m\"\u001b[39m)\n",
      "\u001b[0;31mNameError\u001b[0m: name 'mond_util' is not defined"
     ]
    }
   ],
   "source": [
    "for i in range(len(mond_util.histories)):\n",
    "    if i == 0:\n",
    "        plt.plot(mond_util.histories[i].history['loss'], label=\"Original\")\n",
    "    else:\n",
    "        plt.plot(mond_util.histories[i].history['loss'], label=f\"K = {mond_util.k_list[i-1]}\")\n",
    "plt.xlabel(\"Epoch\")\n",
    "plt.ylabel(f\"Train loss\")\n",
    "plt.title(f\"Train loss of {data} per epoch\")\n",
    "plt.legend()\n",
    "plt.show()"
   ]
  },
  {
   "cell_type": "code",
   "execution_count": 23,
   "metadata": {},
   "outputs": [
    {
     "data": {
      "image/png": "[encoded data removed]",
      "text/plain": [
       "<Figure size 640x480 with 1 Axes>"
      ]
     },
     "metadata": {},
     "output_type": "display_data"
    }
   ],
   "source": [
    "for i in range(len(mond_util.histories)):\n",
    "    if i == 0:\n",
    "        plt.plot(mond_util.histories[i].history['val_loss'], label=\"Original\")\n",
    "    else:\n",
    "        plt.plot(mond_util.histories[i].history['val_loss'], label=f\"K = {mond_util.k_list[i-1]}\")\n",
    "plt.xlabel(\"Epoch\")\n",
    "plt.ylabel(\"Validation Accuracy\")\n",
    "plt.title(f\"Validation Accuracy of {data} per epoch\")\n",
    "plt.legend()\n",
    "plt.show()"
   ]
  },
  {
   "cell_type": "code",
   "execution_count": 25,
   "metadata": {},
   "outputs": [
    {
     "name": "stdout",
     "output_type": "stream",
     "text": [
      "Replacing all generalized values...\n"
     ]
    },
    {
     "name": "stderr",
     "output_type": "stream",
     "text": [
      "75555it [00:02, 26753.52it/s]\n"
     ]
    },
    {
     "name": "stdout",
     "output_type": "stream",
     "text": [
      "75555\n",
      "  11/2362 [..............................] - ETA: 12s - loss: 0.1221 "
     ]
    },
    {
     "name": "stderr",
     "output_type": "stream",
     "text": [
      "2023-12-01 11:00:08.659191: I tensorflow/core/grappler/optimizers/custom_graph_optimizer_registry.cc:114] Plugin optimizer for device_type GPU is enabled.\n"
     ]
    },
    {
     "name": "stdout",
     "output_type": "stream",
     "text": [
      "2362/2362 [==============================] - 10s 4ms/step - loss: 0.1803\n",
      "Replacing all generalized values...\n"
     ]
    },
    {
     "name": "stderr",
     "output_type": "stream",
     "text": [
      "75555it [00:02, 27179.75it/s]\n"
     ]
    },
    {
     "name": "stdout",
     "output_type": "stream",
     "text": [
      "75555\n",
      "  24/2362 [..............................] - ETA: 10s - loss: 0.8537"
     ]
    },
    {
     "name": "stderr",
     "output_type": "stream",
     "text": [
      "2023-12-01 11:00:23.266996: I tensorflow/core/grappler/optimizers/custom_graph_optimizer_registry.cc:114] Plugin optimizer for device_type GPU is enabled.\n"
     ]
    },
    {
     "name": "stdout",
     "output_type": "stream",
     "text": [
      "2362/2362 [==============================] - 9s 4ms/step - loss: 1.3818\n",
      "Replacing all generalized values...\n"
     ]
    },
    {
     "name": "stderr",
     "output_type": "stream",
     "text": [
      "75555it [00:02, 27147.65it/s]\n"
     ]
    },
    {
     "name": "stdout",
     "output_type": "stream",
     "text": [
      "75555\n",
      "  24/2362 [..............................] - ETA: 10s - loss: 1.2779"
     ]
    },
    {
     "name": "stderr",
     "output_type": "stream",
     "text": [
      "2023-12-01 11:00:37.872233: I tensorflow/core/grappler/optimizers/custom_graph_optimizer_registry.cc:114] Plugin optimizer for device_type GPU is enabled.\n"
     ]
    },
    {
     "name": "stdout",
     "output_type": "stream",
     "text": [
      "2362/2362 [==============================] - 11s 4ms/step - loss: 1.8649\n",
      "Replacing all generalized values...\n"
     ]
    },
    {
     "name": "stderr",
     "output_type": "stream",
     "text": [
      "75555it [00:02, 27383.35it/s]\n"
     ]
    },
    {
     "name": "stdout",
     "output_type": "stream",
     "text": [
      "75555\n",
      "  24/2362 [..............................] - ETA: 10s - loss: 2.5704"
     ]
    },
    {
     "name": "stderr",
     "output_type": "stream",
     "text": [
      "2023-12-01 11:00:53.415231: I tensorflow/core/grappler/optimizers/custom_graph_optimizer_registry.cc:114] Plugin optimizer for device_type GPU is enabled.\n"
     ]
    },
    {
     "name": "stdout",
     "output_type": "stream",
     "text": [
      "2362/2362 [==============================] - 10s 4ms/step - loss: 3.0867\n",
      "Replacing all generalized values...\n"
     ]
    },
    {
     "name": "stderr",
     "output_type": "stream",
     "text": [
      "75555it [00:02, 27322.65it/s]\n"
     ]
    },
    {
     "name": "stdout",
     "output_type": "stream",
     "text": [
      "75555\n",
      "  23/2362 [..............................] - ETA: 11s - loss: 1.7823"
     ]
    },
    {
     "name": "stderr",
     "output_type": "stream",
     "text": [
      "2023-12-01 11:01:07.939814: I tensorflow/core/grappler/optimizers/custom_graph_optimizer_registry.cc:114] Plugin optimizer for device_type GPU is enabled.\n"
     ]
    },
    {
     "name": "stdout",
     "output_type": "stream",
     "text": [
      "2362/2362 [==============================] - 9s 4ms/step - loss: 2.3392\n",
      "{'Original': 0.180270254611969, 'K = 2': 1.3817890882492065, 'K = 3': 1.8649026155471802, 'K = 4': 3.0866799354553223, 'K = 5': 2.3392457962036133}\n"
     ]
    }
   ],
   "source": [
    "test_accs = {}\n",
    "for i in range(len(mond_util.k_list) + 1):\n",
    "    if i == 0:\n",
    "        mond_util.models[i] = tf.keras.models.load_model(f\"./weights/model_{data}_org.h5\")\n",
    "    else:\n",
    "        mond_util.models[i] = tf.keras.models.load_model(f\"./weights/model_{data}_{k_list[i-1]}.h5\")\n",
    "    X, y = mond_util.features[i]\n",
    "    _, X_test, y_test = encodeNonAnonData(data, f\"/Users/amirrezasokhankhosh/Documents/Workstation/testing_adult/data/{data}/test.csv\")\n",
    "    res = mond_util.models[i].evaluate(X_test, y_test)\n",
    "    if i == 0:\n",
    "        test_accs[\"Original\"] = res\n",
    "    else:\n",
    "        test_accs[f\"K = {k_list[i-1]}\"] = res\n",
    "print(test_accs)"
   ]
  },
  {
   "cell_type": "code",
   "execution_count": null,
   "metadata": {},
   "outputs": [
    {
     "data": {
      "text/plain": [
       "<BarContainer object of 3 artists>"
      ]
     },
     "execution_count": 11,
     "metadata": {},
     "output_type": "execute_result"
    },
    {
     "data": {
      "image/png": "[encoded data removed]",
      "text/plain": [
       "<Figure size 640x480 with 1 Axes>"
      ]
     },
     "metadata": {},
     "output_type": "display_data"
    }
   ],
   "source": [
    "names = [\"Original\"] + [f\"K = {k}\" for k in k_list]\n",
    "height = [test_accs[name] for name in names]\n",
    "plt.bar(names, height)"
   ]
  },
  {
   "cell_type": "code",
   "execution_count": 111,
   "metadata": {},
   "outputs": [
    {
     "name": "stdout",
     "output_type": "stream",
     "text": [
      "Replacing all generalized values...\n"
     ]
    },
    {
     "name": "stderr",
     "output_type": "stream",
     "text": [
      "861it [00:00, 28388.46it/s]"
     ]
    },
    {
     "name": "stdout",
     "output_type": "stream",
     "text": [
      "27/27 [==============================] - 0s 3ms/step\n",
      "0.6817690143297375\n"
     ]
    },
    {
     "name": "stderr",
     "output_type": "stream",
     "text": [
      "\n",
      "2023-11-26 23:44:30.772430: I tensorflow/core/grappler/optimizers/custom_graph_optimizer_registry.cc:114] Plugin optimizer for device_type GPU is enabled.\n"
     ]
    },
    {
     "name": "stdout",
     "output_type": "stream",
     "text": [
      "Replacing all generalized values...\n"
     ]
    },
    {
     "name": "stderr",
     "output_type": "stream",
     "text": [
      "861it [00:00, 28405.43it/s]"
     ]
    },
    {
     "name": "stdout",
     "output_type": "stream",
     "text": [
      "27/27 [==============================] - 0s 3ms/step\n",
      "0.67082258735795\n"
     ]
    },
    {
     "name": "stderr",
     "output_type": "stream",
     "text": [
      "\n",
      "2023-11-26 23:44:31.025067: I tensorflow/core/grappler/optimizers/custom_graph_optimizer_registry.cc:114] Plugin optimizer for device_type GPU is enabled.\n"
     ]
    },
    {
     "name": "stdout",
     "output_type": "stream",
     "text": [
      "Replacing all generalized values...\n"
     ]
    },
    {
     "name": "stderr",
     "output_type": "stream",
     "text": [
      "861it [00:00, 28371.73it/s]"
     ]
    },
    {
     "name": "stdout",
     "output_type": "stream",
     "text": [
      "27/27 [==============================] - 0s 3ms/step\n"
     ]
    },
    {
     "name": "stderr",
     "output_type": "stream",
     "text": [
      "\n",
      "2023-11-26 23:44:31.295302: I tensorflow/core/grappler/optimizers/custom_graph_optimizer_registry.cc:114] Plugin optimizer for device_type GPU is enabled.\n"
     ]
    },
    {
     "name": "stdout",
     "output_type": "stream",
     "text": [
      "0.7012329333814965\n",
      "Replacing all generalized values...\n"
     ]
    },
    {
     "name": "stderr",
     "output_type": "stream",
     "text": [
      "861it [00:00, 27209.06it/s]"
     ]
    },
    {
     "name": "stdout",
     "output_type": "stream",
     "text": [
      "27/27 [==============================] - 0s 3ms/step\n"
     ]
    },
    {
     "name": "stderr",
     "output_type": "stream",
     "text": [
      "\n",
      "2023-11-26 23:44:31.577586: I tensorflow/core/grappler/optimizers/custom_graph_optimizer_registry.cc:114] Plugin optimizer for device_type GPU is enabled.\n"
     ]
    },
    {
     "name": "stdout",
     "output_type": "stream",
     "text": [
      "0.6588048663843884\n",
      "Replacing all generalized values...\n"
     ]
    },
    {
     "name": "stderr",
     "output_type": "stream",
     "text": [
      "861it [00:00, 28359.70it/s]"
     ]
    },
    {
     "name": "stdout",
     "output_type": "stream",
     "text": [
      "27/27 [==============================] - 0s 3ms/step\n"
     ]
    },
    {
     "name": "stderr",
     "output_type": "stream",
     "text": [
      "\n",
      "2023-11-26 23:44:31.844527: I tensorflow/core/grappler/optimizers/custom_graph_optimizer_registry.cc:114] Plugin optimizer for device_type GPU is enabled.\n"
     ]
    },
    {
     "name": "stdout",
     "output_type": "stream",
     "text": [
      "0.683367511010111\n",
      "Replacing all generalized values...\n"
     ]
    },
    {
     "name": "stderr",
     "output_type": "stream",
     "text": [
      "861it [00:00, 28395.38it/s]"
     ]
    },
    {
     "name": "stdout",
     "output_type": "stream",
     "text": [
      "27/27 [==============================] - 0s 3ms/step\n"
     ]
    },
    {
     "name": "stderr",
     "output_type": "stream",
     "text": [
      "\n",
      "2023-11-26 23:44:32.105572: I tensorflow/core/grappler/optimizers/custom_graph_optimizer_registry.cc:114] Plugin optimizer for device_type GPU is enabled.\n"
     ]
    },
    {
     "name": "stdout",
     "output_type": "stream",
     "text": [
      "0.6657236902228004\n",
      "Replacing all generalized values...\n"
     ]
    },
    {
     "name": "stderr",
     "output_type": "stream",
     "text": [
      "861it [00:00, 28650.39it/s]"
     ]
    },
    {
     "name": "stdout",
     "output_type": "stream",
     "text": [
      "27/27 [==============================] - 0s 3ms/step\n"
     ]
    },
    {
     "name": "stderr",
     "output_type": "stream",
     "text": [
      "\n",
      "2023-11-26 23:44:32.378703: I tensorflow/core/grappler/optimizers/custom_graph_optimizer_registry.cc:114] Plugin optimizer for device_type GPU is enabled.\n"
     ]
    },
    {
     "name": "stdout",
     "output_type": "stream",
     "text": [
      "0.6836894232364615\n",
      "Replacing all generalized values...\n"
     ]
    },
    {
     "name": "stderr",
     "output_type": "stream",
     "text": [
      "861it [00:00, 27425.62it/s]"
     ]
    },
    {
     "name": "stdout",
     "output_type": "stream",
     "text": [
      "27/27 [==============================] - 0s 3ms/step\n"
     ]
    },
    {
     "name": "stderr",
     "output_type": "stream",
     "text": [
      "\n",
      "2023-11-26 23:44:32.635863: I tensorflow/core/grappler/optimizers/custom_graph_optimizer_registry.cc:114] Plugin optimizer for device_type GPU is enabled.\n"
     ]
    },
    {
     "name": "stdout",
     "output_type": "stream",
     "text": [
      "0.7215795586527294\n",
      "Replacing all generalized values...\n"
     ]
    },
    {
     "name": "stderr",
     "output_type": "stream",
     "text": [
      "861it [00:00, 28442.12it/s]"
     ]
    },
    {
     "name": "stdout",
     "output_type": "stream",
     "text": [
      "27/27 [==============================] - 0s 3ms/step\n",
      "0.7264940774116908\n"
     ]
    },
    {
     "name": "stderr",
     "output_type": "stream",
     "text": [
      "\n",
      "2023-11-26 23:44:32.892648: I tensorflow/core/grappler/optimizers/custom_graph_optimizer_registry.cc:114] Plugin optimizer for device_type GPU is enabled.\n"
     ]
    }
   ],
   "source": [
    "from sklearn.metrics import f1_score\n",
    "import numpy as np\n",
    "f1s = {}\n",
    "for i in range(len(mond_util.k_list) + 1):\n",
    "    if i == 0:\n",
    "        mond_util.models[i] = tf.keras.models.load_model(\"./weights/model_org.h5\")\n",
    "    else:\n",
    "        mond_util.models[i] = tf.keras.models.load_model(f\"./weights/model_{k_list[i-1]}.h5\")\n",
    "    X, y = mond_util.features[i]\n",
    "    _, X_test, y_test = encodeNonAnonData(\"occupancy\", \"/Users/amirrezasokhankhosh/Documents/Workstation/testing_adult/data/occupancy/test.csv\")\n",
    "    pred = mond_util.models[i].predict(X_test)\n",
    "    f1 = f1_score(y_test, pred>0.5, average='weighted')\n",
    "    print(f1)\n",
    "    if i == 0:\n",
    "        f1s[\"Original\"] = f1\n",
    "    else:\n",
    "        f1s[f\"K = {k_list[i-1]}\"] = f1\n",
    "# print(f1s)"
   ]
  },
  {
   "cell_type": "code",
   "execution_count": 112,
   "metadata": {},
   "outputs": [
    {
     "data": {
      "text/plain": [
       "<BarContainer object of 9 artists>"
      ]
     },
     "execution_count": 112,
     "metadata": {},
     "output_type": "execute_result"
    },
    {
     "data": {
      "image/png": "[encoded data removed]",
      "text/plain": [
       "<Figure size 640x480 with 1 Axes>"
      ]
     },
     "metadata": {},
     "output_type": "display_data"
    }
   ],
   "source": [
    "names = [\"Original\"] + [f\"K = {k}\" for k in k_list]\n",
    "height = [f1s[name] for name in names]\n",
    "plt.bar(names, height)"
   ]
  },
  {
   "cell_type": "code",
   "execution_count": 16,
   "metadata": {},
   "outputs": [],
   "source": [
    "data = \"texas\"\n",
    "method = \"classic_mondrian\"\n",
    "k_list = [5, 20, 100, 500]\n",
    "epoch_list = [500]"
   ]
  },
  {
   "cell_type": "code",
   "execution_count": 17,
   "metadata": {},
   "outputs": [],
   "source": [
    "class Synthetic_Utility:\n",
    "    def __init__(self, data, method, epoch_list):\n",
    "        self.data = data\n",
    "        self.method = method\n",
    "        self.epoch_list = epoch_list\n",
    "    \n",
    "    def get_features(self):\n",
    "        self.features = []\n",
    "        self.val = []\n",
    "        for epoch in self.epoch_list:\n",
    "            syn_path = f'/Users/amirrezasokhankhosh/Documents/Workstation/testing_adult/synthetic_results/{self.data}_syn_{epoch}.csv'\n",
    "            pr_data_anon, X_anon, y_anon = encodeNonAnonData(self.data, syn_path, is_syn=True)\n",
    "            self.features.append((X_anon, y_anon))\n",
    "            pr_data_anon.to_csv(f\"./pr_synthetic_results/{self.data}_synthetic_{epoch}.csv\", index=False)\n",
    "        _, X_val, y_val = encodeNonAnonData(self.data, f'/Users/amirrezasokhankhosh/Documents/Workstation/testing_adult/data/{self.data}/val.csv')\n",
    "        self.val_data = X_val, y_val\n",
    "\n",
    "    def get_model(self):\n",
    "        self.models = []\n",
    "        for _ in range(len(self.features)):\n",
    "            if self.data == \"texas\":\n",
    "                model = tf.keras.models.Sequential([tf.keras.layers.InputLayer(input_shape=(self.features[0][0].shape[1],)),\n",
    "                    tf.keras.layers.Dense(256, activation='relu'),\n",
    "                    tf.keras.layers.Dropout(0.5),\n",
    "                    tf.keras.layers.Dense(128, activation='relu'),\n",
    "                    tf.keras.layers.Dropout(0.5),\n",
    "                    tf.keras.layers.Dense(64, activation='relu'),\n",
    "                    tf.keras.layers.Dense(32, activation='relu'),\n",
    "                    tf.keras.layers.Dense(1)])\n",
    "            elif self.data == \"adult\":\n",
    "                model = tf.keras.models.Sequential([tf.keras.layers.InputLayer(input_shape=(self.features[0][0].shape[1],)),\n",
    "                    tf.keras.layers.Dense(256, activation='relu'),\n",
    "                    tf.keras.layers.Dropout(0.5),\n",
    "                    tf.keras.layers.Dense(128, activation='relu'),\n",
    "                    tf.keras.layers.Dropout(0.5),\n",
    "                    tf.keras.layers.Dense(64, activation='relu'),\n",
    "                    tf.keras.layers.Dense(32, activation='relu'),\n",
    "                    tf.keras.layers.Dense(1, activation='sigmoid')])\n",
    "            else:\n",
    "                model = tf.keras.models.Sequential([tf.keras.layers.InputLayer(input_shape=(self.features[0][0].shape[1],)),\n",
    "                    tf.keras.layers.Dense(10, activation='relu'),\n",
    "                    tf.keras.layers.Dropout(0.5),\n",
    "                    tf.keras.layers.Dense(4, activation='softmax')])\n",
    "            self.models.append(model)\n",
    "\n",
    "    def compile_models(self):\n",
    "        for i in range(len(self.models)):\n",
    "            if self.data == \"adult\":\n",
    "                self.models[i].compile(optimizer=tf.keras.optimizers.Adam(learning_rate=3e-4),\n",
    "                    loss='binary_crossentropy',\n",
    "                    metrics=[\"accuracy\"])\n",
    "            elif self.data == \"texas\":\n",
    "                self.models[i].compile(optimizer='adam',\n",
    "                    loss='mean_squared_error')\n",
    "            else:\n",
    "                self.models[i].compile(optimizer=tf.keras.optimizers.Adam(learning_rate=3e-4),\n",
    "                    loss='categorical_crossentropy',\n",
    "                    metrics=[\"accuracy\"])\n",
    "\n",
    "    def prepare_training(self):\n",
    "        self.get_features()\n",
    "        self.get_model()\n",
    "        self.compile_models()\n",
    "    \n",
    "    def train(self):\n",
    "        self.histories = []\n",
    "        for i in range(len(self.epoch_list)):\n",
    "            X, y = self.features[i]\n",
    "            callback = tf.keras.callbacks.EarlyStopping(monitor='val_loss', patience=5)\n",
    "            history = self.models[i].fit(X, y, epochs=100, batch_size=64, validation_data=self.val_data, callbacks=[callback])\n",
    "            self.histories.append(history)\n",
    "            self.models[i].save(f\"./syn_weights/model_{self.data}_{epoch_list[i]}.h5\")\n",
    "            print(f\"{i+1} trained.\")\n",
    "\n",
    "    def plot_results(self):\n",
    "        for i in range(len(self.histories)):\n",
    "            if i == 0:\n",
    "                plt.plot(self.histories[i].history['accuracy'], label=\"Original\")\n",
    "            else:\n",
    "                plt.plot(self.histories[i].history['accuracy'], label=f\"K = {self.k_list[i-1]}\")\n",
    "        plt.title(\"Train Accuracy\")\n",
    "        plt.xlabel(\"Epoch\")\n",
    "        plt.ylabel(\"Accuracy\")\n",
    "        plt.legend()\n",
    "        plt.show()\n",
    "            "
   ]
  },
  {
   "cell_type": "code",
   "execution_count": 18,
   "metadata": {},
   "outputs": [],
   "source": [
    "syn_util = Synthetic_Utility(data, method, epoch_list)"
   ]
  },
  {
   "cell_type": "code",
   "execution_count": 19,
   "metadata": {},
   "outputs": [
    {
     "name": "stdout",
     "output_type": "stream",
     "text": [
      "Replacing all generalized values...\n"
     ]
    },
    {
     "name": "stderr",
     "output_type": "stream",
     "text": [
      "75555it [00:02, 26595.91it/s]\n"
     ]
    },
    {
     "name": "stdout",
     "output_type": "stream",
     "text": [
      "Replacing all generalized values...\n"
     ]
    },
    {
     "name": "stderr",
     "output_type": "stream",
     "text": [
      "75555it [00:02, 27081.12it/s]\n"
     ]
    }
   ],
   "source": [
    "syn_util.prepare_training()"
   ]
  },
  {
   "cell_type": "code",
   "execution_count": 20,
   "metadata": {},
   "outputs": [
    {
     "name": "stdout",
     "output_type": "stream",
     "text": [
      "Epoch 1/100\n"
     ]
    },
    {
     "name": "stderr",
     "output_type": "stream",
     "text": [
      "2023-11-28 11:17:08.941003: I tensorflow/core/grappler/optimizers/custom_graph_optimizer_registry.cc:114] Plugin optimizer for device_type GPU is enabled.\n"
     ]
    },
    {
     "name": "stdout",
     "output_type": "stream",
     "text": [
      "1181/1181 [==============================] - ETA: 0s - loss: 1.0034"
     ]
    },
    {
     "name": "stderr",
     "output_type": "stream",
     "text": [
      "2023-11-28 11:17:19.600988: I tensorflow/core/grappler/optimizers/custom_graph_optimizer_registry.cc:114] Plugin optimizer for device_type GPU is enabled.\n"
     ]
    },
    {
     "name": "stdout",
     "output_type": "stream",
     "text": [
      "WARNING:tensorflow:Early stopping conditioned on metric `val_accuracy` which is not available. Available metrics are: loss,val_loss\n",
      "1181/1181 [==============================] - 15s 12ms/step - loss: 1.0034 - val_loss: 1.0012\n",
      "Epoch 2/100\n",
      "1177/1181 [============================>.] - ETA: 0s - loss: 0.9993WARNING:tensorflow:Early stopping conditioned on metric `val_accuracy` which is not available. Available metrics are: loss,val_loss\n",
      "1181/1181 [==============================] - 14s 12ms/step - loss: 1.0007 - val_loss: 0.9997\n",
      "Epoch 3/100\n",
      "1180/1181 [============================>.] - ETA: 0s - loss: 1.0005WARNING:tensorflow:Early stopping conditioned on metric `val_accuracy` which is not available. Available metrics are: loss,val_loss\n",
      "1181/1181 [==============================] - 14s 12ms/step - loss: 1.0004 - val_loss: 1.0026\n",
      "Epoch 4/100\n",
      "1180/1181 [============================>.] - ETA: 0s - loss: 1.0006WARNING:tensorflow:Early stopping conditioned on metric `val_accuracy` which is not available. Available metrics are: loss,val_loss\n",
      "1181/1181 [==============================] - 14s 12ms/step - loss: 1.0003 - val_loss: 1.0012\n",
      "Epoch 5/100\n",
      "1181/1181 [==============================] - ETA: 0s - loss: 1.0002WARNING:tensorflow:Early stopping conditioned on metric `val_accuracy` which is not available. Available metrics are: loss,val_loss\n",
      "1181/1181 [==============================] - 14s 12ms/step - loss: 1.0002 - val_loss: 0.9997\n",
      "Epoch 6/100\n",
      "1178/1181 [============================>.] - ETA: 0s - loss: 0.9997WARNING:tensorflow:Early stopping conditioned on metric `val_accuracy` which is not available. Available metrics are: loss,val_loss\n",
      "1181/1181 [==============================] - 14s 12ms/step - loss: 1.0002 - val_loss: 1.0018\n",
      "Epoch 7/100\n",
      "1181/1181 [==============================] - ETA: 0s - loss: 1.0001WARNING:tensorflow:Early stopping conditioned on metric `val_accuracy` which is not available. Available metrics are: loss,val_loss\n",
      "1181/1181 [==============================] - 14s 12ms/step - loss: 1.0001 - val_loss: 0.9949\n",
      "Epoch 8/100\n",
      "1181/1181 [==============================] - ETA: 0s - loss: 1.0003WARNING:tensorflow:Early stopping conditioned on metric `val_accuracy` which is not available. Available metrics are: loss,val_loss\n",
      "1181/1181 [==============================] - 14s 12ms/step - loss: 1.0003 - val_loss: 1.0028\n",
      "Epoch 9/100\n",
      "1176/1181 [============================>.] - ETA: 0s - loss: 1.0022WARNING:tensorflow:Early stopping conditioned on metric `val_accuracy` which is not available. Available metrics are: loss,val_loss\n",
      "1181/1181 [==============================] - 14s 12ms/step - loss: 1.0001 - val_loss: 0.9991\n",
      "Epoch 10/100\n",
      "1179/1181 [============================>.] - ETA: 0s - loss: 1.0006WARNING:tensorflow:Early stopping conditioned on metric `val_accuracy` which is not available. Available metrics are: loss,val_loss\n",
      "1181/1181 [==============================] - 14s 12ms/step - loss: 1.0000 - val_loss: 1.0015\n",
      "Epoch 11/100\n",
      "1177/1181 [============================>.] - ETA: 0s - loss: 1.0008WARNING:tensorflow:Early stopping conditioned on metric `val_accuracy` which is not available. Available metrics are: loss,val_loss\n",
      "1181/1181 [==============================] - 14s 12ms/step - loss: 0.9996 - val_loss: 1.0071\n",
      "Epoch 12/100\n",
      "1178/1181 [============================>.] - ETA: 0s - loss: 0.9948WARNING:tensorflow:Early stopping conditioned on metric `val_accuracy` which is not available. Available metrics are: loss,val_loss\n",
      "1181/1181 [==============================] - 14s 12ms/step - loss: 0.9997 - val_loss: 1.0051\n",
      "Epoch 13/100\n",
      "1180/1181 [============================>.] - ETA: 0s - loss: 1.0001WARNING:tensorflow:Early stopping conditioned on metric `val_accuracy` which is not available. Available metrics are: loss,val_loss\n",
      "1181/1181 [==============================] - 14s 12ms/step - loss: 0.9997 - val_loss: 1.0017\n",
      "Epoch 14/100\n",
      "1177/1181 [============================>.] - ETA: 0s - loss: 1.0014WARNING:tensorflow:Early stopping conditioned on metric `val_accuracy` which is not available. Available metrics are: loss,val_loss\n",
      "1181/1181 [==============================] - 14s 12ms/step - loss: 0.9993 - val_loss: 1.0028\n",
      "Epoch 15/100\n",
      "1179/1181 [============================>.] - ETA: 0s - loss: 0.9994WARNING:tensorflow:Early stopping conditioned on metric `val_accuracy` which is not available. Available metrics are: loss,val_loss\n",
      "1181/1181 [==============================] - 14s 12ms/step - loss: 0.9992 - val_loss: 1.0068\n",
      "Epoch 16/100\n",
      " 663/1181 [===============>..............] - ETA: 4s - loss: 0.9703"
     ]
    },
    {
     "ename": "KeyboardInterrupt",
     "evalue": "",
     "output_type": "error",
     "traceback": [
      "\u001b[0;31m---------------------------------------------------------------------------\u001b[0m",
      "\u001b[0;31mKeyboardInterrupt\u001b[0m                         Traceback (most recent call last)",
      "\u001b[1;32m/Users/amirrezasokhankhosh/Documents/Workstation/testing_adult/nn.ipynb Cell 24\u001b[0m line \u001b[0;36m1\n\u001b[0;32m----> <a href='vscode-notebook-cell:/Users/amirrezasokhankhosh/Documents/Workstation/testing_adult/nn.ipynb#X31sZmlsZQ%3D%3D?line=0'>1</a>\u001b[0m syn_util\u001b[39m.\u001b[39;49mtrain()\n",
      "\u001b[1;32m/Users/amirrezasokhankhosh/Documents/Workstation/testing_adult/nn.ipynb Cell 24\u001b[0m line \u001b[0;36m7\n\u001b[1;32m     <a href='vscode-notebook-cell:/Users/amirrezasokhankhosh/Documents/Workstation/testing_adult/nn.ipynb#X31sZmlsZQ%3D%3D?line=67'>68</a>\u001b[0m X, y \u001b[39m=\u001b[39m \u001b[39mself\u001b[39m\u001b[39m.\u001b[39mfeatures[i]\n\u001b[1;32m     <a href='vscode-notebook-cell:/Users/amirrezasokhankhosh/Documents/Workstation/testing_adult/nn.ipynb#X31sZmlsZQ%3D%3D?line=68'>69</a>\u001b[0m callback \u001b[39m=\u001b[39m tf\u001b[39m.\u001b[39mkeras\u001b[39m.\u001b[39mcallbacks\u001b[39m.\u001b[39mEarlyStopping(monitor\u001b[39m=\u001b[39m\u001b[39m'\u001b[39m\u001b[39mval_accuracy\u001b[39m\u001b[39m'\u001b[39m, patience\u001b[39m=\u001b[39m\u001b[39m5\u001b[39m)\n\u001b[0;32m---> <a href='vscode-notebook-cell:/Users/amirrezasokhankhosh/Documents/Workstation/testing_adult/nn.ipynb#X31sZmlsZQ%3D%3D?line=69'>70</a>\u001b[0m history \u001b[39m=\u001b[39m \u001b[39mself\u001b[39;49m\u001b[39m.\u001b[39;49mmodels[i]\u001b[39m.\u001b[39;49mfit(X, y, epochs\u001b[39m=\u001b[39;49m\u001b[39m100\u001b[39;49m, batch_size\u001b[39m=\u001b[39;49m\u001b[39m64\u001b[39;49m, validation_data\u001b[39m=\u001b[39;49m\u001b[39mself\u001b[39;49m\u001b[39m.\u001b[39;49mval_data, callbacks\u001b[39m=\u001b[39;49m[callback])\n\u001b[1;32m     <a href='vscode-notebook-cell:/Users/amirrezasokhankhosh/Documents/Workstation/testing_adult/nn.ipynb#X31sZmlsZQ%3D%3D?line=70'>71</a>\u001b[0m \u001b[39mself\u001b[39m\u001b[39m.\u001b[39mhistories\u001b[39m.\u001b[39mappend(history)\n\u001b[1;32m     <a href='vscode-notebook-cell:/Users/amirrezasokhankhosh/Documents/Workstation/testing_adult/nn.ipynb#X31sZmlsZQ%3D%3D?line=71'>72</a>\u001b[0m \u001b[39mself\u001b[39m\u001b[39m.\u001b[39mmodels[i]\u001b[39m.\u001b[39msave(\u001b[39mf\u001b[39m\u001b[39m\"\u001b[39m\u001b[39m./syn_weights/model_\u001b[39m\u001b[39m{\u001b[39;00m\u001b[39mself\u001b[39m\u001b[39m.\u001b[39mdata\u001b[39m}\u001b[39;00m\u001b[39m_\u001b[39m\u001b[39m{\u001b[39;00mepoch_list[i]\u001b[39m}\u001b[39;00m\u001b[39m.h5\u001b[39m\u001b[39m\"\u001b[39m)\n",
      "File \u001b[0;32m~/mambaforge/envs/data-science/lib/python3.10/site-packages/keras/utils/traceback_utils.py:65\u001b[0m, in \u001b[0;36mfilter_traceback.<locals>.error_handler\u001b[0;34m(*args, **kwargs)\u001b[0m\n\u001b[1;32m     63\u001b[0m filtered_tb \u001b[39m=\u001b[39m \u001b[39mNone\u001b[39;00m\n\u001b[1;32m     64\u001b[0m \u001b[39mtry\u001b[39;00m:\n\u001b[0;32m---> 65\u001b[0m     \u001b[39mreturn\u001b[39;00m fn(\u001b[39m*\u001b[39;49margs, \u001b[39m*\u001b[39;49m\u001b[39m*\u001b[39;49mkwargs)\n\u001b[1;32m     66\u001b[0m \u001b[39mexcept\u001b[39;00m \u001b[39mException\u001b[39;00m \u001b[39mas\u001b[39;00m e:\n\u001b[1;32m     67\u001b[0m     filtered_tb \u001b[39m=\u001b[39m _process_traceback_frames(e\u001b[39m.\u001b[39m__traceback__)\n",
      "File \u001b[0;32m~/mambaforge/envs/data-science/lib/python3.10/site-packages/keras/engine/training.py:1564\u001b[0m, in \u001b[0;36mModel.fit\u001b[0;34m(self, x, y, batch_size, epochs, verbose, callbacks, validation_split, validation_data, shuffle, class_weight, sample_weight, initial_epoch, steps_per_epoch, validation_steps, validation_batch_size, validation_freq, max_queue_size, workers, use_multiprocessing)\u001b[0m\n\u001b[1;32m   1556\u001b[0m \u001b[39mwith\u001b[39;00m tf\u001b[39m.\u001b[39mprofiler\u001b[39m.\u001b[39mexperimental\u001b[39m.\u001b[39mTrace(\n\u001b[1;32m   1557\u001b[0m     \u001b[39m\"\u001b[39m\u001b[39mtrain\u001b[39m\u001b[39m\"\u001b[39m,\n\u001b[1;32m   1558\u001b[0m     epoch_num\u001b[39m=\u001b[39mepoch,\n\u001b[0;32m   (...)\u001b[0m\n\u001b[1;32m   1561\u001b[0m     _r\u001b[39m=\u001b[39m\u001b[39m1\u001b[39m,\n\u001b[1;32m   1562\u001b[0m ):\n\u001b[1;32m   1563\u001b[0m     callbacks\u001b[39m.\u001b[39mon_train_batch_begin(step)\n\u001b[0;32m-> 1564\u001b[0m     tmp_logs \u001b[39m=\u001b[39m \u001b[39mself\u001b[39;49m\u001b[39m.\u001b[39;49mtrain_function(iterator)\n\u001b[1;32m   1565\u001b[0m     \u001b[39mif\u001b[39;00m data_handler\u001b[39m.\u001b[39mshould_sync:\n\u001b[1;32m   1566\u001b[0m         context\u001b[39m.\u001b[39masync_wait()\n",
      "File \u001b[0;32m~/mambaforge/envs/data-science/lib/python3.10/site-packages/tensorflow/python/util/traceback_utils.py:150\u001b[0m, in \u001b[0;36mfilter_traceback.<locals>.error_handler\u001b[0;34m(*args, **kwargs)\u001b[0m\n\u001b[1;32m    148\u001b[0m filtered_tb \u001b[39m=\u001b[39m \u001b[39mNone\u001b[39;00m\n\u001b[1;32m    149\u001b[0m \u001b[39mtry\u001b[39;00m:\n\u001b[0;32m--> 150\u001b[0m   \u001b[39mreturn\u001b[39;00m fn(\u001b[39m*\u001b[39;49margs, \u001b[39m*\u001b[39;49m\u001b[39m*\u001b[39;49mkwargs)\n\u001b[1;32m    151\u001b[0m \u001b[39mexcept\u001b[39;00m \u001b[39mException\u001b[39;00m \u001b[39mas\u001b[39;00m e:\n\u001b[1;32m    152\u001b[0m   filtered_tb \u001b[39m=\u001b[39m _process_traceback_frames(e\u001b[39m.\u001b[39m__traceback__)\n",
      "File \u001b[0;32m~/mambaforge/envs/data-science/lib/python3.10/site-packages/tensorflow/python/eager/def_function.py:915\u001b[0m, in \u001b[0;36mFunction.__call__\u001b[0;34m(self, *args, **kwds)\u001b[0m\n\u001b[1;32m    912\u001b[0m compiler \u001b[39m=\u001b[39m \u001b[39m\"\u001b[39m\u001b[39mxla\u001b[39m\u001b[39m\"\u001b[39m \u001b[39mif\u001b[39;00m \u001b[39mself\u001b[39m\u001b[39m.\u001b[39m_jit_compile \u001b[39melse\u001b[39;00m \u001b[39m\"\u001b[39m\u001b[39mnonXla\u001b[39m\u001b[39m\"\u001b[39m\n\u001b[1;32m    914\u001b[0m \u001b[39mwith\u001b[39;00m OptionalXlaContext(\u001b[39mself\u001b[39m\u001b[39m.\u001b[39m_jit_compile):\n\u001b[0;32m--> 915\u001b[0m   result \u001b[39m=\u001b[39m \u001b[39mself\u001b[39;49m\u001b[39m.\u001b[39;49m_call(\u001b[39m*\u001b[39;49margs, \u001b[39m*\u001b[39;49m\u001b[39m*\u001b[39;49mkwds)\n\u001b[1;32m    917\u001b[0m new_tracing_count \u001b[39m=\u001b[39m \u001b[39mself\u001b[39m\u001b[39m.\u001b[39mexperimental_get_tracing_count()\n\u001b[1;32m    918\u001b[0m without_tracing \u001b[39m=\u001b[39m (tracing_count \u001b[39m==\u001b[39m new_tracing_count)\n",
      "File \u001b[0;32m~/mambaforge/envs/data-science/lib/python3.10/site-packages/tensorflow/python/eager/def_function.py:947\u001b[0m, in \u001b[0;36mFunction._call\u001b[0;34m(self, *args, **kwds)\u001b[0m\n\u001b[1;32m    944\u001b[0m   \u001b[39mself\u001b[39m\u001b[39m.\u001b[39m_lock\u001b[39m.\u001b[39mrelease()\n\u001b[1;32m    945\u001b[0m   \u001b[39m# In this case we have created variables on the first call, so we run the\u001b[39;00m\n\u001b[1;32m    946\u001b[0m   \u001b[39m# defunned version which is guaranteed to never create variables.\u001b[39;00m\n\u001b[0;32m--> 947\u001b[0m   \u001b[39mreturn\u001b[39;00m \u001b[39mself\u001b[39;49m\u001b[39m.\u001b[39;49m_stateless_fn(\u001b[39m*\u001b[39;49margs, \u001b[39m*\u001b[39;49m\u001b[39m*\u001b[39;49mkwds)  \u001b[39m# pylint: disable=not-callable\u001b[39;00m\n\u001b[1;32m    948\u001b[0m \u001b[39melif\u001b[39;00m \u001b[39mself\u001b[39m\u001b[39m.\u001b[39m_stateful_fn \u001b[39mis\u001b[39;00m \u001b[39mnot\u001b[39;00m \u001b[39mNone\u001b[39;00m:\n\u001b[1;32m    949\u001b[0m   \u001b[39m# Release the lock early so that multiple threads can perform the call\u001b[39;00m\n\u001b[1;32m    950\u001b[0m   \u001b[39m# in parallel.\u001b[39;00m\n\u001b[1;32m    951\u001b[0m   \u001b[39mself\u001b[39m\u001b[39m.\u001b[39m_lock\u001b[39m.\u001b[39mrelease()\n",
      "File \u001b[0;32m~/mambaforge/envs/data-science/lib/python3.10/site-packages/tensorflow/python/eager/function.py:2496\u001b[0m, in \u001b[0;36mFunction.__call__\u001b[0;34m(self, *args, **kwargs)\u001b[0m\n\u001b[1;32m   2493\u001b[0m \u001b[39mwith\u001b[39;00m \u001b[39mself\u001b[39m\u001b[39m.\u001b[39m_lock:\n\u001b[1;32m   2494\u001b[0m   (graph_function,\n\u001b[1;32m   2495\u001b[0m    filtered_flat_args) \u001b[39m=\u001b[39m \u001b[39mself\u001b[39m\u001b[39m.\u001b[39m_maybe_define_function(args, kwargs)\n\u001b[0;32m-> 2496\u001b[0m \u001b[39mreturn\u001b[39;00m graph_function\u001b[39m.\u001b[39;49m_call_flat(\n\u001b[1;32m   2497\u001b[0m     filtered_flat_args, captured_inputs\u001b[39m=\u001b[39;49mgraph_function\u001b[39m.\u001b[39;49mcaptured_inputs)\n",
      "File \u001b[0;32m~/mambaforge/envs/data-science/lib/python3.10/site-packages/tensorflow/python/eager/function.py:1862\u001b[0m, in \u001b[0;36mConcreteFunction._call_flat\u001b[0;34m(self, args, captured_inputs, cancellation_manager)\u001b[0m\n\u001b[1;32m   1858\u001b[0m possible_gradient_type \u001b[39m=\u001b[39m gradients_util\u001b[39m.\u001b[39mPossibleTapeGradientTypes(args)\n\u001b[1;32m   1859\u001b[0m \u001b[39mif\u001b[39;00m (possible_gradient_type \u001b[39m==\u001b[39m gradients_util\u001b[39m.\u001b[39mPOSSIBLE_GRADIENT_TYPES_NONE\n\u001b[1;32m   1860\u001b[0m     \u001b[39mand\u001b[39;00m executing_eagerly):\n\u001b[1;32m   1861\u001b[0m   \u001b[39m# No tape is watching; skip to running the function.\u001b[39;00m\n\u001b[0;32m-> 1862\u001b[0m   \u001b[39mreturn\u001b[39;00m \u001b[39mself\u001b[39m\u001b[39m.\u001b[39m_build_call_outputs(\u001b[39mself\u001b[39;49m\u001b[39m.\u001b[39;49m_inference_function\u001b[39m.\u001b[39;49mcall(\n\u001b[1;32m   1863\u001b[0m       ctx, args, cancellation_manager\u001b[39m=\u001b[39;49mcancellation_manager))\n\u001b[1;32m   1864\u001b[0m forward_backward \u001b[39m=\u001b[39m \u001b[39mself\u001b[39m\u001b[39m.\u001b[39m_select_forward_and_backward_functions(\n\u001b[1;32m   1865\u001b[0m     args,\n\u001b[1;32m   1866\u001b[0m     possible_gradient_type,\n\u001b[1;32m   1867\u001b[0m     executing_eagerly)\n\u001b[1;32m   1868\u001b[0m forward_function, args_with_tangents \u001b[39m=\u001b[39m forward_backward\u001b[39m.\u001b[39mforward()\n",
      "File \u001b[0;32m~/mambaforge/envs/data-science/lib/python3.10/site-packages/tensorflow/python/eager/function.py:499\u001b[0m, in \u001b[0;36m_EagerDefinedFunction.call\u001b[0;34m(self, ctx, args, cancellation_manager)\u001b[0m\n\u001b[1;32m    497\u001b[0m \u001b[39mwith\u001b[39;00m _InterpolateFunctionError(\u001b[39mself\u001b[39m):\n\u001b[1;32m    498\u001b[0m   \u001b[39mif\u001b[39;00m cancellation_manager \u001b[39mis\u001b[39;00m \u001b[39mNone\u001b[39;00m:\n\u001b[0;32m--> 499\u001b[0m     outputs \u001b[39m=\u001b[39m execute\u001b[39m.\u001b[39;49mexecute(\n\u001b[1;32m    500\u001b[0m         \u001b[39mstr\u001b[39;49m(\u001b[39mself\u001b[39;49m\u001b[39m.\u001b[39;49msignature\u001b[39m.\u001b[39;49mname),\n\u001b[1;32m    501\u001b[0m         num_outputs\u001b[39m=\u001b[39;49m\u001b[39mself\u001b[39;49m\u001b[39m.\u001b[39;49m_num_outputs,\n\u001b[1;32m    502\u001b[0m         inputs\u001b[39m=\u001b[39;49margs,\n\u001b[1;32m    503\u001b[0m         attrs\u001b[39m=\u001b[39;49mattrs,\n\u001b[1;32m    504\u001b[0m         ctx\u001b[39m=\u001b[39;49mctx)\n\u001b[1;32m    505\u001b[0m   \u001b[39melse\u001b[39;00m:\n\u001b[1;32m    506\u001b[0m     outputs \u001b[39m=\u001b[39m execute\u001b[39m.\u001b[39mexecute_with_cancellation(\n\u001b[1;32m    507\u001b[0m         \u001b[39mstr\u001b[39m(\u001b[39mself\u001b[39m\u001b[39m.\u001b[39msignature\u001b[39m.\u001b[39mname),\n\u001b[1;32m    508\u001b[0m         num_outputs\u001b[39m=\u001b[39m\u001b[39mself\u001b[39m\u001b[39m.\u001b[39m_num_outputs,\n\u001b[0;32m   (...)\u001b[0m\n\u001b[1;32m    511\u001b[0m         ctx\u001b[39m=\u001b[39mctx,\n\u001b[1;32m    512\u001b[0m         cancellation_manager\u001b[39m=\u001b[39mcancellation_manager)\n",
      "File \u001b[0;32m~/mambaforge/envs/data-science/lib/python3.10/site-packages/tensorflow/python/eager/execute.py:54\u001b[0m, in \u001b[0;36mquick_execute\u001b[0;34m(op_name, num_outputs, inputs, attrs, ctx, name)\u001b[0m\n\u001b[1;32m     52\u001b[0m \u001b[39mtry\u001b[39;00m:\n\u001b[1;32m     53\u001b[0m   ctx\u001b[39m.\u001b[39mensure_initialized()\n\u001b[0;32m---> 54\u001b[0m   tensors \u001b[39m=\u001b[39m pywrap_tfe\u001b[39m.\u001b[39;49mTFE_Py_Execute(ctx\u001b[39m.\u001b[39;49m_handle, device_name, op_name,\n\u001b[1;32m     55\u001b[0m                                       inputs, attrs, num_outputs)\n\u001b[1;32m     56\u001b[0m \u001b[39mexcept\u001b[39;00m core\u001b[39m.\u001b[39m_NotOkStatusException \u001b[39mas\u001b[39;00m e:\n\u001b[1;32m     57\u001b[0m   \u001b[39mif\u001b[39;00m name \u001b[39mis\u001b[39;00m \u001b[39mnot\u001b[39;00m \u001b[39mNone\u001b[39;00m:\n",
      "\u001b[0;31mKeyboardInterrupt\u001b[0m: "
     ]
    }
   ],
   "source": [
    "syn_util.train()"
   ]
  }
 ],
 "metadata": {
  "kernelspec": {
   "display_name": "data-science",
   "language": "python",
   "name": "python3"
  },
  "language_info": {
   "codemirror_mode": {
    "name": "ipython",
    "version": 3
   },
   "file_extension": ".py",
   "mimetype": "text/x-python",
   "name": "python",
   "nbconvert_exporter": "python",
   "pygments_lexer": "ipython3",
   "version": "3.10.6"
  }
 },
 "nbformat": 4,
 "nbformat_minor": 2
}
