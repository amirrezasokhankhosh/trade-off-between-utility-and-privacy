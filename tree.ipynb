{
 "cells": [
  {
   "cell_type": "code",
   "execution_count": 9,
   "metadata": {},
   "outputs": [],
   "source": [
    "import tensorflow as tf\n",
    "import matplotlib.pyplot as plt\n",
    "import os\n",
    "os.chdir(\"/Users/amirrezasokhankhosh/Documents/Workstation/testing_adult/privacy/\")\n",
    "from privacy.encode import encodeData, encodeNonAnonData\n",
    "os.chdir(\"/Users/amirrezasokhankhosh/Documents/Workstation/testing_adult/\")\n",
    "from sklearn.tree import DecisionTreeClassifier\n",
    "import pickle"
   ]
  },
  {
   "cell_type": "code",
   "execution_count": 10,
   "metadata": {},
   "outputs": [],
   "source": [
    "data = \"occupancy\"\n",
    "method = \"classic_mondrian\"\n",
    "k_list = [5, 100, 250, 500, 750, 1000, 2000]"
   ]
  },
  {
   "cell_type": "code",
   "execution_count": 11,
   "metadata": {},
   "outputs": [],
   "source": [
    "class Mondrian_Utility:\n",
    "    def __init__(self, data, method, k_list):\n",
    "        self.data = data\n",
    "        self.method = method\n",
    "        self.k_list = k_list\n",
    "    \n",
    "    def anonymize(self):\n",
    "        for k in self.k_list:\n",
    "            os.system(f'python privacy/anonymize.py --method={self.method} --k={k} --dataset={self.data}')\n",
    "    \n",
    "    def get_features(self):\n",
    "        self.features = []\n",
    "        for k in self.k_list:\n",
    "            pr_data, X_org, y_org, pr_data_anon, X_anon, y_anon = encodeData(self.data, self.method, k)\n",
    "            if not len(self.features):\n",
    "                self.features.append((X_org, y_org))\n",
    "                pr_data.to_csv(f\"./pr_mondrian_results/{self.data}_anonymized_org.csv\", index=False)\n",
    "            self.features.append((X_anon, y_anon))\n",
    "            pr_data_anon.to_csv(f\"./pr_mondrian_results/{self.data}_anonymized_{k}.csv\", index=False)\n",
    "\n",
    "    def get_model(self):\n",
    "        self.models = []\n",
    "        for _ in range(len(self.features)):\n",
    "            model = DecisionTreeClassifier(max_depth=5)\n",
    "            self.models.append(model)\n",
    "\n",
    "    def prepare_training(self):\n",
    "        self.anonymize()\n",
    "        self.get_features()\n",
    "        self.get_model()\n",
    "    \n",
    "    def train(self):\n",
    "        for i in range(len(self.k_list) + 1):\n",
    "            X, y = self.features[i]\n",
    "            self.models[i].fit(X, y)\n",
    "            if i == 0:\n",
    "                pickle.dump(self.models[i], open(\"./weights/tree_org.sav\", 'wb'))\n",
    "            else:\n",
    "                pickle.dump(self.models[i], open(f\"./weights/tree_{k_list[i-1]}.sav\", 'wb'))\n",
    "            print(f\"{i+1} trained.\")\n",
    "\n",
    "    \n",
    "    def test(self):\n",
    "        test_accs = []\n",
    "        for i in range(len(self.k_list) + 1):\n",
    "            if i == 0:\n",
    "                self.models[i] = pickle.load(open(\"./weights/tree_org.sav\", 'rb'))\n",
    "            else:\n",
    "                self.models[i] = pickle.load(open(f\"./weights/tree_{k_list[i-1]}.sav\", 'rb'))\n",
    "            _, X_test, y_test = encodeNonAnonData(\"occupancy\", \"/Users/amirrezasokhankhosh/Documents/Workstation/testing_adult/data/occupancy/test.csv\")\n",
    "            result = self.models[i].score(X_test, y_test)\n",
    "            test_accs.append(result)\n",
    "        return test_accs\n",
    "            "
   ]
  },
  {
   "cell_type": "code",
   "execution_count": 12,
   "metadata": {},
   "outputs": [],
   "source": [
    "mond_util = Mondrian_Utility(data, method, k_list)"
   ]
  },
  {
   "cell_type": "code",
   "execution_count": 13,
   "metadata": {},
   "outputs": [
    {
     "name": "stdout",
     "output_type": "stream",
     "text": [
      "Anonymize with classic_mondrian\n",
      "NCP score (lower is better): 0.049\n",
      "CAVG score (near 1 is better): BEFORE: 0.200 || AFTER: 1.441\n",
      "DM score (lower is better): BEFORE: 60031504 || AFTER: 69334\n",
      "Time execution: 0.163s\n",
      "Anonymize with classic_mondrian\n",
      "NCP score (lower is better): 0.230\n",
      "CAVG score (near 1 is better): BEFORE: 0.010 || AFTER: 1.435\n",
      "DM score (lower is better): BEFORE: 60031504 || AFTER: 1200692\n",
      "Time execution: 0.046s\n",
      "Anonymize with classic_mondrian\n",
      "NCP score (lower is better): 0.366\n",
      "CAVG score (near 1 is better): BEFORE: 0.004 || AFTER: 1.550\n",
      "DM score (lower is better): BEFORE: 60031504 || AFTER: 3117754\n",
      "Time execution: 0.037s\n",
      "Anonymize with classic_mondrian\n",
      "NCP score (lower is better): 0.459\n",
      "CAVG score (near 1 is better): BEFORE: 0.002 || AFTER: 1.550\n",
      "DM score (lower is better): BEFORE: 60031504 || AFTER: 6194134\n",
      "Time execution: 0.026s\n",
      "Anonymize with classic_mondrian\n",
      "NCP score (lower is better): 0.500\n",
      "CAVG score (near 1 is better): BEFORE: 0.001 || AFTER: 1.291\n",
      "DM score (lower is better): BEFORE: 60031504 || AFTER: 7773468\n",
      "Time execution: 0.028s\n",
      "Anonymize with classic_mondrian\n",
      "NCP score (lower is better): 0.529\n",
      "CAVG score (near 1 is better): BEFORE: 0.001 || AFTER: 1.291\n",
      "DM score (lower is better): BEFORE: 60031504 || AFTER: 10435876\n",
      "Time execution: 0.025s\n",
      "Anonymize with classic_mondrian\n",
      "NCP score (lower is better): 0.663\n",
      "CAVG score (near 1 is better): BEFORE: 0.001 || AFTER: 1.291\n",
      "DM score (lower is better): BEFORE: 60031504 || AFTER: 20827624\n",
      "Time execution: 0.019s\n",
      "Replacing all generalized values...\n"
     ]
    },
    {
     "name": "stderr",
     "output_type": "stream",
     "text": [
      "7748it [00:00, 26038.72it/s]\n"
     ]
    },
    {
     "name": "stdout",
     "output_type": "stream",
     "text": [
      "Replacing all generalized values...\n"
     ]
    },
    {
     "name": "stderr",
     "output_type": "stream",
     "text": [
      "7748it [00:00, 25303.80it/s]\n"
     ]
    },
    {
     "name": "stdout",
     "output_type": "stream",
     "text": [
      "Replacing all generalized values...\n"
     ]
    },
    {
     "name": "stderr",
     "output_type": "stream",
     "text": [
      "7748it [00:00, 25605.19it/s]\n"
     ]
    },
    {
     "name": "stdout",
     "output_type": "stream",
     "text": [
      "Replacing all generalized values...\n"
     ]
    },
    {
     "name": "stderr",
     "output_type": "stream",
     "text": [
      "7748it [00:00, 25962.19it/s]\n"
     ]
    },
    {
     "name": "stdout",
     "output_type": "stream",
     "text": [
      "Replacing all generalized values...\n"
     ]
    },
    {
     "name": "stderr",
     "output_type": "stream",
     "text": [
      "7748it [00:00, 25954.64it/s]\n"
     ]
    },
    {
     "name": "stdout",
     "output_type": "stream",
     "text": [
      "Replacing all generalized values...\n"
     ]
    },
    {
     "name": "stderr",
     "output_type": "stream",
     "text": [
      "7748it [00:00, 25620.43it/s]\n"
     ]
    },
    {
     "name": "stdout",
     "output_type": "stream",
     "text": [
      "Replacing all generalized values...\n"
     ]
    },
    {
     "name": "stderr",
     "output_type": "stream",
     "text": [
      "7748it [00:00, 24642.91it/s]\n"
     ]
    }
   ],
   "source": [
    "mond_util.prepare_training()"
   ]
  },
  {
   "cell_type": "code",
   "execution_count": 14,
   "metadata": {},
   "outputs": [
    {
     "name": "stdout",
     "output_type": "stream",
     "text": [
      "1 trained.\n",
      "2 trained.\n",
      "3 trained.\n",
      "4 trained.\n",
      "5 trained.\n",
      "6 trained.\n",
      "7 trained.\n",
      "8 trained.\n"
     ]
    }
   ],
   "source": [
    "mond_util.train()"
   ]
  },
  {
   "cell_type": "code",
   "execution_count": 16,
   "metadata": {},
   "outputs": [
    {
     "name": "stdout",
     "output_type": "stream",
     "text": [
      "Replacing all generalized values...\n"
     ]
    },
    {
     "name": "stderr",
     "output_type": "stream",
     "text": [
      "861it [00:00, 28509.25it/s]\n"
     ]
    },
    {
     "name": "stdout",
     "output_type": "stream",
     "text": [
      "Replacing all generalized values...\n"
     ]
    },
    {
     "name": "stderr",
     "output_type": "stream",
     "text": [
      "861it [00:00, 29572.42it/s]\n"
     ]
    },
    {
     "name": "stdout",
     "output_type": "stream",
     "text": [
      "Replacing all generalized values...\n"
     ]
    },
    {
     "name": "stderr",
     "output_type": "stream",
     "text": [
      "861it [00:00, 29666.20it/s]\n"
     ]
    },
    {
     "name": "stdout",
     "output_type": "stream",
     "text": [
      "Replacing all generalized values...\n"
     ]
    },
    {
     "name": "stderr",
     "output_type": "stream",
     "text": [
      "861it [00:00, 27309.06it/s]\n"
     ]
    },
    {
     "name": "stdout",
     "output_type": "stream",
     "text": [
      "Replacing all generalized values...\n"
     ]
    },
    {
     "name": "stderr",
     "output_type": "stream",
     "text": [
      "861it [00:00, 29779.95it/s]\n"
     ]
    },
    {
     "name": "stdout",
     "output_type": "stream",
     "text": [
      "Replacing all generalized values...\n"
     ]
    },
    {
     "name": "stderr",
     "output_type": "stream",
     "text": [
      "861it [00:00, 29571.46it/s]\n"
     ]
    },
    {
     "name": "stdout",
     "output_type": "stream",
     "text": [
      "Replacing all generalized values...\n"
     ]
    },
    {
     "name": "stderr",
     "output_type": "stream",
     "text": [
      "861it [00:00, 29743.90it/s]\n"
     ]
    },
    {
     "name": "stdout",
     "output_type": "stream",
     "text": [
      "Replacing all generalized values...\n"
     ]
    },
    {
     "name": "stderr",
     "output_type": "stream",
     "text": [
      "861it [00:00, 29839.75it/s]\n"
     ]
    }
   ],
   "source": [
    "test_accs = mond_util.test()"
   ]
  },
  {
   "cell_type": "code",
   "execution_count": 21,
   "metadata": {},
   "outputs": [
    {
     "data": {
      "text/plain": [
       "<BarContainer object of 8 artists>"
      ]
     },
     "execution_count": 21,
     "metadata": {},
     "output_type": "execute_result"
    },
    {
     "data": {
      "image/png": "[encoded data removed]",
      "text/plain": [
       "<Figure size 640x480 with 1 Axes>"
      ]
     },
     "metadata": {},
     "output_type": "display_data"
    }
   ],
   "source": [
    "names = [\"Original\"] + [f\"K = {k}\" for k in k_list]\n",
    "plt.bar(names, test_accs, )"
   ]
  }
 ],
 "metadata": {
  "kernelspec": {
   "display_name": "data-science",
   "language": "python",
   "name": "python3"
  },
  "language_info": {
   "codemirror_mode": {
    "name": "ipython",
    "version": 3
   },
   "file_extension": ".py",
   "mimetype": "text/x-python",
   "name": "python",
   "nbconvert_exporter": "python",
   "pygments_lexer": "ipython3",
   "version": "3.10.6"
  }
 },
 "nbformat": 4,
 "nbformat_minor": 2
}
