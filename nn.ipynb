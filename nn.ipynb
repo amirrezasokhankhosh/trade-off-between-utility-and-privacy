{
 "cells": [
  {
   "cell_type": "code",
   "execution_count": 31,
   "metadata": {},
   "outputs": [],
   "source": [
    "import tensorflow as tf\n",
    "import matplotlib.pyplot as plt\n",
    "import os\n",
    "os.chdir(\"/Users/amirrezasokhankhosh/Documents/Workstation/testing_adult/privacy/\")\n",
    "from privacy.encode import encodeData, encodeNonAnonData\n",
    "os.chdir(\"/Users/amirrezasokhankhosh/Documents/Workstation/testing_adult/\")"
   ]
  },
  {
   "cell_type": "code",
   "execution_count": 32,
   "metadata": {},
   "outputs": [],
   "source": [
    "data = \"occupancy\"\n",
    "method = \"classic_mondrian\"\n",
    "k_list = [5, 20, 100, 500]"
   ]
  },
  {
   "cell_type": "code",
   "execution_count": 33,
   "metadata": {},
   "outputs": [],
   "source": [
    "class Mondrian_Utility:\n",
    "    def __init__(self, data, method, k_list):\n",
    "        self.data = data\n",
    "        self.method = method\n",
    "        self.k_list = k_list\n",
    "    \n",
    "    def anonymize(self):\n",
    "        for k in self.k_list:\n",
    "            os.system(f'python privacy/anonymize.py --method={self.method} --k={k} --dataset={self.data}')\n",
    "    \n",
    "    def get_features(self):\n",
    "        self.features = []\n",
    "        self.val = []\n",
    "        for k in self.k_list:\n",
    "            pr_data, X_org, y_org, pr_data_anon, X_anon, y_anon = encodeData(self.data, self.method, k)\n",
    "            if not len(self.features):\n",
    "                self.features.append((X_org, y_org))\n",
    "                pr_data.to_csv(f\"./pr_mondrian_results/{self.data}_anonymized_org.csv\", index=False)\n",
    "            self.features.append((X_anon, y_anon))\n",
    "            pr_data_anon.to_csv(f\"./pr_mondrian_results/{self.data}_anonymized_{k}.csv\", index=False)\n",
    "        _, X_val, y_val = encodeNonAnonData(self.data, f'/Users/amirrezasokhankhosh/Documents/Workstation/testing_adult/data/{self.data}/val.csv')\n",
    "        self.val_data = X_val, y_val\n",
    "\n",
    "    def get_model(self):\n",
    "        self.models = []\n",
    "        for _ in range(len(self.features)):\n",
    "            if self.data == \"texas\":\n",
    "                model = tf.keras.models.Sequential([tf.keras.layers.InputLayer(input_shape=(self.features[0][0].shape[1],)),\n",
    "                    tf.keras.layers.Dense(256, activation='relu'),\n",
    "                    tf.keras.layers.Dropout(0.5),\n",
    "                    tf.keras.layers.Dense(128, activation='relu'),\n",
    "                    tf.keras.layers.Dropout(0.5),\n",
    "                    tf.keras.layers.Dense(64, activation='relu'),\n",
    "                    tf.keras.layers.Dense(32, activation='relu'),\n",
    "                    tf.keras.layers.Dense(1)])\n",
    "            elif self.data == \"adult\":\n",
    "                model = tf.keras.models.Sequential([tf.keras.layers.InputLayer(input_shape=(self.features[0][0].shape[1],)),\n",
    "                    tf.keras.layers.Dense(256, activation='relu'),\n",
    "                    tf.keras.layers.Dropout(0.5),\n",
    "                    tf.keras.layers.Dense(128, activation='relu'),\n",
    "                    tf.keras.layers.Dropout(0.5),\n",
    "                    tf.keras.layers.Dense(64, activation='relu'),\n",
    "                    tf.keras.layers.Dense(32, activation='relu'),\n",
    "                    tf.keras.layers.Dense(1, activation='sigmoid')])\n",
    "            else:\n",
    "                model = tf.keras.models.Sequential([tf.keras.layers.InputLayer(input_shape=(self.features[0][0].shape[1],)),\n",
    "                    tf.keras.layers.Dense(10, activation='relu'),\n",
    "                    tf.keras.layers.Dropout(0.5),\n",
    "                    tf.keras.layers.Dense(4, activation='softmax')])\n",
    "            self.models.append(model)\n",
    "\n",
    "    def compile_models(self):\n",
    "        for i in range(len(self.models)):\n",
    "            if self.data == \"adult\":\n",
    "                self.models[i].compile(optimizer=tf.keras.optimizers.Adam(learning_rate=3e-4),\n",
    "                    loss='binary_crossentropy',\n",
    "                    metrics=[\"accuracy\"])\n",
    "            elif self.data == \"texas\":\n",
    "                self.models[i].compile(optimizer='adam',\n",
    "                    loss='mean_squared_error')\n",
    "            else:\n",
    "                self.models[i].compile(optimizer=tf.keras.optimizers.Adam(learning_rate=3e-4),\n",
    "                    loss='categorical_crossentropy',\n",
    "                    metrics=[\"accuracy\"])\n",
    "\n",
    "    def prepare_training(self):\n",
    "        self.anonymize()\n",
    "        self.get_features()\n",
    "        self.get_model()\n",
    "        self.compile_models()\n",
    "    \n",
    "    def train(self):\n",
    "        self.histories = []\n",
    "        for i in range(len(self.k_list) + 1):\n",
    "            X, y = self.features[i]\n",
    "            callback = tf.keras.callbacks.EarlyStopping(monitor='val_loss', patience=5)\n",
    "            history = self.models[i].fit(X, y, epochs=100, batch_size=64, validation_data=self.val_data, callbacks=[callback])\n",
    "            self.histories.append(history)\n",
    "            if i == 0:\n",
    "                self.models[i].save(f\"./weights/model_{self.data}_org.h5\")\n",
    "            else:\n",
    "                self.models[i].save(f\"./weights/model_{self.data}_{k_list[i-1]}.h5\")\n",
    "            print(f\"{i+1} trained.\")\n",
    "\n",
    "    def plot_results(self):\n",
    "        for i in range(len(self.histories)):\n",
    "            if i == 0:\n",
    "                plt.plot(self.histories[i].history['accuracy'], label=\"Original\")\n",
    "            else:\n",
    "                plt.plot(self.histories[i].history['accuracy'], label=f\"K = {self.k_list[i-1]}\")\n",
    "        plt.title(\"Train Accuracy\")\n",
    "        plt.xlabel(\"Epoch\")\n",
    "        plt.ylabel(\"Accuracy\")\n",
    "        plt.legend()\n",
    "        plt.show()\n",
    "            "
   ]
  },
  {
   "cell_type": "code",
   "execution_count": 34,
   "metadata": {},
   "outputs": [],
   "source": [
    "mond_util = Mondrian_Utility(data, method, k_list)"
   ]
  },
  {
   "cell_type": "code",
   "execution_count": 35,
   "metadata": {},
   "outputs": [
    {
     "name": "stdout",
     "output_type": "stream",
     "text": [
      "Anonymize with classic_mondrian\n",
      "NCP score (lower is better): 0.049\n",
      "CAVG score (near 1 is better): BEFORE: 0.200 || AFTER: 1.441\n",
      "DM score (lower is better): BEFORE: 60031504 || AFTER: 69334\n",
      "Time execution: 0.164s\n",
      "Anonymize with classic_mondrian\n",
      "NCP score (lower is better): 0.096\n",
      "CAVG score (near 1 is better): BEFORE: 0.050 || AFTER: 1.446\n",
      "DM score (lower is better): BEFORE: 60031504 || AFTER: 239080\n",
      "Time execution: 0.074s\n",
      "Anonymize with classic_mondrian\n",
      "NCP score (lower is better): 0.230\n",
      "CAVG score (near 1 is better): BEFORE: 0.010 || AFTER: 1.435\n",
      "DM score (lower is better): BEFORE: 60031504 || AFTER: 1200692\n",
      "Time execution: 0.047s\n",
      "Anonymize with classic_mondrian\n",
      "NCP score (lower is better): 0.459\n",
      "CAVG score (near 1 is better): BEFORE: 0.002 || AFTER: 1.550\n",
      "DM score (lower is better): BEFORE: 60031504 || AFTER: 6194134\n",
      "Time execution: 0.026s\n",
      "Replacing all generalized values...\n"
     ]
    },
    {
     "name": "stderr",
     "output_type": "stream",
     "text": [
      "7748it [00:00, 24181.53it/s]\n"
     ]
    },
    {
     "name": "stdout",
     "output_type": "stream",
     "text": [
      "Replacing all generalized values...\n"
     ]
    },
    {
     "name": "stderr",
     "output_type": "stream",
     "text": [
      "7748it [00:00, 23664.31it/s]\n"
     ]
    },
    {
     "name": "stdout",
     "output_type": "stream",
     "text": [
      "Replacing all generalized values...\n"
     ]
    },
    {
     "name": "stderr",
     "output_type": "stream",
     "text": [
      "7748it [00:00, 24409.54it/s]\n"
     ]
    },
    {
     "name": "stdout",
     "output_type": "stream",
     "text": [
      "Replacing all generalized values...\n"
     ]
    },
    {
     "name": "stderr",
     "output_type": "stream",
     "text": [
      "7748it [00:00, 24540.26it/s]\n"
     ]
    },
    {
     "name": "stdout",
     "output_type": "stream",
     "text": [
      "Replacing all generalized values...\n"
     ]
    },
    {
     "name": "stderr",
     "output_type": "stream",
     "text": [
      "861it [00:00, 28706.64it/s]\n"
     ]
    }
   ],
   "source": [
    "mond_util.prepare_training()"
   ]
  },
  {
   "cell_type": "code",
   "execution_count": 36,
   "metadata": {},
   "outputs": [
    {
     "name": "stdout",
     "output_type": "stream",
     "text": [
      "Epoch 1/100\n"
     ]
    },
    {
     "name": "stderr",
     "output_type": "stream",
     "text": [
      "2023-11-27 15:35:23.219188: I tensorflow/core/grappler/optimizers/custom_graph_optimizer_registry.cc:114] Plugin optimizer for device_type GPU is enabled.\n"
     ]
    },
    {
     "name": "stdout",
     "output_type": "stream",
     "text": [
      "122/122 [==============================] - ETA: 0s - loss: 1.9098 - accuracy: 0.2122"
     ]
    },
    {
     "name": "stderr",
     "output_type": "stream",
     "text": [
      "2023-11-27 15:35:27.289874: I tensorflow/core/grappler/optimizers/custom_graph_optimizer_registry.cc:114] Plugin optimizer for device_type GPU is enabled.\n"
     ]
    },
    {
     "name": "stdout",
     "output_type": "stream",
     "text": [
      "122/122 [==============================] - 5s 34ms/step - loss: 1.9098 - accuracy: 0.2122 - val_loss: 1.4578 - val_accuracy: 0.2184\n",
      "Epoch 2/100\n",
      "122/122 [==============================] - 2s 18ms/step - loss: 1.5540 - accuracy: 0.4577 - val_loss: 1.2591 - val_accuracy: 0.5041\n",
      "Epoch 3/100\n",
      "122/122 [==============================] - 2s 17ms/step - loss: 1.2433 - accuracy: 0.6680 - val_loss: 1.0934 - val_accuracy: 0.6702\n",
      "Epoch 4/100\n",
      "122/122 [==============================] - 2s 17ms/step - loss: 0.9977 - accuracy: 0.7747 - val_loss: 0.9705 - val_accuracy: 0.6841\n",
      "Epoch 5/100\n",
      "122/122 [==============================] - 2s 17ms/step - loss: 0.8078 - accuracy: 0.8052 - val_loss: 0.9084 - val_accuracy: 0.6945\n",
      "Epoch 6/100\n",
      "122/122 [==============================] - 2s 18ms/step - loss: 0.6700 - accuracy: 0.8271 - val_loss: 0.9009 - val_accuracy: 0.7003\n",
      "Epoch 7/100\n",
      "122/122 [==============================] - 2s 18ms/step - loss: 0.5677 - accuracy: 0.8428 - val_loss: 0.9212 - val_accuracy: 0.7003\n",
      "Epoch 8/100\n",
      "122/122 [==============================] - 2s 17ms/step - loss: 0.5007 - accuracy: 0.8499 - val_loss: 0.9635 - val_accuracy: 0.6945\n",
      "Epoch 9/100\n",
      "122/122 [==============================] - 2s 17ms/step - loss: 0.4564 - accuracy: 0.8573 - val_loss: 1.0129 - val_accuracy: 0.6911\n",
      "Epoch 10/100\n",
      "122/122 [==============================] - 2s 18ms/step - loss: 0.4262 - accuracy: 0.8545 - val_loss: 1.0679 - val_accuracy: 0.6911\n",
      "Epoch 11/100\n",
      "122/122 [==============================] - 2s 17ms/step - loss: 0.3958 - accuracy: 0.8651 - val_loss: 1.1181 - val_accuracy: 0.6899\n",
      "1 trained.\n",
      "Epoch 1/100\n"
     ]
    },
    {
     "name": "stderr",
     "output_type": "stream",
     "text": [
      "2023-11-27 15:35:49.147252: I tensorflow/core/grappler/optimizers/custom_graph_optimizer_registry.cc:114] Plugin optimizer for device_type GPU is enabled.\n"
     ]
    },
    {
     "name": "stdout",
     "output_type": "stream",
     "text": [
      "122/122 [==============================] - ETA: 0s - loss: 1.7242 - accuracy: 0.2210"
     ]
    },
    {
     "name": "stderr",
     "output_type": "stream",
     "text": [
      "2023-11-27 15:35:51.396659: I tensorflow/core/grappler/optimizers/custom_graph_optimizer_registry.cc:114] Plugin optimizer for device_type GPU is enabled.\n"
     ]
    },
    {
     "name": "stdout",
     "output_type": "stream",
     "text": [
      "122/122 [==============================] - 3s 19ms/step - loss: 1.7242 - accuracy: 0.2210 - val_loss: 1.4203 - val_accuracy: 0.3717\n",
      "Epoch 2/100\n",
      "122/122 [==============================] - 2s 17ms/step - loss: 1.2150 - accuracy: 0.5323 - val_loss: 1.1439 - val_accuracy: 0.6527\n",
      "Epoch 3/100\n",
      "122/122 [==============================] - 2s 17ms/step - loss: 0.8966 - accuracy: 0.7011 - val_loss: 0.9839 - val_accuracy: 0.7050\n",
      "Epoch 4/100\n",
      "122/122 [==============================] - 2s 17ms/step - loss: 0.7088 - accuracy: 0.7463 - val_loss: 0.9068 - val_accuracy: 0.7236\n",
      "Epoch 5/100\n",
      "122/122 [==============================] - 2s 17ms/step - loss: 0.5921 - accuracy: 0.7686 - val_loss: 0.8791 - val_accuracy: 0.7433\n",
      "Epoch 6/100\n",
      "122/122 [==============================] - 2s 17ms/step - loss: 0.5193 - accuracy: 0.7877 - val_loss: 0.8756 - val_accuracy: 0.7573\n",
      "Epoch 7/100\n",
      "122/122 [==============================] - 2s 17ms/step - loss: 0.4663 - accuracy: 0.8034 - val_loss: 0.8871 - val_accuracy: 0.7689\n",
      "Epoch 8/100\n",
      "122/122 [==============================] - 2s 17ms/step - loss: 0.4287 - accuracy: 0.8089 - val_loss: 0.9072 - val_accuracy: 0.7724\n",
      "Epoch 9/100\n",
      "122/122 [==============================] - 2s 17ms/step - loss: 0.4029 - accuracy: 0.8154 - val_loss: 0.9340 - val_accuracy: 0.7758\n",
      "Epoch 10/100\n",
      "122/122 [==============================] - 2s 17ms/step - loss: 0.3777 - accuracy: 0.8219 - val_loss: 0.9625 - val_accuracy: 0.7724\n",
      "Epoch 11/100\n",
      "122/122 [==============================] - 2s 18ms/step - loss: 0.3665 - accuracy: 0.8224 - val_loss: 0.9923 - val_accuracy: 0.7735\n",
      "2 trained.\n",
      "Epoch 1/100\n"
     ]
    },
    {
     "name": "stderr",
     "output_type": "stream",
     "text": [
      "2023-11-27 15:36:12.645482: I tensorflow/core/grappler/optimizers/custom_graph_optimizer_registry.cc:114] Plugin optimizer for device_type GPU is enabled.\n"
     ]
    },
    {
     "name": "stdout",
     "output_type": "stream",
     "text": [
      "122/122 [==============================] - ETA: 0s - loss: 1.3078 - accuracy: 0.4810"
     ]
    },
    {
     "name": "stderr",
     "output_type": "stream",
     "text": [
      "2023-11-27 15:36:15.180604: I tensorflow/core/grappler/optimizers/custom_graph_optimizer_registry.cc:114] Plugin optimizer for device_type GPU is enabled.\n"
     ]
    },
    {
     "name": "stdout",
     "output_type": "stream",
     "text": [
      "122/122 [==============================] - 3s 22ms/step - loss: 1.3078 - accuracy: 0.4810 - val_loss: 1.4780 - val_accuracy: 0.5656\n",
      "Epoch 2/100\n",
      "122/122 [==============================] - 2s 17ms/step - loss: 1.0291 - accuracy: 0.6658 - val_loss: 1.2798 - val_accuracy: 0.6132\n",
      "Epoch 3/100\n",
      "122/122 [==============================] - 2s 17ms/step - loss: 0.8075 - accuracy: 0.7669 - val_loss: 1.1445 - val_accuracy: 0.6376\n",
      "Epoch 4/100\n",
      "122/122 [==============================] - 2s 18ms/step - loss: 0.6576 - accuracy: 0.7961 - val_loss: 1.0665 - val_accuracy: 0.6481\n",
      "Epoch 5/100\n",
      "122/122 [==============================] - 2s 18ms/step - loss: 0.5554 - accuracy: 0.8130 - val_loss: 1.0379 - val_accuracy: 0.6609\n",
      "Epoch 6/100\n",
      "122/122 [==============================] - 2s 18ms/step - loss: 0.4866 - accuracy: 0.8234 - val_loss: 1.0377 - val_accuracy: 0.6760\n",
      "Epoch 7/100\n",
      "122/122 [==============================] - 2s 20ms/step - loss: 0.4405 - accuracy: 0.8314 - val_loss: 1.0530 - val_accuracy: 0.6794\n",
      "Epoch 8/100\n",
      "122/122 [==============================] - 2s 17ms/step - loss: 0.4069 - accuracy: 0.8327 - val_loss: 1.0832 - val_accuracy: 0.6818\n",
      "Epoch 9/100\n",
      "122/122 [==============================] - 2s 18ms/step - loss: 0.3797 - accuracy: 0.8455 - val_loss: 1.1128 - val_accuracy: 0.6876\n",
      "Epoch 10/100\n",
      "122/122 [==============================] - 2s 17ms/step - loss: 0.3636 - accuracy: 0.8481 - val_loss: 1.1500 - val_accuracy: 0.6922\n",
      "Epoch 11/100\n",
      "122/122 [==============================] - 2s 18ms/step - loss: 0.3461 - accuracy: 0.8511 - val_loss: 1.1841 - val_accuracy: 0.6957\n",
      "3 trained.\n",
      "Epoch 1/100\n",
      "  1/122 [..............................] - ETA: 39s - loss: 2.1290 - accuracy: 0.2188"
     ]
    },
    {
     "name": "stderr",
     "output_type": "stream",
     "text": [
      "2023-11-27 15:36:37.422807: I tensorflow/core/grappler/optimizers/custom_graph_optimizer_registry.cc:114] Plugin optimizer for device_type GPU is enabled.\n"
     ]
    },
    {
     "name": "stdout",
     "output_type": "stream",
     "text": [
      "122/122 [==============================] - ETA: 0s - loss: 1.8218 - accuracy: 0.2669"
     ]
    },
    {
     "name": "stderr",
     "output_type": "stream",
     "text": [
      "2023-11-27 15:36:39.713883: I tensorflow/core/grappler/optimizers/custom_graph_optimizer_registry.cc:114] Plugin optimizer for device_type GPU is enabled.\n"
     ]
    },
    {
     "name": "stdout",
     "output_type": "stream",
     "text": [
      "122/122 [==============================] - 3s 20ms/step - loss: 1.8218 - accuracy: 0.2669 - val_loss: 1.5355 - val_accuracy: 0.0894\n",
      "Epoch 2/100\n",
      "122/122 [==============================] - 2s 17ms/step - loss: 1.4097 - accuracy: 0.4330 - val_loss: 1.2819 - val_accuracy: 0.4588\n",
      "Epoch 3/100\n",
      "122/122 [==============================] - 2s 19ms/step - loss: 1.1080 - accuracy: 0.5851 - val_loss: 1.0988 - val_accuracy: 0.5865\n",
      "Epoch 4/100\n",
      "122/122 [==============================] - 2s 18ms/step - loss: 0.9218 - accuracy: 0.6606 - val_loss: 0.9804 - val_accuracy: 0.6806\n",
      "Epoch 5/100\n",
      "122/122 [==============================] - 2s 18ms/step - loss: 0.8006 - accuracy: 0.7048 - val_loss: 0.9124 - val_accuracy: 0.7317\n",
      "Epoch 6/100\n",
      "122/122 [==============================] - 2s 19ms/step - loss: 0.7057 - accuracy: 0.7506 - val_loss: 0.8809 - val_accuracy: 0.7422\n",
      "Epoch 7/100\n",
      "122/122 [==============================] - 2s 17ms/step - loss: 0.6431 - accuracy: 0.7790 - val_loss: 0.8710 - val_accuracy: 0.7677\n",
      "Epoch 8/100\n",
      "122/122 [==============================] - 2s 17ms/step - loss: 0.5904 - accuracy: 0.8003 - val_loss: 0.8750 - val_accuracy: 0.7712\n",
      "Epoch 9/100\n",
      "122/122 [==============================] - 2s 17ms/step - loss: 0.5549 - accuracy: 0.8089 - val_loss: 0.8883 - val_accuracy: 0.7712\n",
      "Epoch 10/100\n",
      "122/122 [==============================] - 2s 18ms/step - loss: 0.5306 - accuracy: 0.8236 - val_loss: 0.9045 - val_accuracy: 0.7712\n",
      "Epoch 11/100\n",
      "122/122 [==============================] - 2s 17ms/step - loss: 0.5071 - accuracy: 0.8249 - val_loss: 0.9264 - val_accuracy: 0.7677\n",
      "Epoch 12/100\n",
      "122/122 [==============================] - 2s 17ms/step - loss: 0.4881 - accuracy: 0.8329 - val_loss: 0.9504 - val_accuracy: 0.7654\n",
      "4 trained.\n",
      "Epoch 1/100\n"
     ]
    },
    {
     "name": "stderr",
     "output_type": "stream",
     "text": [
      "2023-11-27 15:37:03.888257: I tensorflow/core/grappler/optimizers/custom_graph_optimizer_registry.cc:114] Plugin optimizer for device_type GPU is enabled.\n"
     ]
    },
    {
     "name": "stdout",
     "output_type": "stream",
     "text": [
      "122/122 [==============================] - ETA: 0s - loss: 1.1375 - accuracy: 0.6356"
     ]
    },
    {
     "name": "stderr",
     "output_type": "stream",
     "text": [
      "2023-11-27 15:37:06.355863: I tensorflow/core/grappler/optimizers/custom_graph_optimizer_registry.cc:114] Plugin optimizer for device_type GPU is enabled.\n"
     ]
    },
    {
     "name": "stdout",
     "output_type": "stream",
     "text": [
      "122/122 [==============================] - 3s 21ms/step - loss: 1.1375 - accuracy: 0.6356 - val_loss: 0.9363 - val_accuracy: 0.7805\n",
      "Epoch 2/100\n",
      "122/122 [==============================] - 2s 19ms/step - loss: 0.9223 - accuracy: 0.6962 - val_loss: 0.8436 - val_accuracy: 0.7886\n",
      "Epoch 3/100\n",
      "122/122 [==============================] - 2s 17ms/step - loss: 0.7859 - accuracy: 0.7568 - val_loss: 0.7941 - val_accuracy: 0.7875\n",
      "Epoch 4/100\n",
      "122/122 [==============================] - 2s 17ms/step - loss: 0.7031 - accuracy: 0.7792 - val_loss: 0.7734 - val_accuracy: 0.7991\n",
      "Epoch 5/100\n",
      "122/122 [==============================] - 2s 17ms/step - loss: 0.6492 - accuracy: 0.8025 - val_loss: 0.7683 - val_accuracy: 0.8142\n",
      "Epoch 6/100\n",
      "122/122 [==============================] - 2s 17ms/step - loss: 0.6178 - accuracy: 0.8220 - val_loss: 0.7726 - val_accuracy: 0.8177\n",
      "Epoch 7/100\n",
      "122/122 [==============================] - 2s 17ms/step - loss: 0.5924 - accuracy: 0.8201 - val_loss: 0.7828 - val_accuracy: 0.8177\n",
      "Epoch 8/100\n",
      "122/122 [==============================] - 2s 17ms/step - loss: 0.5757 - accuracy: 0.8232 - val_loss: 0.7955 - val_accuracy: 0.8177\n",
      "Epoch 9/100\n",
      "122/122 [==============================] - 2s 17ms/step - loss: 0.5662 - accuracy: 0.8187 - val_loss: 0.8079 - val_accuracy: 0.8188\n",
      "Epoch 10/100\n",
      "122/122 [==============================] - 2s 17ms/step - loss: 0.5540 - accuracy: 0.8227 - val_loss: 0.8193 - val_accuracy: 0.8188\n",
      "5 trained.\n"
     ]
    }
   ],
   "source": [
    "mond_util.train()"
   ]
  },
  {
   "cell_type": "code",
   "execution_count": 38,
   "metadata": {},
   "outputs": [
    {
     "data": {
      "image/png": "[encoded data removed]",
      "text/plain": [
       "<Figure size 640x480 with 1 Axes>"
      ]
     },
     "metadata": {},
     "output_type": "display_data"
    }
   ],
   "source": [
    "for i in range(len(mond_util.histories)):\n",
    "    if i == 0:\n",
    "        plt.plot(mond_util.histories[i].history['accuracy'], label=\"Original\")\n",
    "    else:\n",
    "        plt.plot(mond_util.histories[i].history['accuracy'], label=f\"K = {mond_util.k_list[i-1]}\")\n",
    "plt.xlabel(\"Epoch\")\n",
    "plt.ylabel(f\"Train Accuracy\")\n",
    "plt.title(f\"Train Accuracy of {data} per epoch\")\n",
    "plt.legend()\n",
    "plt.show()"
   ]
  },
  {
   "cell_type": "code",
   "execution_count": 39,
   "metadata": {},
   "outputs": [
    {
     "data": {
      "image/png": "[encoded data removed]",
      "text/plain": [
       "<Figure size 640x480 with 1 Axes>"
      ]
     },
     "metadata": {},
     "output_type": "display_data"
    }
   ],
   "source": [
    "for i in range(len(mond_util.histories)):\n",
    "    if i == 0:\n",
    "        plt.plot(mond_util.histories[i].history['val_accuracy'], label=\"Original\")\n",
    "    else:\n",
    "        plt.plot(mond_util.histories[i].history['val_accuracy'], label=f\"K = {mond_util.k_list[i-1]}\")\n",
    "plt.xlabel(\"Epoch\")\n",
    "plt.ylabel(\"Validation Accuracy\")\n",
    "plt.title(f\"Validation Accuracy of {data} per epoch\")\n",
    "plt.legend()\n",
    "plt.show()"
   ]
  },
  {
   "cell_type": "code",
   "execution_count": 15,
   "metadata": {},
   "outputs": [
    {
     "data": {
      "image/png": "[encoded data removed]",
      "text/plain": [
       "<Figure size 640x480 with 1 Axes>"
      ]
     },
     "metadata": {},
     "output_type": "display_data"
    }
   ],
   "source": [
    "for i in range(len(mond_util.histories)):\n",
    "    if i == 0:\n",
    "        plt.plot(mond_util.histories[i].history['val_loss'], label=\"Original\")\n",
    "    else:\n",
    "        plt.plot(mond_util.histories[i].history['val_loss'], label=f\"K = {mond_util.k_list[i-1]}\")\n",
    "plt.title(\"Validation loss\")\n",
    "plt.xlabel(\"Epoch\")\n",
    "plt.ylabel(\"Accuracy\")\n",
    "plt.legend()\n",
    "plt.show()"
   ]
  },
  {
   "cell_type": "code",
   "execution_count": 20,
   "metadata": {},
   "outputs": [
    {
     "name": "stdout",
     "output_type": "stream",
     "text": [
      "Replacing all generalized values...\n"
     ]
    },
    {
     "name": "stderr",
     "output_type": "stream",
     "text": [
      "15060it [00:00, 24600.12it/s]\n",
      "2023-11-27 15:13:35.885549: I tensorflow/core/grappler/optimizers/custom_graph_optimizer_registry.cc:114] Plugin optimizer for device_type GPU is enabled.\n",
      "loc(\"mps_select\"(\"(mpsFileLoc): /AppleInternal/Library/BuildRoots/495c257e-668e-11ee-93ce-926038f30c31/Library/Caches/com.apple.xbs/Sources/MetalPerformanceShadersGraph/mpsgraph/MetalPerformanceShadersGraph/Core/Files/MPSGraphUtilities.mm\":294:0)): error: 'anec.gain_offset_control' op result #0 must be 4D/5D memref of 16-bit float or 8-bit signed integer or 8-bit unsigned integer values, but got 'memref<1x32x1x1xi1>'\n",
      "loc(\"mps_select\"(\"(mpsFileLoc): /AppleInternal/Library/BuildRoots/495c257e-668e-11ee-93ce-926038f30c31/Library/Caches/com.apple.xbs/Sources/MetalPerformanceShadersGraph/mpsgraph/MetalPerformanceShadersGraph/Core/Files/MPSGraphUtilities.mm\":294:0)): error: 'anec.gain_offset_control' op result #0 must be 4D/5D memref of 16-bit float or 8-bit signed integer or 8-bit unsigned integer values, but got 'memref<1x32x1x1xi1>'\n"
     ]
    },
    {
     "name": "stdout",
     "output_type": "stream",
     "text": [
      "471/471 [==============================] - 4s 8ms/step - loss: 1.9537 - accuracy: 0.6376\n"
     ]
    },
    {
     "name": "stderr",
     "output_type": "stream",
     "text": [
      "loc(\"mps_select\"(\"(mpsFileLoc): /AppleInternal/Library/BuildRoots/495c257e-668e-11ee-93ce-926038f30c31/Library/Caches/com.apple.xbs/Sources/MetalPerformanceShadersGraph/mpsgraph/MetalPerformanceShadersGraph/Core/Files/MPSGraphUtilities.mm\":294:0)): error: 'anec.gain_offset_control' op result #0 must be 4D/5D memref of 16-bit float or 8-bit signed integer or 8-bit unsigned integer values, but got 'memref<1x20x1x1xi1>'\n",
      "loc(\"mps_select\"(\"(mpsFileLoc): /AppleInternal/Library/BuildRoots/495c257e-668e-11ee-93ce-926038f30c31/Library/Caches/com.apple.xbs/Sources/MetalPerformanceShadersGraph/mpsgraph/MetalPerformanceShadersGraph/Core/Files/MPSGraphUtilities.mm\":294:0)): error: 'anec.gain_offset_control' op result #0 must be 4D/5D memref of 16-bit float or 8-bit signed integer or 8-bit unsigned integer values, but got 'memref<1x20x1x1xi1>'\n"
     ]
    },
    {
     "name": "stdout",
     "output_type": "stream",
     "text": [
      "Replacing all generalized values...\n"
     ]
    },
    {
     "name": "stderr",
     "output_type": "stream",
     "text": [
      "15060it [00:00, 24670.56it/s]\n",
      "2023-11-27 15:13:40.969231: I tensorflow/core/grappler/optimizers/custom_graph_optimizer_registry.cc:114] Plugin optimizer for device_type GPU is enabled.\n",
      "loc(\"mps_select\"(\"(mpsFileLoc): /AppleInternal/Library/BuildRoots/495c257e-668e-11ee-93ce-926038f30c31/Library/Caches/com.apple.xbs/Sources/MetalPerformanceShadersGraph/mpsgraph/MetalPerformanceShadersGraph/Core/Files/MPSGraphUtilities.mm\":294:0)): error: 'anec.gain_offset_control' op result #0 must be 4D/5D memref of 16-bit float or 8-bit signed integer or 8-bit unsigned integer values, but got 'memref<1x32x1x1xi1>'\n",
      "loc(\"mps_select\"(\"(mpsFileLoc): /AppleInternal/Library/BuildRoots/495c257e-668e-11ee-93ce-926038f30c31/Library/Caches/com.apple.xbs/Sources/MetalPerformanceShadersGraph/mpsgraph/MetalPerformanceShadersGraph/Core/Files/MPSGraphUtilities.mm\":294:0)): error: 'anec.gain_offset_control' op result #0 must be 4D/5D memref of 16-bit float or 8-bit signed integer or 8-bit unsigned integer values, but got 'memref<1x32x1x1xi1>'\n"
     ]
    },
    {
     "name": "stdout",
     "output_type": "stream",
     "text": [
      "471/471 [==============================] - 4s 8ms/step - loss: 0.9303 - accuracy: 0.6284\n"
     ]
    },
    {
     "name": "stderr",
     "output_type": "stream",
     "text": [
      "loc(\"mps_select\"(\"(mpsFileLoc): /AppleInternal/Library/BuildRoots/495c257e-668e-11ee-93ce-926038f30c31/Library/Caches/com.apple.xbs/Sources/MetalPerformanceShadersGraph/mpsgraph/MetalPerformanceShadersGraph/Core/Files/MPSGraphUtilities.mm\":294:0)): error: 'anec.gain_offset_control' op result #0 must be 4D/5D memref of 16-bit float or 8-bit signed integer or 8-bit unsigned integer values, but got 'memref<1x20x1x1xi1>'\n",
      "loc(\"mps_select\"(\"(mpsFileLoc): /AppleInternal/Library/BuildRoots/495c257e-668e-11ee-93ce-926038f30c31/Library/Caches/com.apple.xbs/Sources/MetalPerformanceShadersGraph/mpsgraph/MetalPerformanceShadersGraph/Core/Files/MPSGraphUtilities.mm\":294:0)): error: 'anec.gain_offset_control' op result #0 must be 4D/5D memref of 16-bit float or 8-bit signed integer or 8-bit unsigned integer values, but got 'memref<1x20x1x1xi1>'\n"
     ]
    },
    {
     "name": "stdout",
     "output_type": "stream",
     "text": [
      "Replacing all generalized values...\n"
     ]
    },
    {
     "name": "stderr",
     "output_type": "stream",
     "text": [
      "15060it [00:00, 25064.62it/s]\n",
      "2023-11-27 15:13:46.054083: I tensorflow/core/grappler/optimizers/custom_graph_optimizer_registry.cc:114] Plugin optimizer for device_type GPU is enabled.\n",
      "loc(\"mps_select\"(\"(mpsFileLoc): /AppleInternal/Library/BuildRoots/495c257e-668e-11ee-93ce-926038f30c31/Library/Caches/com.apple.xbs/Sources/MetalPerformanceShadersGraph/mpsgraph/MetalPerformanceShadersGraph/Core/Files/MPSGraphUtilities.mm\":294:0)): error: 'anec.gain_offset_control' op result #0 must be 4D/5D memref of 16-bit float or 8-bit signed integer or 8-bit unsigned integer values, but got 'memref<1x32x1x1xi1>'\n",
      "loc(\"mps_select\"(\"(mpsFileLoc): /AppleInternal/Library/BuildRoots/495c257e-668e-11ee-93ce-926038f30c31/Library/Caches/com.apple.xbs/Sources/MetalPerformanceShadersGraph/mpsgraph/MetalPerformanceShadersGraph/Core/Files/MPSGraphUtilities.mm\":294:0)): error: 'anec.gain_offset_control' op result #0 must be 4D/5D memref of 16-bit float or 8-bit signed integer or 8-bit unsigned integer values, but got 'memref<1x32x1x1xi1>'\n"
     ]
    },
    {
     "name": "stdout",
     "output_type": "stream",
     "text": [
      "471/471 [==============================] - 4s 7ms/step - loss: 0.8599 - accuracy: 0.6208\n"
     ]
    },
    {
     "name": "stderr",
     "output_type": "stream",
     "text": [
      "loc(\"mps_select\"(\"(mpsFileLoc): /AppleInternal/Library/BuildRoots/495c257e-668e-11ee-93ce-926038f30c31/Library/Caches/com.apple.xbs/Sources/MetalPerformanceShadersGraph/mpsgraph/MetalPerformanceShadersGraph/Core/Files/MPSGraphUtilities.mm\":294:0)): error: 'anec.gain_offset_control' op result #0 must be 4D/5D memref of 16-bit float or 8-bit signed integer or 8-bit unsigned integer values, but got 'memref<1x20x1x1xi1>'\n",
      "loc(\"mps_select\"(\"(mpsFileLoc): /AppleInternal/Library/BuildRoots/495c257e-668e-11ee-93ce-926038f30c31/Library/Caches/com.apple.xbs/Sources/MetalPerformanceShadersGraph/mpsgraph/MetalPerformanceShadersGraph/Core/Files/MPSGraphUtilities.mm\":294:0)): error: 'anec.gain_offset_control' op result #0 must be 4D/5D memref of 16-bit float or 8-bit signed integer or 8-bit unsigned integer values, but got 'memref<1x20x1x1xi1>'\n"
     ]
    },
    {
     "name": "stdout",
     "output_type": "stream",
     "text": [
      "Replacing all generalized values...\n"
     ]
    },
    {
     "name": "stderr",
     "output_type": "stream",
     "text": [
      "15060it [00:00, 24189.74it/s]\n",
      "2023-11-27 15:13:51.007430: I tensorflow/core/grappler/optimizers/custom_graph_optimizer_registry.cc:114] Plugin optimizer for device_type GPU is enabled.\n",
      "loc(\"mps_select\"(\"(mpsFileLoc): /AppleInternal/Library/BuildRoots/495c257e-668e-11ee-93ce-926038f30c31/Library/Caches/com.apple.xbs/Sources/MetalPerformanceShadersGraph/mpsgraph/MetalPerformanceShadersGraph/Core/Files/MPSGraphUtilities.mm\":294:0)): error: 'anec.gain_offset_control' op result #0 must be 4D/5D memref of 16-bit float or 8-bit signed integer or 8-bit unsigned integer values, but got 'memref<1x32x1x1xi1>'\n",
      "loc(\"mps_select\"(\"(mpsFileLoc): /AppleInternal/Library/BuildRoots/495c257e-668e-11ee-93ce-926038f30c31/Library/Caches/com.apple.xbs/Sources/MetalPerformanceShadersGraph/mpsgraph/MetalPerformanceShadersGraph/Core/Files/MPSGraphUtilities.mm\":294:0)): error: 'anec.gain_offset_control' op result #0 must be 4D/5D memref of 16-bit float or 8-bit signed integer or 8-bit unsigned integer values, but got 'memref<1x32x1x1xi1>'\n"
     ]
    },
    {
     "name": "stdout",
     "output_type": "stream",
     "text": [
      "471/471 [==============================] - 4s 7ms/step - loss: 0.6988 - accuracy: 0.6118\n"
     ]
    },
    {
     "name": "stderr",
     "output_type": "stream",
     "text": [
      "loc(\"mps_select\"(\"(mpsFileLoc): /AppleInternal/Library/BuildRoots/495c257e-668e-11ee-93ce-926038f30c31/Library/Caches/com.apple.xbs/Sources/MetalPerformanceShadersGraph/mpsgraph/MetalPerformanceShadersGraph/Core/Files/MPSGraphUtilities.mm\":294:0)): error: 'anec.gain_offset_control' op result #0 must be 4D/5D memref of 16-bit float or 8-bit signed integer or 8-bit unsigned integer values, but got 'memref<1x20x1x1xi1>'\n",
      "loc(\"mps_select\"(\"(mpsFileLoc): /AppleInternal/Library/BuildRoots/495c257e-668e-11ee-93ce-926038f30c31/Library/Caches/com.apple.xbs/Sources/MetalPerformanceShadersGraph/mpsgraph/MetalPerformanceShadersGraph/Core/Files/MPSGraphUtilities.mm\":294:0)): error: 'anec.gain_offset_control' op result #0 must be 4D/5D memref of 16-bit float or 8-bit signed integer or 8-bit unsigned integer values, but got 'memref<1x20x1x1xi1>'\n"
     ]
    },
    {
     "name": "stdout",
     "output_type": "stream",
     "text": [
      "Replacing all generalized values...\n"
     ]
    },
    {
     "name": "stderr",
     "output_type": "stream",
     "text": [
      "15060it [00:00, 24761.71it/s]\n",
      "2023-11-27 15:13:56.020459: I tensorflow/core/grappler/optimizers/custom_graph_optimizer_registry.cc:114] Plugin optimizer for device_type GPU is enabled.\n",
      "loc(\"mps_select\"(\"(mpsFileLoc): /AppleInternal/Library/BuildRoots/495c257e-668e-11ee-93ce-926038f30c31/Library/Caches/com.apple.xbs/Sources/MetalPerformanceShadersGraph/mpsgraph/MetalPerformanceShadersGraph/Core/Files/MPSGraphUtilities.mm\":294:0)): error: 'anec.gain_offset_control' op result #0 must be 4D/5D memref of 16-bit float or 8-bit signed integer or 8-bit unsigned integer values, but got 'memref<1x32x1x1xi1>'\n",
      "loc(\"mps_select\"(\"(mpsFileLoc): /AppleInternal/Library/BuildRoots/495c257e-668e-11ee-93ce-926038f30c31/Library/Caches/com.apple.xbs/Sources/MetalPerformanceShadersGraph/mpsgraph/MetalPerformanceShadersGraph/Core/Files/MPSGraphUtilities.mm\":294:0)): error: 'anec.gain_offset_control' op result #0 must be 4D/5D memref of 16-bit float or 8-bit signed integer or 8-bit unsigned integer values, but got 'memref<1x32x1x1xi1>'\n"
     ]
    },
    {
     "name": "stdout",
     "output_type": "stream",
     "text": [
      "471/471 [==============================] - 4s 7ms/step - loss: 0.6565 - accuracy: 0.5924\n",
      "{'Original': [1.9537066221237183, 0.6375830173492432], 'K = 5': [0.930282473564148, 0.6283532381057739], 'K = 20': [0.8598965406417847, 0.6207835078239441], 'K = 100': [0.6987952589988708, 0.611752986907959], 'K = 500': [0.6565106511116028, 0.5923638939857483]}\n"
     ]
    },
    {
     "name": "stderr",
     "output_type": "stream",
     "text": [
      "loc(\"mps_select\"(\"(mpsFileLoc): /AppleInternal/Library/BuildRoots/495c257e-668e-11ee-93ce-926038f30c31/Library/Caches/com.apple.xbs/Sources/MetalPerformanceShadersGraph/mpsgraph/MetalPerformanceShadersGraph/Core/Files/MPSGraphUtilities.mm\":294:0)): error: 'anec.gain_offset_control' op result #0 must be 4D/5D memref of 16-bit float or 8-bit signed integer or 8-bit unsigned integer values, but got 'memref<1x20x1x1xi1>'\n",
      "loc(\"mps_select\"(\"(mpsFileLoc): /AppleInternal/Library/BuildRoots/495c257e-668e-11ee-93ce-926038f30c31/Library/Caches/com.apple.xbs/Sources/MetalPerformanceShadersGraph/mpsgraph/MetalPerformanceShadersGraph/Core/Files/MPSGraphUtilities.mm\":294:0)): error: 'anec.gain_offset_control' op result #0 must be 4D/5D memref of 16-bit float or 8-bit signed integer or 8-bit unsigned integer values, but got 'memref<1x20x1x1xi1>'\n"
     ]
    }
   ],
   "source": [
    "test_accs = {}\n",
    "for i in range(len(mond_util.k_list) + 1):\n",
    "    if i == 0:\n",
    "        mond_util.models[i] = tf.keras.models.load_model(f\"./weights/model_{data}_org.h5\")\n",
    "    else:\n",
    "        mond_util.models[i] = tf.keras.models.load_model(f\"./weights/model_{data}_{k_list[i-1]}.h5\")\n",
    "    X, y = mond_util.features[i]\n",
    "    _, X_test, y_test = encodeNonAnonData(data, f\"/Users/amirrezasokhankhosh/Documents/Workstation/testing_adult/data/{data}/test.csv\")\n",
    "    res = mond_util.models[i].evaluate(X_test, y_test)\n",
    "    if i == 0:\n",
    "        test_accs[\"Original\"] = res\n",
    "    else:\n",
    "        test_accs[f\"K = {k_list[i-1]}\"] = res\n",
    "print(test_accs)"
   ]
  },
  {
   "cell_type": "code",
   "execution_count": 103,
   "metadata": {},
   "outputs": [],
   "source": [
    "import os\n",
    "import pandas as pd\n",
    "import matplotlib.pyplot as plt\n",
    "import seaborn as sns\n",
    "\n",
    "from anonymeter.evaluators import SinglingOutEvaluator\n",
    "from anonymeter.evaluators import LinkabilityEvaluator\n",
    "from anonymeter.evaluators import InferenceEvaluator"
   ]
  },
  {
   "cell_type": "code",
   "execution_count": 7,
   "metadata": {},
   "outputs": [
    {
     "ename": "NameError",
     "evalue": "name 'pd' is not defined",
     "output_type": "error",
     "traceback": [
      "\u001b[0;31m---------------------------------------------------------------------------\u001b[0m",
      "\u001b[0;31mNameError\u001b[0m                                 Traceback (most recent call last)",
      "\u001b[1;32m/Users/amirrezasokhankhosh/Documents/Workstation/testing_adult/nn.ipynb Cell 15\u001b[0m line \u001b[0;36m1\n\u001b[0;32m----> <a href='vscode-notebook-cell:/Users/amirrezasokhankhosh/Documents/Workstation/testing_adult/nn.ipynb#X13sZmlsZQ%3D%3D?line=0'>1</a>\u001b[0m ori \u001b[39m=\u001b[39m pd\u001b[39m.\u001b[39mread_csv(\u001b[39m\"\u001b[39m\u001b[39m./pr_mondrian_results/occupancy_anonymized_org.csv\u001b[39m\u001b[39m\"\u001b[39m)\n\u001b[1;32m      <a href='vscode-notebook-cell:/Users/amirrezasokhankhosh/Documents/Workstation/testing_adult/nn.ipynb#X13sZmlsZQ%3D%3D?line=1'>2</a>\u001b[0m control, _, _ \u001b[39m=\u001b[39m encodeNonAnonData(\u001b[39m\"\u001b[39m\u001b[39moccupancy\u001b[39m\u001b[39m\"\u001b[39m, \u001b[39m\"\u001b[39m\u001b[39m/Users/amirrezasokhankhosh/Documents/Workstation/testing_adult/data/occupancy/test.csv\u001b[39m\u001b[39m\"\u001b[39m)\n",
      "\u001b[0;31mNameError\u001b[0m: name 'pd' is not defined"
     ]
    }
   ],
   "source": [
    "ori = pd.read_csv(\"./pr_mondrian_results/occupancy_anonymized_org.csv\")\n",
    "control, _, _ = encodeNonAnonData(\"occupancy\", \"/Users/amirrezasokhankhosh/Documents/Workstation/testing_adult/data/occupancy/test.csv\")"
   ]
  },
  {
   "cell_type": "code",
   "execution_count": 90,
   "metadata": {},
   "outputs": [
    {
     "name": "stdout",
     "output_type": "stream",
     "text": [
      "0.10918250215256743\n",
      "0.01740622151333518\n"
     ]
    },
    {
     "name": "stderr",
     "output_type": "stream",
     "text": [
      "/Users/amirrezasokhankhosh/mambaforge/envs/data-science/lib/python3.10/site-packages/anonymeter/stats/confidence.py:215: UserWarning: Attack is as good or worse as baseline model. Estimated rates: attack = 0.028126814121422983, baseline = 0.028126814121422983. Analysis results cannot be trusted.\n",
      "  self._sanity_check()\n"
     ]
    },
    {
     "name": "stdout",
     "output_type": "stream",
     "text": [
      "0.001844311770318952\n",
      "0.08059817983799487\n"
     ]
    },
    {
     "name": "stderr",
     "output_type": "stream",
     "text": [
      "/Users/amirrezasokhankhosh/mambaforge/envs/data-science/lib/python3.10/site-packages/anonymeter/stats/confidence.py:215: UserWarning: Attack is as good or worse as baseline model. Estimated rates: attack = 0.04738694415728327, baseline = 0.057017009175213414. Analysis results cannot be trusted.\n",
      "  self._sanity_check()\n"
     ]
    },
    {
     "name": "stdout",
     "output_type": "stream",
     "text": [
      "0.016244766584956986\n",
      "0.0415280965743401\n",
      "0.04102028043938658\n"
     ]
    }
   ],
   "source": [
    "risks = {}\n",
    "for k in k_list:\n",
    "    syn = pd.read_csv(f\"./pr_mondrian_results/occupancy_anonymized_{k}.csv\")\n",
    "    evaluator = SinglingOutEvaluator(ori=ori, \n",
    "                                    syn=syn, \n",
    "                                    control=control,\n",
    "                                    n_attacks=100, # this attack takes longer\n",
    "                                    n_cols=4)\n",
    "\n",
    "\n",
    "    try:\n",
    "        evaluator.evaluate(mode='multivariate')\n",
    "        risk = evaluator.risk()\n",
    "        print(risk.value)\n",
    "        risks[f\"K = {k}\"] = risk.value\n",
    "\n",
    "    except RuntimeError as ex: \n",
    "        print(f\"Singling out evaluation failed with {ex}. Please re-run this cell.\"\n",
    "            \"For more stable results increase `n_attacks`. Note that this will \"\n",
    "            \"make the evaluation slower.\")"
   ]
  },
  {
   "cell_type": "code",
   "execution_count": null,
   "metadata": {},
   "outputs": [],
   "source": [
    "test = sorted(test_accs.items(), key=lambda kv: (kv[1], kv[0]))\n",
    "test_accs = {}\n",
    "for t in test:\n",
    "    test_accs[t[0]] = t[1]"
   ]
  },
  {
   "cell_type": "code",
   "execution_count": 92,
   "metadata": {},
   "outputs": [
    {
     "data": {
      "image/png": "[encoded data removed]",
      "text/plain": [
       "<Figure size 640x480 with 1 Axes>"
      ]
     },
     "metadata": {},
     "output_type": "display_data"
    }
   ],
   "source": [
    "for k in k_list:\n",
    "    plt.scatter(test_accs[f\"K = {k}\"], risks[f\"K = {k}\"], label=f\"K = {k}\")\n",
    "plt.ylabel(\"Singling Out Risk\")\n",
    "plt.xlabel(\"Test Accuracy\")\n",
    "plt.legend()\n",
    "plt.show()"
   ]
  },
  {
   "cell_type": "code",
   "execution_count": 9,
   "metadata": {},
   "outputs": [
    {
     "data": {
      "text/plain": [
       "{}"
      ]
     },
     "execution_count": 9,
     "metadata": {},
     "output_type": "execute_result"
    }
   ],
   "source": [
    "test_accs"
   ]
  },
  {
   "cell_type": "code",
   "execution_count": 11,
   "metadata": {},
   "outputs": [
    {
     "data": {
      "text/plain": [
       "<BarContainer object of 3 artists>"
      ]
     },
     "execution_count": 11,
     "metadata": {},
     "output_type": "execute_result"
    },
    {
     "data": {
      "image/png": "[encoded data removed]",
      "text/plain": [
       "<Figure size 640x480 with 1 Axes>"
      ]
     },
     "metadata": {},
     "output_type": "display_data"
    }
   ],
   "source": [
    "names = [\"Original\"] + [f\"K = {k}\" for k in k_list]\n",
    "height = [test_accs[name] for name in names]\n",
    "plt.bar(names, height)"
   ]
  },
  {
   "cell_type": "code",
   "execution_count": 111,
   "metadata": {},
   "outputs": [
    {
     "name": "stdout",
     "output_type": "stream",
     "text": [
      "Replacing all generalized values...\n"
     ]
    },
    {
     "name": "stderr",
     "output_type": "stream",
     "text": [
      "861it [00:00, 28388.46it/s]"
     ]
    },
    {
     "name": "stdout",
     "output_type": "stream",
     "text": [
      "27/27 [==============================] - 0s 3ms/step\n",
      "0.6817690143297375\n"
     ]
    },
    {
     "name": "stderr",
     "output_type": "stream",
     "text": [
      "\n",
      "2023-11-26 23:44:30.772430: I tensorflow/core/grappler/optimizers/custom_graph_optimizer_registry.cc:114] Plugin optimizer for device_type GPU is enabled.\n"
     ]
    },
    {
     "name": "stdout",
     "output_type": "stream",
     "text": [
      "Replacing all generalized values...\n"
     ]
    },
    {
     "name": "stderr",
     "output_type": "stream",
     "text": [
      "861it [00:00, 28405.43it/s]"
     ]
    },
    {
     "name": "stdout",
     "output_type": "stream",
     "text": [
      "27/27 [==============================] - 0s 3ms/step\n",
      "0.67082258735795\n"
     ]
    },
    {
     "name": "stderr",
     "output_type": "stream",
     "text": [
      "\n",
      "2023-11-26 23:44:31.025067: I tensorflow/core/grappler/optimizers/custom_graph_optimizer_registry.cc:114] Plugin optimizer for device_type GPU is enabled.\n"
     ]
    },
    {
     "name": "stdout",
     "output_type": "stream",
     "text": [
      "Replacing all generalized values...\n"
     ]
    },
    {
     "name": "stderr",
     "output_type": "stream",
     "text": [
      "861it [00:00, 28371.73it/s]"
     ]
    },
    {
     "name": "stdout",
     "output_type": "stream",
     "text": [
      "27/27 [==============================] - 0s 3ms/step\n"
     ]
    },
    {
     "name": "stderr",
     "output_type": "stream",
     "text": [
      "\n",
      "2023-11-26 23:44:31.295302: I tensorflow/core/grappler/optimizers/custom_graph_optimizer_registry.cc:114] Plugin optimizer for device_type GPU is enabled.\n"
     ]
    },
    {
     "name": "stdout",
     "output_type": "stream",
     "text": [
      "0.7012329333814965\n",
      "Replacing all generalized values...\n"
     ]
    },
    {
     "name": "stderr",
     "output_type": "stream",
     "text": [
      "861it [00:00, 27209.06it/s]"
     ]
    },
    {
     "name": "stdout",
     "output_type": "stream",
     "text": [
      "27/27 [==============================] - 0s 3ms/step\n"
     ]
    },
    {
     "name": "stderr",
     "output_type": "stream",
     "text": [
      "\n",
      "2023-11-26 23:44:31.577586: I tensorflow/core/grappler/optimizers/custom_graph_optimizer_registry.cc:114] Plugin optimizer for device_type GPU is enabled.\n"
     ]
    },
    {
     "name": "stdout",
     "output_type": "stream",
     "text": [
      "0.6588048663843884\n",
      "Replacing all generalized values...\n"
     ]
    },
    {
     "name": "stderr",
     "output_type": "stream",
     "text": [
      "861it [00:00, 28359.70it/s]"
     ]
    },
    {
     "name": "stdout",
     "output_type": "stream",
     "text": [
      "27/27 [==============================] - 0s 3ms/step\n"
     ]
    },
    {
     "name": "stderr",
     "output_type": "stream",
     "text": [
      "\n",
      "2023-11-26 23:44:31.844527: I tensorflow/core/grappler/optimizers/custom_graph_optimizer_registry.cc:114] Plugin optimizer for device_type GPU is enabled.\n"
     ]
    },
    {
     "name": "stdout",
     "output_type": "stream",
     "text": [
      "0.683367511010111\n",
      "Replacing all generalized values...\n"
     ]
    },
    {
     "name": "stderr",
     "output_type": "stream",
     "text": [
      "861it [00:00, 28395.38it/s]"
     ]
    },
    {
     "name": "stdout",
     "output_type": "stream",
     "text": [
      "27/27 [==============================] - 0s 3ms/step\n"
     ]
    },
    {
     "name": "stderr",
     "output_type": "stream",
     "text": [
      "\n",
      "2023-11-26 23:44:32.105572: I tensorflow/core/grappler/optimizers/custom_graph_optimizer_registry.cc:114] Plugin optimizer for device_type GPU is enabled.\n"
     ]
    },
    {
     "name": "stdout",
     "output_type": "stream",
     "text": [
      "0.6657236902228004\n",
      "Replacing all generalized values...\n"
     ]
    },
    {
     "name": "stderr",
     "output_type": "stream",
     "text": [
      "861it [00:00, 28650.39it/s]"
     ]
    },
    {
     "name": "stdout",
     "output_type": "stream",
     "text": [
      "27/27 [==============================] - 0s 3ms/step\n"
     ]
    },
    {
     "name": "stderr",
     "output_type": "stream",
     "text": [
      "\n",
      "2023-11-26 23:44:32.378703: I tensorflow/core/grappler/optimizers/custom_graph_optimizer_registry.cc:114] Plugin optimizer for device_type GPU is enabled.\n"
     ]
    },
    {
     "name": "stdout",
     "output_type": "stream",
     "text": [
      "0.6836894232364615\n",
      "Replacing all generalized values...\n"
     ]
    },
    {
     "name": "stderr",
     "output_type": "stream",
     "text": [
      "861it [00:00, 27425.62it/s]"
     ]
    },
    {
     "name": "stdout",
     "output_type": "stream",
     "text": [
      "27/27 [==============================] - 0s 3ms/step\n"
     ]
    },
    {
     "name": "stderr",
     "output_type": "stream",
     "text": [
      "\n",
      "2023-11-26 23:44:32.635863: I tensorflow/core/grappler/optimizers/custom_graph_optimizer_registry.cc:114] Plugin optimizer for device_type GPU is enabled.\n"
     ]
    },
    {
     "name": "stdout",
     "output_type": "stream",
     "text": [
      "0.7215795586527294\n",
      "Replacing all generalized values...\n"
     ]
    },
    {
     "name": "stderr",
     "output_type": "stream",
     "text": [
      "861it [00:00, 28442.12it/s]"
     ]
    },
    {
     "name": "stdout",
     "output_type": "stream",
     "text": [
      "27/27 [==============================] - 0s 3ms/step\n",
      "0.7264940774116908\n"
     ]
    },
    {
     "name": "stderr",
     "output_type": "stream",
     "text": [
      "\n",
      "2023-11-26 23:44:32.892648: I tensorflow/core/grappler/optimizers/custom_graph_optimizer_registry.cc:114] Plugin optimizer for device_type GPU is enabled.\n"
     ]
    }
   ],
   "source": [
    "from sklearn.metrics import f1_score\n",
    "import numpy as np\n",
    "f1s = {}\n",
    "for i in range(len(mond_util.k_list) + 1):\n",
    "    if i == 0:\n",
    "        mond_util.models[i] = tf.keras.models.load_model(\"./weights/model_org.h5\")\n",
    "    else:\n",
    "        mond_util.models[i] = tf.keras.models.load_model(f\"./weights/model_{k_list[i-1]}.h5\")\n",
    "    X, y = mond_util.features[i]\n",
    "    _, X_test, y_test = encodeNonAnonData(\"occupancy\", \"/Users/amirrezasokhankhosh/Documents/Workstation/testing_adult/data/occupancy/test.csv\")\n",
    "    pred = mond_util.models[i].predict(X_test)\n",
    "    f1 = f1_score(y_test, pred>0.5, average='weighted')\n",
    "    print(f1)\n",
    "    if i == 0:\n",
    "        f1s[\"Original\"] = f1\n",
    "    else:\n",
    "        f1s[f\"K = {k_list[i-1]}\"] = f1\n",
    "# print(f1s)"
   ]
  },
  {
   "cell_type": "code",
   "execution_count": 112,
   "metadata": {},
   "outputs": [
    {
     "data": {
      "text/plain": [
       "<BarContainer object of 9 artists>"
      ]
     },
     "execution_count": 112,
     "metadata": {},
     "output_type": "execute_result"
    },
    {
     "data": {
      "image/png": "[encoded data removed]",
      "text/plain": [
       "<Figure size 640x480 with 1 Axes>"
      ]
     },
     "metadata": {},
     "output_type": "display_data"
    }
   ],
   "source": [
    "names = [\"Original\"] + [f\"K = {k}\" for k in k_list]\n",
    "height = [f1s[name] for name in names]\n",
    "plt.bar(names, height)"
   ]
  },
  {
   "cell_type": "code",
   "execution_count": null,
   "metadata": {},
   "outputs": [],
   "source": [
    "# Make it work for adult\n",
    "# See syn for occ"
   ]
  }
 ],
 "metadata": {
  "kernelspec": {
   "display_name": "data-science",
   "language": "python",
   "name": "python3"
  },
  "language_info": {
   "codemirror_mode": {
    "name": "ipython",
    "version": 3
   },
   "file_extension": ".py",
   "mimetype": "text/x-python",
   "name": "python",
   "nbconvert_exporter": "python",
   "pygments_lexer": "ipython3",
   "version": "3.10.6"
  }
 },
 "nbformat": 4,
 "nbformat_minor": 2
}
