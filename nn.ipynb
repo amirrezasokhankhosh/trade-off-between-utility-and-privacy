{
 "cells": [
  {
   "cell_type": "code",
   "execution_count": 8,
   "metadata": {},
   "outputs": [],
   "source": [
    "import tensorflow as tf\n",
    "import matplotlib.pyplot as plt\n",
    "import os\n",
    "os.chdir(\"/Users/amirrezasokhankhosh/Documents/Workstation/testing_adult/privacy/\")\n",
    "from privacy.encode import encodeData, encodeNonAnonData\n",
    "os.chdir(\"/Users/amirrezasokhankhosh/Documents/Workstation/testing_adult/\")"
   ]
  },
  {
   "cell_type": "code",
   "execution_count": 9,
   "metadata": {},
   "outputs": [],
   "source": [
    "data = \"texas\"\n",
    "method = \"classic_mondrian\"\n",
    "k_list = [5, 100, 200, 500]"
   ]
  },
  {
   "cell_type": "code",
   "execution_count": 10,
   "metadata": {},
   "outputs": [],
   "source": [
    "class Mondrian_Utility:\n",
    "    def __init__(self, data, method, k_list):\n",
    "        self.data = data\n",
    "        self.method = method\n",
    "        self.k_list = k_list\n",
    "    \n",
    "    def anonymize(self):\n",
    "        for k in self.k_list:\n",
    "            os.system(f'python privacy/anonymize.py --method={self.method} --k={k} --dataset={self.data}')\n",
    "    \n",
    "    def get_features(self):\n",
    "        self.features = []\n",
    "        self.val = []\n",
    "        for k in self.k_list:\n",
    "            pr_data, X_org, y_org, pr_data_anon, X_anon, y_anon = encodeData(self.data, self.method, k)\n",
    "            if not len(self.features):\n",
    "                self.features.append((X_org, y_org))\n",
    "                pr_data.to_csv(f\"./pr_mondrian_results/{self.data}_anonymized_org.csv\", index=False)\n",
    "            self.features.append((X_anon, y_anon))\n",
    "            pr_data_anon.to_csv(f\"./pr_mondrian_results/{self.data}_anonymized_{k}.csv\", index=False)\n",
    "        _, X_val, y_val = encodeNonAnonData(self.data, f'/Users/amirrezasokhankhosh/Documents/Workstation/testing_adult/data/{self.data}/val.csv')\n",
    "        self.val_data = X_val, y_val\n",
    "\n",
    "    def get_model(self):\n",
    "        self.models = []\n",
    "        for _ in range(len(self.features)):\n",
    "            if self.data == \"texas\":\n",
    "                model = tf.keras.models.Sequential([tf.keras.layers.InputLayer(input_shape=(self.features[0][0].shape[1],)),\n",
    "                    tf.keras.layers.Dense(256, activation='relu'),\n",
    "                    tf.keras.layers.Dropout(0.5),\n",
    "                    tf.keras.layers.Dense(128, activation='relu'),\n",
    "                    tf.keras.layers.Dropout(0.5),\n",
    "                    tf.keras.layers.Dense(64, activation='relu'),\n",
    "                    tf.keras.layers.Dense(32, activation='relu'),\n",
    "                    tf.keras.layers.Dense(1)])\n",
    "            elif self.data == \"adult\":\n",
    "                model = tf.keras.models.Sequential([tf.keras.layers.InputLayer(input_shape=(self.features[0][0].shape[1],)),\n",
    "                    tf.keras.layers.Dense(256, activation='relu'),\n",
    "                    tf.keras.layers.Dropout(0.5),\n",
    "                    tf.keras.layers.Dense(128, activation='relu'),\n",
    "                    tf.keras.layers.Dropout(0.5),\n",
    "                    tf.keras.layers.Dense(64, activation='relu'),\n",
    "                    tf.keras.layers.Dense(32, activation='relu'),\n",
    "                    tf.keras.layers.Dense(1, activation='sigmoid')])\n",
    "            else:\n",
    "                model = tf.keras.models.Sequential([tf.keras.layers.InputLayer(input_shape=(self.features[0][0].shape[1],)),\n",
    "                    tf.keras.layers.Dense(10, activation='relu'),\n",
    "                    tf.keras.layers.Dropout(0.5),\n",
    "                    tf.keras.layers.Dense(4, activation='softmax')])\n",
    "            self.models.append(model)\n",
    "\n",
    "    def compile_models(self):\n",
    "        for i in range(len(self.models)):\n",
    "            if self.data == \"adult\":\n",
    "                self.models[i].compile(optimizer=tf.keras.optimizers.Adam(learning_rate=3e-4),\n",
    "                    loss='binary_crossentropy',\n",
    "                    metrics=[\"accuracy\"])\n",
    "            elif self.data == \"texas\":\n",
    "                self.models[i].compile(optimizer='adam',\n",
    "                    loss='mean_squared_error')\n",
    "            else:\n",
    "                self.models[i].compile(optimizer=tf.keras.optimizers.Adam(learning_rate=3e-4),\n",
    "                    loss='categorical_crossentropy',\n",
    "                    metrics=[\"accuracy\"])\n",
    "\n",
    "    def prepare_training(self):\n",
    "        self.anonymize()\n",
    "        self.get_features()\n",
    "        self.get_model()\n",
    "        self.compile_models()\n",
    "    \n",
    "    def train(self):\n",
    "        self.histories = []\n",
    "        for i in range(len(self.k_list) + 1):\n",
    "            X, y = self.features[i]\n",
    "            callback = tf.keras.callbacks.EarlyStopping(monitor='val_loss', patience=5)\n",
    "            history = self.models[i].fit(X, y, epochs=100, batch_size=64, validation_data=self.val_data, callbacks=[callback])\n",
    "            self.histories.append(history)\n",
    "            if i == 0:\n",
    "                self.models[i].save(f\"./weights/model_{self.data}_org.h5\")\n",
    "            else:\n",
    "                self.models[i].save(f\"./weights/model_{self.data}_{k_list[i-1]}.h5\")\n",
    "            print(f\"{i+1} trained.\")\n",
    "\n",
    "    def plot_results(self):\n",
    "        for i in range(len(self.histories)):\n",
    "            if i == 0:\n",
    "                plt.plot(self.histories[i].history['accuracy'], label=\"Original\")\n",
    "            else:\n",
    "                plt.plot(self.histories[i].history['accuracy'], label=f\"K = {self.k_list[i-1]}\")\n",
    "        plt.title(\"Train Accuracy\")\n",
    "        plt.xlabel(\"Epoch\")\n",
    "        plt.ylabel(\"Accuracy\")\n",
    "        plt.legend()\n",
    "        plt.show()\n",
    "    \n",
    "    def test(self):\n",
    "        test_accs = []\n",
    "        for i in range(len(self.k_list) + 1):\n",
    "            if i == 0:\n",
    "                self.models[i] = tf.keras.models.load_model(\"./weights/model_org.h5\")\n",
    "            else:\n",
    "                self.models[i] = tf.keras.models.load_model(f\"./weights/model_{k_list[i-1]}.h5\")\n",
    "            X, y = self.features[i]\n",
    "            X_test, y_test = X[-self.test_size:], y[-self.test_size:]\n",
    "            res = self.models[i].evaluate(X_test, y_test)\n",
    "            test_accs.append(res[1])\n",
    "        return test_accs\n",
    "            "
   ]
  },
  {
   "cell_type": "code",
   "execution_count": 11,
   "metadata": {},
   "outputs": [],
   "source": [
    "mond_util = Mondrian_Utility(data, method, k_list)"
   ]
  },
  {
   "cell_type": "code",
   "execution_count": 12,
   "metadata": {},
   "outputs": [
    {
     "name": "stdout",
     "output_type": "stream",
     "text": [
      "Anonymize with classic_mondrian\n",
      "NCP score (lower is better): 0.082\n",
      "CAVG score (near 1 is better): BEFORE: 0.200 || AFTER: 1.567\n",
      "DM score (lower is better): BEFORE: 5708558025 || AFTER: 1054963\n",
      "Time execution: 1.041s\n",
      "Anonymize with classic_mondrian\n",
      "NCP score (lower is better): 0.245\n",
      "CAVG score (near 1 is better): BEFORE: 0.010 || AFTER: 1.479\n",
      "DM score (lower is better): BEFORE: 5708558025 || AFTER: 11852277\n",
      "Time execution: 0.326s\n",
      "Anonymize with classic_mondrian\n",
      "NCP score (lower is better): 0.312\n",
      "CAVG score (near 1 is better): BEFORE: 0.005 || AFTER: 1.459\n",
      "DM score (lower is better): BEFORE: 5708558025 || AFTER: 23349191\n",
      "Time execution: 0.282s\n",
      "Anonymize with classic_mondrian\n",
      "NCP score (lower is better): 0.442\n",
      "CAVG score (near 1 is better): BEFORE: 0.002 || AFTER: 1.467\n",
      "DM score (lower is better): BEFORE: 5708558025 || AFTER: 58242547\n",
      "Time execution: 0.282s\n",
      "Replacing all generalized values...\n"
     ]
    },
    {
     "name": "stderr",
     "output_type": "stream",
     "text": [
      "75555it [00:02, 27439.94it/s]\n"
     ]
    },
    {
     "name": "stdout",
     "output_type": "stream",
     "text": [
      "Replacing all generalized values...\n"
     ]
    },
    {
     "name": "stderr",
     "output_type": "stream",
     "text": [
      "75555it [00:02, 25962.65it/s]\n"
     ]
    },
    {
     "name": "stdout",
     "output_type": "stream",
     "text": [
      "Replacing all generalized values...\n"
     ]
    },
    {
     "name": "stderr",
     "output_type": "stream",
     "text": [
      "75555it [00:02, 25538.50it/s]\n"
     ]
    },
    {
     "name": "stdout",
     "output_type": "stream",
     "text": [
      "Replacing all generalized values...\n"
     ]
    },
    {
     "name": "stderr",
     "output_type": "stream",
     "text": [
      "75555it [00:03, 24775.33it/s]\n"
     ]
    },
    {
     "name": "stdout",
     "output_type": "stream",
     "text": [
      "Replacing all generalized values...\n"
     ]
    },
    {
     "name": "stderr",
     "output_type": "stream",
     "text": [
      "75555it [00:02, 26635.35it/s]\n"
     ]
    }
   ],
   "source": [
    "mond_util.prepare_training()"
   ]
  },
  {
   "cell_type": "code",
   "execution_count": 13,
   "metadata": {},
   "outputs": [
    {
     "name": "stdout",
     "output_type": "stream",
     "text": [
      "Epoch 1/100\n"
     ]
    },
    {
     "name": "stderr",
     "output_type": "stream",
     "text": [
      "2023-11-27 10:14:06.422131: I tensorflow/core/grappler/optimizers/custom_graph_optimizer_registry.cc:114] Plugin optimizer for device_type GPU is enabled.\n"
     ]
    },
    {
     "name": "stdout",
     "output_type": "stream",
     "text": [
      "1181/1181 [==============================] - ETA: 0s - loss: 0.6442"
     ]
    },
    {
     "name": "stderr",
     "output_type": "stream",
     "text": [
      "2023-11-27 10:14:16.523401: I tensorflow/core/grappler/optimizers/custom_graph_optimizer_registry.cc:114] Plugin optimizer for device_type GPU is enabled.\n"
     ]
    },
    {
     "name": "stdout",
     "output_type": "stream",
     "text": [
      "1181/1181 [==============================] - 14s 12ms/step - loss: 0.6442 - val_loss: 0.4465\n",
      "Epoch 2/100\n",
      "1181/1181 [==============================] - 13s 11ms/step - loss: 0.4711 - val_loss: 0.4389\n",
      "Epoch 3/100\n",
      "1181/1181 [==============================] - 13s 11ms/step - loss: 0.5589 - val_loss: 0.3889\n",
      "Epoch 4/100\n",
      "1181/1181 [==============================] - 14s 12ms/step - loss: 0.4462 - val_loss: 0.3866\n",
      "Epoch 5/100\n",
      "1181/1181 [==============================] - 14s 12ms/step - loss: 0.3878 - val_loss: 0.3321\n",
      "Epoch 6/100\n",
      "1181/1181 [==============================] - 14s 12ms/step - loss: 0.4453 - val_loss: 0.3483\n",
      "Epoch 7/100\n",
      "1181/1181 [==============================] - 14s 12ms/step - loss: 0.3731 - val_loss: 0.3554\n",
      "Epoch 8/100\n",
      "1181/1181 [==============================] - 14s 12ms/step - loss: 0.3734 - val_loss: 0.3288\n",
      "Epoch 9/100\n",
      "1181/1181 [==============================] - 14s 12ms/step - loss: 0.3699 - val_loss: 0.3376\n",
      "Epoch 10/100\n",
      "1181/1181 [==============================] - 14s 12ms/step - loss: 0.3906 - val_loss: 0.3631\n",
      "Epoch 11/100\n",
      "1181/1181 [==============================] - 14s 12ms/step - loss: 0.3760 - val_loss: 0.3588\n",
      "Epoch 12/100\n",
      "1181/1181 [==============================] - 14s 12ms/step - loss: 0.3450 - val_loss: 0.3193\n",
      "Epoch 13/100\n",
      "1181/1181 [==============================] - 13s 11ms/step - loss: 0.3649 - val_loss: 0.3030\n",
      "Epoch 14/100\n",
      "1181/1181 [==============================] - 14s 12ms/step - loss: 0.3571 - val_loss: 0.2909\n",
      "Epoch 15/100\n",
      "1181/1181 [==============================] - 13s 11ms/step - loss: 0.3348 - val_loss: 0.3216\n",
      "Epoch 16/100\n",
      "1181/1181 [==============================] - 13s 11ms/step - loss: 0.3358 - val_loss: 0.2859\n",
      "Epoch 17/100\n",
      "1181/1181 [==============================] - 14s 11ms/step - loss: 0.3256 - val_loss: 0.2765\n",
      "Epoch 18/100\n",
      "1181/1181 [==============================] - 14s 12ms/step - loss: 0.3133 - val_loss: 0.2900\n",
      "Epoch 19/100\n",
      "1181/1181 [==============================] - 14s 12ms/step - loss: 0.3236 - val_loss: 0.2988\n",
      "Epoch 20/100\n",
      "1181/1181 [==============================] - 14s 12ms/step - loss: 0.3127 - val_loss: 0.2647\n",
      "Epoch 21/100\n",
      "1181/1181 [==============================] - 13s 11ms/step - loss: 0.3236 - val_loss: 0.2592\n",
      "Epoch 22/100\n",
      "1181/1181 [==============================] - 13s 11ms/step - loss: 0.2896 - val_loss: 0.2679\n",
      "Epoch 23/100\n",
      "1181/1181 [==============================] - 13s 11ms/step - loss: 0.3359 - val_loss: 0.2894\n",
      "Epoch 24/100\n",
      "1181/1181 [==============================] - 13s 11ms/step - loss: 0.2913 - val_loss: 0.2825\n",
      "Epoch 25/100\n",
      "1181/1181 [==============================] - 13s 11ms/step - loss: 0.2866 - val_loss: 0.2751\n",
      "Epoch 26/100\n",
      "1181/1181 [==============================] - 13s 11ms/step - loss: 0.3131 - val_loss: 0.2625\n",
      "1 trained.\n",
      "Epoch 1/100\n"
     ]
    },
    {
     "name": "stderr",
     "output_type": "stream",
     "text": [
      "2023-11-27 10:20:00.032923: I tensorflow/core/grappler/optimizers/custom_graph_optimizer_registry.cc:114] Plugin optimizer for device_type GPU is enabled.\n"
     ]
    },
    {
     "name": "stdout",
     "output_type": "stream",
     "text": [
      "1181/1181 [==============================] - ETA: 0s - loss: 0.7962"
     ]
    },
    {
     "name": "stderr",
     "output_type": "stream",
     "text": [
      "2023-11-27 10:20:09.607101: I tensorflow/core/grappler/optimizers/custom_graph_optimizer_registry.cc:114] Plugin optimizer for device_type GPU is enabled.\n"
     ]
    },
    {
     "name": "stdout",
     "output_type": "stream",
     "text": [
      "1181/1181 [==============================] - 14s 11ms/step - loss: 0.7962 - val_loss: 0.7061\n",
      "Epoch 2/100\n",
      "1181/1181 [==============================] - 13s 11ms/step - loss: 0.7585 - val_loss: 0.6167\n",
      "Epoch 3/100\n",
      "1181/1181 [==============================] - 13s 11ms/step - loss: 0.7358 - val_loss: 0.7381\n",
      "Epoch 4/100\n",
      "1181/1181 [==============================] - 13s 11ms/step - loss: 0.7429 - val_loss: 0.6525\n",
      "Epoch 5/100\n",
      "1181/1181 [==============================] - 13s 11ms/step - loss: 0.7303 - val_loss: 0.6422\n",
      "Epoch 6/100\n",
      "1181/1181 [==============================] - 13s 11ms/step - loss: 0.7256 - val_loss: 0.6229\n",
      "Epoch 7/100\n",
      "1181/1181 [==============================] - 13s 11ms/step - loss: 0.7198 - val_loss: 0.6144\n",
      "Epoch 8/100\n",
      "1181/1181 [==============================] - 13s 11ms/step - loss: 0.7157 - val_loss: 0.6099\n",
      "Epoch 9/100\n",
      "1181/1181 [==============================] - 13s 11ms/step - loss: 0.7207 - val_loss: 0.6225\n",
      "Epoch 10/100\n",
      "1181/1181 [==============================] - 13s 11ms/step - loss: 0.7195 - val_loss: 0.5951\n",
      "Epoch 11/100\n",
      "1181/1181 [==============================] - 13s 11ms/step - loss: 0.7158 - val_loss: 0.6082\n",
      "Epoch 12/100\n",
      "1181/1181 [==============================] - 13s 11ms/step - loss: 0.7114 - val_loss: 0.5771\n",
      "Epoch 13/100\n",
      "1181/1181 [==============================] - 13s 11ms/step - loss: 0.7159 - val_loss: 0.5949\n",
      "Epoch 14/100\n",
      "1181/1181 [==============================] - 13s 11ms/step - loss: 0.7162 - val_loss: 0.5954\n",
      "Epoch 15/100\n",
      "1181/1181 [==============================] - 13s 11ms/step - loss: 0.7105 - val_loss: 0.5997\n",
      "Epoch 16/100\n",
      "1181/1181 [==============================] - 13s 11ms/step - loss: 0.7095 - val_loss: 0.6023\n",
      "Epoch 17/100\n",
      "1181/1181 [==============================] - 13s 11ms/step - loss: 0.7058 - val_loss: 0.5836\n",
      "2 trained.\n",
      "Epoch 1/100\n"
     ]
    },
    {
     "name": "stderr",
     "output_type": "stream",
     "text": [
      "2023-11-27 10:23:40.531630: I tensorflow/core/grappler/optimizers/custom_graph_optimizer_registry.cc:114] Plugin optimizer for device_type GPU is enabled.\n"
     ]
    },
    {
     "name": "stdout",
     "output_type": "stream",
     "text": [
      "1181/1181 [==============================] - ETA: 0s - loss: 0.9277"
     ]
    },
    {
     "name": "stderr",
     "output_type": "stream",
     "text": [
      "2023-11-27 10:23:50.617445: I tensorflow/core/grappler/optimizers/custom_graph_optimizer_registry.cc:114] Plugin optimizer for device_type GPU is enabled.\n"
     ]
    },
    {
     "name": "stdout",
     "output_type": "stream",
     "text": [
      "1181/1181 [==============================] - 14s 12ms/step - loss: 0.9277 - val_loss: 0.9208\n",
      "Epoch 2/100\n",
      "1181/1181 [==============================] - 13s 11ms/step - loss: 0.9100 - val_loss: 0.9004\n",
      "Epoch 3/100\n",
      "1181/1181 [==============================] - 13s 11ms/step - loss: 0.9035 - val_loss: 0.8988\n",
      "Epoch 4/100\n",
      "1181/1181 [==============================] - 13s 11ms/step - loss: 0.9023 - val_loss: 0.8866\n",
      "Epoch 5/100\n",
      "1181/1181 [==============================] - 13s 11ms/step - loss: 0.8998 - val_loss: 0.8823\n",
      "Epoch 6/100\n",
      "1181/1181 [==============================] - 13s 11ms/step - loss: 0.8980 - val_loss: 0.8627\n",
      "Epoch 7/100\n",
      "1181/1181 [==============================] - 13s 11ms/step - loss: 0.8970 - val_loss: 0.8637\n",
      "Epoch 8/100\n",
      "1181/1181 [==============================] - 13s 11ms/step - loss: 0.8971 - val_loss: 0.8792\n",
      "Epoch 9/100\n",
      "1181/1181 [==============================] - 13s 11ms/step - loss: 0.8955 - val_loss: 0.8538\n",
      "Epoch 10/100\n",
      "1181/1181 [==============================] - 13s 11ms/step - loss: 0.8940 - val_loss: 0.8627\n",
      "Epoch 11/100\n",
      "1181/1181 [==============================] - 13s 11ms/step - loss: 0.8958 - val_loss: 0.8724\n",
      "Epoch 12/100\n",
      "1181/1181 [==============================] - 13s 11ms/step - loss: 0.8945 - val_loss: 0.8611\n",
      "Epoch 13/100\n",
      "1181/1181 [==============================] - 13s 11ms/step - loss: 0.8931 - val_loss: 0.8646\n",
      "Epoch 14/100\n",
      "1181/1181 [==============================] - 13s 11ms/step - loss: 0.8939 - val_loss: 0.8631\n",
      "3 trained.\n",
      "Epoch 1/100\n"
     ]
    },
    {
     "name": "stderr",
     "output_type": "stream",
     "text": [
      "2023-11-27 10:26:45.496210: I tensorflow/core/grappler/optimizers/custom_graph_optimizer_registry.cc:114] Plugin optimizer for device_type GPU is enabled.\n"
     ]
    },
    {
     "name": "stdout",
     "output_type": "stream",
     "text": [
      "1181/1181 [==============================] - ETA: 0s - loss: 0.9379"
     ]
    },
    {
     "name": "stderr",
     "output_type": "stream",
     "text": [
      "2023-11-27 10:26:55.316420: I tensorflow/core/grappler/optimizers/custom_graph_optimizer_registry.cc:114] Plugin optimizer for device_type GPU is enabled.\n"
     ]
    },
    {
     "name": "stdout",
     "output_type": "stream",
     "text": [
      "1181/1181 [==============================] - 14s 11ms/step - loss: 0.9379 - val_loss: 0.9412\n",
      "Epoch 2/100\n",
      "1181/1181 [==============================] - 13s 11ms/step - loss: 0.9262 - val_loss: 0.9213\n",
      "Epoch 3/100\n",
      "1181/1181 [==============================] - 13s 11ms/step - loss: 0.9221 - val_loss: 0.9032\n",
      "Epoch 4/100\n",
      "1181/1181 [==============================] - 14s 12ms/step - loss: 0.9193 - val_loss: 0.9027\n",
      "Epoch 5/100\n",
      "1181/1181 [==============================] - 13s 11ms/step - loss: 0.9178 - val_loss: 0.8920\n",
      "Epoch 6/100\n",
      "1181/1181 [==============================] - 13s 11ms/step - loss: 0.9163 - val_loss: 0.8954\n",
      "Epoch 7/100\n",
      "1181/1181 [==============================] - 13s 11ms/step - loss: 0.9150 - val_loss: 0.9037\n",
      "Epoch 8/100\n",
      "1181/1181 [==============================] - 13s 11ms/step - loss: 0.9145 - val_loss: 0.9028\n",
      "Epoch 9/100\n",
      "1181/1181 [==============================] - 13s 11ms/step - loss: 0.9142 - val_loss: 0.8880\n",
      "Epoch 10/100\n",
      "1181/1181 [==============================] - 14s 12ms/step - loss: 0.9141 - val_loss: 0.8926\n",
      "Epoch 11/100\n",
      "1181/1181 [==============================] - 18s 15ms/step - loss: 0.9130 - val_loss: 0.8841\n",
      "Epoch 12/100\n",
      "1181/1181 [==============================] - 14s 12ms/step - loss: 0.9128 - val_loss: 0.8846\n",
      "Epoch 13/100\n",
      "1181/1181 [==============================] - 13s 11ms/step - loss: 0.9122 - val_loss: 0.8703\n",
      "Epoch 14/100\n",
      "1181/1181 [==============================] - 13s 11ms/step - loss: 0.9120 - val_loss: 0.8917\n",
      "Epoch 15/100\n",
      "1181/1181 [==============================] - 428s 362ms/step - loss: 0.9114 - val_loss: 0.9091\n",
      "Epoch 16/100\n",
      "1181/1181 [==============================] - 13s 11ms/step - loss: 0.9102 - val_loss: 0.8781\n",
      "Epoch 17/100\n",
      "1181/1181 [==============================] - 13s 11ms/step - loss: 0.9115 - val_loss: 0.8914\n",
      "Epoch 18/100\n",
      "1181/1181 [==============================] - 921s 781ms/step - loss: 0.9112 - val_loss: 0.8839\n",
      "4 trained.\n",
      "Epoch 1/100\n"
     ]
    },
    {
     "name": "stderr",
     "output_type": "stream",
     "text": [
      "2023-11-27 10:52:49.558336: I tensorflow/core/grappler/optimizers/custom_graph_optimizer_registry.cc:114] Plugin optimizer for device_type GPU is enabled.\n"
     ]
    },
    {
     "name": "stdout",
     "output_type": "stream",
     "text": [
      "1181/1181 [==============================] - ETA: 0s - loss: 0.9509"
     ]
    },
    {
     "name": "stderr",
     "output_type": "stream",
     "text": [
      "2023-11-27 10:53:01.214259: I tensorflow/core/grappler/optimizers/custom_graph_optimizer_registry.cc:114] Plugin optimizer for device_type GPU is enabled.\n"
     ]
    },
    {
     "name": "stdout",
     "output_type": "stream",
     "text": [
      "1181/1181 [==============================] - 16s 13ms/step - loss: 0.9509 - val_loss: 0.9797\n",
      "Epoch 2/100\n",
      "1181/1181 [==============================] - 14s 11ms/step - loss: 0.9367 - val_loss: 0.9826\n",
      "Epoch 3/100\n",
      "1181/1181 [==============================] - 13s 11ms/step - loss: 0.9326 - val_loss: 0.9788\n",
      "Epoch 4/100\n",
      "1181/1181 [==============================] - 13s 11ms/step - loss: 0.9312 - val_loss: 0.9806\n",
      "Epoch 5/100\n",
      "1181/1181 [==============================] - 13s 11ms/step - loss: 0.9302 - val_loss: 0.9880\n",
      "Epoch 6/100\n",
      "1181/1181 [==============================] - 13s 11ms/step - loss: 0.9286 - val_loss: 0.9856\n",
      "Epoch 7/100\n",
      "1181/1181 [==============================] - 13s 11ms/step - loss: 0.9276 - val_loss: 0.9885\n",
      "Epoch 8/100\n",
      "1181/1181 [==============================] - 13s 11ms/step - loss: 0.9276 - val_loss: 0.9744\n",
      "Epoch 9/100\n",
      "1181/1181 [==============================] - 13s 11ms/step - loss: 0.9272 - val_loss: 0.9735\n",
      "Epoch 10/100\n",
      "1181/1181 [==============================] - 13s 11ms/step - loss: 0.9264 - val_loss: 0.9754\n",
      "Epoch 11/100\n",
      "1181/1181 [==============================] - 13s 11ms/step - loss: 0.9258 - val_loss: 0.9688\n",
      "Epoch 12/100\n",
      "1181/1181 [==============================] - 13s 11ms/step - loss: 0.9259 - val_loss: 0.9746\n",
      "Epoch 13/100\n",
      "1181/1181 [==============================] - 13s 11ms/step - loss: 0.9254 - val_loss: 0.9642\n",
      "Epoch 14/100\n",
      "1181/1181 [==============================] - 13s 11ms/step - loss: 0.9253 - val_loss: 0.9688\n",
      "Epoch 15/100\n",
      "1181/1181 [==============================] - 13s 11ms/step - loss: 0.9252 - val_loss: 0.9655\n",
      "Epoch 16/100\n",
      "1181/1181 [==============================] - 13s 11ms/step - loss: 0.9249 - val_loss: 0.9661\n",
      "Epoch 17/100\n",
      "1181/1181 [==============================] - 13s 11ms/step - loss: 0.9254 - val_loss: 0.9673\n",
      "Epoch 18/100\n",
      "1181/1181 [==============================] - 13s 11ms/step - loss: 0.9244 - val_loss: 0.9674\n",
      "5 trained.\n"
     ]
    }
   ],
   "source": [
    "mond_util.train()"
   ]
  },
  {
   "cell_type": "code",
   "execution_count": 14,
   "metadata": {},
   "outputs": [
    {
     "ename": "KeyError",
     "evalue": "'accuracy'",
     "output_type": "error",
     "traceback": [
      "\u001b[0;31m---------------------------------------------------------------------------\u001b[0m",
      "\u001b[0;31mKeyError\u001b[0m                                  Traceback (most recent call last)",
      "\u001b[1;32m/Users/amirrezasokhankhosh/Documents/Workstation/testing_adult/nn.ipynb Cell 7\u001b[0m line \u001b[0;36m1\n\u001b[0;32m----> <a href='vscode-notebook-cell:/Users/amirrezasokhankhosh/Documents/Workstation/testing_adult/nn.ipynb#W6sZmlsZQ%3D%3D?line=0'>1</a>\u001b[0m mond_util\u001b[39m.\u001b[39;49mplot_results()\n",
      "\u001b[1;32m/Users/amirrezasokhankhosh/Documents/Workstation/testing_adult/nn.ipynb Cell 7\u001b[0m line \u001b[0;36m8\n\u001b[1;32m     <a href='vscode-notebook-cell:/Users/amirrezasokhankhosh/Documents/Workstation/testing_adult/nn.ipynb#W6sZmlsZQ%3D%3D?line=85'>86</a>\u001b[0m \u001b[39mfor\u001b[39;00m i \u001b[39min\u001b[39;00m \u001b[39mrange\u001b[39m(\u001b[39mlen\u001b[39m(\u001b[39mself\u001b[39m\u001b[39m.\u001b[39mhistories)):\n\u001b[1;32m     <a href='vscode-notebook-cell:/Users/amirrezasokhankhosh/Documents/Workstation/testing_adult/nn.ipynb#W6sZmlsZQ%3D%3D?line=86'>87</a>\u001b[0m     \u001b[39mif\u001b[39;00m i \u001b[39m==\u001b[39m \u001b[39m0\u001b[39m:\n\u001b[0;32m---> <a href='vscode-notebook-cell:/Users/amirrezasokhankhosh/Documents/Workstation/testing_adult/nn.ipynb#W6sZmlsZQ%3D%3D?line=87'>88</a>\u001b[0m         plt\u001b[39m.\u001b[39mplot(\u001b[39mself\u001b[39;49m\u001b[39m.\u001b[39;49mhistories[i]\u001b[39m.\u001b[39;49mhistory[\u001b[39m'\u001b[39;49m\u001b[39maccuracy\u001b[39;49m\u001b[39m'\u001b[39;49m], label\u001b[39m=\u001b[39m\u001b[39m\"\u001b[39m\u001b[39mOriginal\u001b[39m\u001b[39m\"\u001b[39m)\n\u001b[1;32m     <a href='vscode-notebook-cell:/Users/amirrezasokhankhosh/Documents/Workstation/testing_adult/nn.ipynb#W6sZmlsZQ%3D%3D?line=88'>89</a>\u001b[0m     \u001b[39melse\u001b[39;00m:\n\u001b[1;32m     <a href='vscode-notebook-cell:/Users/amirrezasokhankhosh/Documents/Workstation/testing_adult/nn.ipynb#W6sZmlsZQ%3D%3D?line=89'>90</a>\u001b[0m         plt\u001b[39m.\u001b[39mplot(\u001b[39mself\u001b[39m\u001b[39m.\u001b[39mhistories[i]\u001b[39m.\u001b[39mhistory[\u001b[39m'\u001b[39m\u001b[39maccuracy\u001b[39m\u001b[39m'\u001b[39m], label\u001b[39m=\u001b[39m\u001b[39mf\u001b[39m\u001b[39m\"\u001b[39m\u001b[39mK = \u001b[39m\u001b[39m{\u001b[39;00m\u001b[39mself\u001b[39m\u001b[39m.\u001b[39mk_list[i\u001b[39m-\u001b[39m\u001b[39m1\u001b[39m]\u001b[39m}\u001b[39;00m\u001b[39m\"\u001b[39m)\n",
      "\u001b[0;31mKeyError\u001b[0m: 'accuracy'"
     ]
    }
   ],
   "source": [
    "mond_util.plot_results()"
   ]
  },
  {
   "cell_type": "code",
   "execution_count": 27,
   "metadata": {},
   "outputs": [
    {
     "name": "stdout",
     "output_type": "stream",
     "text": [
      "[0.8531809449195862, 0.855794370174408, 0.8552872538566589, 0.8563014268875122, 0.8575496077537537, 0.8615282773971558, 0.8599290251731873, 0.8631275296211243, 0.865155816078186, 0.8645707368850708, 0.8677302598953247, 0.8674181699752808, 0.8688223958015442, 0.8694854974746704, 0.8697195649147034, 0.8697975873947144, 0.8724499940872192, 0.8721379041671753, 0.8739321827888489, 0.8727230429649353, 0.8723719716072083, 0.8735811710357666, 0.8752194046974182, 0.877598762512207, 0.877598762512207, 0.8788470029830933, 0.8792760372161865, 0.8784179091453552, 0.8805632591247559, 0.8798611164093018, 0.8791199922561646, 0.8821625113487244, 0.8831766843795776, 0.8818894624710083, 0.884229838848114, 0.884073793888092, 0.8842688202857971, 0.8848538994789124, 0.8854390382766724, 0.8855170011520386, 0.8863361477851868, 0.8860630989074707, 0.8846198916435242, 0.8873893022537231, 0.8886375427246094, 0.8881304264068604, 0.8884424567222595, 0.8887155055999756, 0.8883254528045654, 0.8889105319976807]\n"
     ]
    }
   ],
   "source": [
    "print(mond_util.histories[0].history['val_accuracy'])"
   ]
  },
  {
   "cell_type": "code",
   "execution_count": 16,
   "metadata": {},
   "outputs": [
    {
     "data": {
      "image/png": "[encoded data removed]",
      "text/plain": [
       "<Figure size 640x480 with 1 Axes>"
      ]
     },
     "metadata": {},
     "output_type": "display_data"
    }
   ],
   "source": [
    "for i in range(len(mond_util.histories)):\n",
    "    if i == 0:\n",
    "        plt.plot(mond_util.histories[i].history['loss'], label=\"Original\")\n",
    "    else:\n",
    "        plt.plot(mond_util.histories[i].history['loss'], label=f\"K = {mond_util.k_list[i-1]}\")\n",
    "plt.title(\"Validation loss\")\n",
    "plt.xlabel(\"Epoch\")\n",
    "plt.ylabel(\"Accuracy\")\n",
    "plt.legend()\n",
    "plt.show()"
   ]
  },
  {
   "cell_type": "code",
   "execution_count": 15,
   "metadata": {},
   "outputs": [
    {
     "data": {
      "image/png": "[encoded data removed]",
      "text/plain": [
       "<Figure size 640x480 with 1 Axes>"
      ]
     },
     "metadata": {},
     "output_type": "display_data"
    }
   ],
   "source": [
    "for i in range(len(mond_util.histories)):\n",
    "    if i == 0:\n",
    "        plt.plot(mond_util.histories[i].history['val_loss'], label=\"Original\")\n",
    "    else:\n",
    "        plt.plot(mond_util.histories[i].history['val_loss'], label=f\"K = {mond_util.k_list[i-1]}\")\n",
    "plt.title(\"Validation loss\")\n",
    "plt.xlabel(\"Epoch\")\n",
    "plt.ylabel(\"Accuracy\")\n",
    "plt.legend()\n",
    "plt.show()"
   ]
  },
  {
   "cell_type": "code",
   "execution_count": 37,
   "metadata": {},
   "outputs": [
    {
     "name": "stdout",
     "output_type": "stream",
     "text": [
      "Replacing all generalized values...\n"
     ]
    },
    {
     "name": "stderr",
     "output_type": "stream",
     "text": [
      "15060it [00:00, 26201.83it/s]\n",
      "2023-11-27 07:50:09.990129: I tensorflow/core/grappler/optimizers/custom_graph_optimizer_registry.cc:114] Plugin optimizer for device_type GPU is enabled.\n",
      "loc(\"mps_select\"(\"(mpsFileLoc): /AppleInternal/Library/BuildRoots/495c257e-668e-11ee-93ce-926038f30c31/Library/Caches/com.apple.xbs/Sources/MetalPerformanceShadersGraph/mpsgraph/MetalPerformanceShadersGraph/Core/Files/MPSGraphUtilities.mm\":294:0)): error: 'anec.gain_offset_control' op result #0 must be 4D/5D memref of 16-bit float or 8-bit signed integer or 8-bit unsigned integer values, but got 'memref<1x32x1x1xi1>'\n",
      "loc(\"mps_select\"(\"(mpsFileLoc): /AppleInternal/Library/BuildRoots/495c257e-668e-11ee-93ce-926038f30c31/Library/Caches/com.apple.xbs/Sources/MetalPerformanceShadersGraph/mpsgraph/MetalPerformanceShadersGraph/Core/Files/MPSGraphUtilities.mm\":294:0)): error: 'anec.gain_offset_control' op result #0 must be 4D/5D memref of 16-bit float or 8-bit signed integer or 8-bit unsigned integer values, but got 'memref<1x32x1x1xi1>'\n"
     ]
    },
    {
     "name": "stdout",
     "output_type": "stream",
     "text": [
      "471/471 [==============================] - 3s 6ms/step - loss: 2.7224 - accuracy: 0.6398\n"
     ]
    },
    {
     "name": "stderr",
     "output_type": "stream",
     "text": [
      "loc(\"mps_select\"(\"(mpsFileLoc): /AppleInternal/Library/BuildRoots/495c257e-668e-11ee-93ce-926038f30c31/Library/Caches/com.apple.xbs/Sources/MetalPerformanceShadersGraph/mpsgraph/MetalPerformanceShadersGraph/Core/Files/MPSGraphUtilities.mm\":294:0)): error: 'anec.gain_offset_control' op result #0 must be 4D/5D memref of 16-bit float or 8-bit signed integer or 8-bit unsigned integer values, but got 'memref<1x20x1x1xi1>'\n",
      "loc(\"mps_select\"(\"(mpsFileLoc): /AppleInternal/Library/BuildRoots/495c257e-668e-11ee-93ce-926038f30c31/Library/Caches/com.apple.xbs/Sources/MetalPerformanceShadersGraph/mpsgraph/MetalPerformanceShadersGraph/Core/Files/MPSGraphUtilities.mm\":294:0)): error: 'anec.gain_offset_control' op result #0 must be 4D/5D memref of 16-bit float or 8-bit signed integer or 8-bit unsigned integer values, but got 'memref<1x20x1x1xi1>'\n"
     ]
    },
    {
     "name": "stdout",
     "output_type": "stream",
     "text": [
      "Replacing all generalized values...\n"
     ]
    },
    {
     "name": "stderr",
     "output_type": "stream",
     "text": [
      "15060it [00:00, 26331.74it/s]\n"
     ]
    },
    {
     "name": "stdout",
     "output_type": "stream",
     "text": [
      "  1/471 [..............................] - ETA: 1:48 - loss: 0.7766 - accuracy: 0.6875"
     ]
    },
    {
     "name": "stderr",
     "output_type": "stream",
     "text": [
      "2023-11-27 07:50:14.375858: I tensorflow/core/grappler/optimizers/custom_graph_optimizer_registry.cc:114] Plugin optimizer for device_type GPU is enabled.\n",
      "loc(\"mps_select\"(\"(mpsFileLoc): /AppleInternal/Library/BuildRoots/495c257e-668e-11ee-93ce-926038f30c31/Library/Caches/com.apple.xbs/Sources/MetalPerformanceShadersGraph/mpsgraph/MetalPerformanceShadersGraph/Core/Files/MPSGraphUtilities.mm\":294:0)): error: 'anec.gain_offset_control' op result #0 must be 4D/5D memref of 16-bit float or 8-bit signed integer or 8-bit unsigned integer values, but got 'memref<1x32x1x1xi1>'\n",
      "loc(\"mps_select\"(\"(mpsFileLoc): /AppleInternal/Library/BuildRoots/495c257e-668e-11ee-93ce-926038f30c31/Library/Caches/com.apple.xbs/Sources/MetalPerformanceShadersGraph/mpsgraph/MetalPerformanceShadersGraph/Core/Files/MPSGraphUtilities.mm\":294:0)): error: 'anec.gain_offset_control' op result #0 must be 4D/5D memref of 16-bit float or 8-bit signed integer or 8-bit unsigned integer values, but got 'memref<1x32x1x1xi1>'\n"
     ]
    },
    {
     "name": "stdout",
     "output_type": "stream",
     "text": [
      "471/471 [==============================] - 3s 6ms/step - loss: 0.9375 - accuracy: 0.6341\n"
     ]
    },
    {
     "name": "stderr",
     "output_type": "stream",
     "text": [
      "loc(\"mps_select\"(\"(mpsFileLoc): /AppleInternal/Library/BuildRoots/495c257e-668e-11ee-93ce-926038f30c31/Library/Caches/com.apple.xbs/Sources/MetalPerformanceShadersGraph/mpsgraph/MetalPerformanceShadersGraph/Core/Files/MPSGraphUtilities.mm\":294:0)): error: 'anec.gain_offset_control' op result #0 must be 4D/5D memref of 16-bit float or 8-bit signed integer or 8-bit unsigned integer values, but got 'memref<1x20x1x1xi1>'\n",
      "loc(\"mps_select\"(\"(mpsFileLoc): /AppleInternal/Library/BuildRoots/495c257e-668e-11ee-93ce-926038f30c31/Library/Caches/com.apple.xbs/Sources/MetalPerformanceShadersGraph/mpsgraph/MetalPerformanceShadersGraph/Core/Files/MPSGraphUtilities.mm\":294:0)): error: 'anec.gain_offset_control' op result #0 must be 4D/5D memref of 16-bit float or 8-bit signed integer or 8-bit unsigned integer values, but got 'memref<1x20x1x1xi1>'\n"
     ]
    },
    {
     "name": "stdout",
     "output_type": "stream",
     "text": [
      "Replacing all generalized values...\n"
     ]
    },
    {
     "name": "stderr",
     "output_type": "stream",
     "text": [
      "15060it [00:00, 26450.13it/s]\n",
      "2023-11-27 07:50:18.593106: I tensorflow/core/grappler/optimizers/custom_graph_optimizer_registry.cc:114] Plugin optimizer for device_type GPU is enabled.\n",
      "loc(\"mps_select\"(\"(mpsFileLoc): /AppleInternal/Library/BuildRoots/495c257e-668e-11ee-93ce-926038f30c31/Library/Caches/com.apple.xbs/Sources/MetalPerformanceShadersGraph/mpsgraph/MetalPerformanceShadersGraph/Core/Files/MPSGraphUtilities.mm\":294:0)): error: 'anec.gain_offset_control' op result #0 must be 4D/5D memref of 16-bit float or 8-bit signed integer or 8-bit unsigned integer values, but got 'memref<1x32x1x1xi1>'\n",
      "loc(\"mps_select\"(\"(mpsFileLoc): /AppleInternal/Library/BuildRoots/495c257e-668e-11ee-93ce-926038f30c31/Library/Caches/com.apple.xbs/Sources/MetalPerformanceShadersGraph/mpsgraph/MetalPerformanceShadersGraph/Core/Files/MPSGraphUtilities.mm\":294:0)): error: 'anec.gain_offset_control' op result #0 must be 4D/5D memref of 16-bit float or 8-bit signed integer or 8-bit unsigned integer values, but got 'memref<1x32x1x1xi1>'\n"
     ]
    },
    {
     "name": "stdout",
     "output_type": "stream",
     "text": [
      "471/471 [==============================] - 4s 7ms/step - loss: 0.7145 - accuracy: 0.5986\n"
     ]
    },
    {
     "name": "stderr",
     "output_type": "stream",
     "text": [
      "loc(\"mps_select\"(\"(mpsFileLoc): /AppleInternal/Library/BuildRoots/495c257e-668e-11ee-93ce-926038f30c31/Library/Caches/com.apple.xbs/Sources/MetalPerformanceShadersGraph/mpsgraph/MetalPerformanceShadersGraph/Core/Files/MPSGraphUtilities.mm\":294:0)): error: 'anec.gain_offset_control' op result #0 must be 4D/5D memref of 16-bit float or 8-bit signed integer or 8-bit unsigned integer values, but got 'memref<1x20x1x1xi1>'\n",
      "loc(\"mps_select\"(\"(mpsFileLoc): /AppleInternal/Library/BuildRoots/495c257e-668e-11ee-93ce-926038f30c31/Library/Caches/com.apple.xbs/Sources/MetalPerformanceShadersGraph/mpsgraph/MetalPerformanceShadersGraph/Core/Files/MPSGraphUtilities.mm\":294:0)): error: 'anec.gain_offset_control' op result #0 must be 4D/5D memref of 16-bit float or 8-bit signed integer or 8-bit unsigned integer values, but got 'memref<1x20x1x1xi1>'\n"
     ]
    },
    {
     "name": "stdout",
     "output_type": "stream",
     "text": [
      "Replacing all generalized values...\n"
     ]
    },
    {
     "name": "stderr",
     "output_type": "stream",
     "text": [
      "15060it [00:00, 24013.97it/s]\n",
      "2023-11-27 07:50:23.387502: I tensorflow/core/grappler/optimizers/custom_graph_optimizer_registry.cc:114] Plugin optimizer for device_type GPU is enabled.\n",
      "loc(\"mps_select\"(\"(mpsFileLoc): /AppleInternal/Library/BuildRoots/495c257e-668e-11ee-93ce-926038f30c31/Library/Caches/com.apple.xbs/Sources/MetalPerformanceShadersGraph/mpsgraph/MetalPerformanceShadersGraph/Core/Files/MPSGraphUtilities.mm\":294:0)): error: 'anec.gain_offset_control' op result #0 must be 4D/5D memref of 16-bit float or 8-bit signed integer or 8-bit unsigned integer values, but got 'memref<1x32x1x1xi1>'\n",
      "loc(\"mps_select\"(\"(mpsFileLoc): /AppleInternal/Library/BuildRoots/495c257e-668e-11ee-93ce-926038f30c31/Library/Caches/com.apple.xbs/Sources/MetalPerformanceShadersGraph/mpsgraph/MetalPerformanceShadersGraph/Core/Files/MPSGraphUtilities.mm\":294:0)): error: 'anec.gain_offset_control' op result #0 must be 4D/5D memref of 16-bit float or 8-bit signed integer or 8-bit unsigned integer values, but got 'memref<1x32x1x1xi1>'\n"
     ]
    },
    {
     "name": "stdout",
     "output_type": "stream",
     "text": [
      "471/471 [==============================] - 3s 7ms/step - loss: 0.7231 - accuracy: 0.5614\n"
     ]
    },
    {
     "name": "stderr",
     "output_type": "stream",
     "text": [
      "loc(\"mps_select\"(\"(mpsFileLoc): /AppleInternal/Library/BuildRoots/495c257e-668e-11ee-93ce-926038f30c31/Library/Caches/com.apple.xbs/Sources/MetalPerformanceShadersGraph/mpsgraph/MetalPerformanceShadersGraph/Core/Files/MPSGraphUtilities.mm\":294:0)): error: 'anec.gain_offset_control' op result #0 must be 4D/5D memref of 16-bit float or 8-bit signed integer or 8-bit unsigned integer values, but got 'memref<1x20x1x1xi1>'\n",
      "loc(\"mps_select\"(\"(mpsFileLoc): /AppleInternal/Library/BuildRoots/495c257e-668e-11ee-93ce-926038f30c31/Library/Caches/com.apple.xbs/Sources/MetalPerformanceShadersGraph/mpsgraph/MetalPerformanceShadersGraph/Core/Files/MPSGraphUtilities.mm\":294:0)): error: 'anec.gain_offset_control' op result #0 must be 4D/5D memref of 16-bit float or 8-bit signed integer or 8-bit unsigned integer values, but got 'memref<1x20x1x1xi1>'\n"
     ]
    },
    {
     "name": "stdout",
     "output_type": "stream",
     "text": [
      "Replacing all generalized values...\n"
     ]
    },
    {
     "name": "stderr",
     "output_type": "stream",
     "text": [
      "15060it [00:00, 25380.67it/s]\n"
     ]
    },
    {
     "name": "stdout",
     "output_type": "stream",
     "text": [
      "  1/471 [..............................] - ETA: 1:36 - loss: 0.5959 - accuracy: 0.6875"
     ]
    },
    {
     "name": "stderr",
     "output_type": "stream",
     "text": [
      "2023-11-27 07:50:27.953302: I tensorflow/core/grappler/optimizers/custom_graph_optimizer_registry.cc:114] Plugin optimizer for device_type GPU is enabled.\n",
      "loc(\"mps_select\"(\"(mpsFileLoc): /AppleInternal/Library/BuildRoots/495c257e-668e-11ee-93ce-926038f30c31/Library/Caches/com.apple.xbs/Sources/MetalPerformanceShadersGraph/mpsgraph/MetalPerformanceShadersGraph/Core/Files/MPSGraphUtilities.mm\":294:0)): error: 'anec.gain_offset_control' op result #0 must be 4D/5D memref of 16-bit float or 8-bit signed integer or 8-bit unsigned integer values, but got 'memref<1x32x1x1xi1>'\n",
      "loc(\"mps_select\"(\"(mpsFileLoc): /AppleInternal/Library/BuildRoots/495c257e-668e-11ee-93ce-926038f30c31/Library/Caches/com.apple.xbs/Sources/MetalPerformanceShadersGraph/mpsgraph/MetalPerformanceShadersGraph/Core/Files/MPSGraphUtilities.mm\":294:0)): error: 'anec.gain_offset_control' op result #0 must be 4D/5D memref of 16-bit float or 8-bit signed integer or 8-bit unsigned integer values, but got 'memref<1x32x1x1xi1>'\n"
     ]
    },
    {
     "name": "stdout",
     "output_type": "stream",
     "text": [
      "471/471 [==============================] - 3s 6ms/step - loss: 0.6914 - accuracy: 0.5548\n",
      "{'Original': 0.6397742629051208, 'K = 5': 0.6341301202774048, 'K = 100': 0.5986055731773376, 'K = 200': 0.5613545775413513, 'K = 500': 0.5548473000526428}\n"
     ]
    },
    {
     "name": "stderr",
     "output_type": "stream",
     "text": [
      "loc(\"mps_select\"(\"(mpsFileLoc): /AppleInternal/Library/BuildRoots/495c257e-668e-11ee-93ce-926038f30c31/Library/Caches/com.apple.xbs/Sources/MetalPerformanceShadersGraph/mpsgraph/MetalPerformanceShadersGraph/Core/Files/MPSGraphUtilities.mm\":294:0)): error: 'anec.gain_offset_control' op result #0 must be 4D/5D memref of 16-bit float or 8-bit signed integer or 8-bit unsigned integer values, but got 'memref<1x20x1x1xi1>'\n",
      "loc(\"mps_select\"(\"(mpsFileLoc): /AppleInternal/Library/BuildRoots/495c257e-668e-11ee-93ce-926038f30c31/Library/Caches/com.apple.xbs/Sources/MetalPerformanceShadersGraph/mpsgraph/MetalPerformanceShadersGraph/Core/Files/MPSGraphUtilities.mm\":294:0)): error: 'anec.gain_offset_control' op result #0 must be 4D/5D memref of 16-bit float or 8-bit signed integer or 8-bit unsigned integer values, but got 'memref<1x20x1x1xi1>'\n"
     ]
    }
   ],
   "source": [
    "test_accs = {}\n",
    "for i in range(len(mond_util.k_list) + 1):\n",
    "    if i == 0:\n",
    "        mond_util.models[i] = tf.keras.models.load_model(\"./weights/model_org.h5\")\n",
    "    else:\n",
    "        mond_util.models[i] = tf.keras.models.load_model(f\"./weights/model_{k_list[i-1]}.h5\")\n",
    "    X, y = mond_util.features[i]\n",
    "    _, X_test, y_test = encodeNonAnonData(\"adult\", \"/Users/amirrezasokhankhosh/Documents/Workstation/testing_adult/data/adult/test.csv\")\n",
    "    res = mond_util.models[i].evaluate(X_test, y_test)\n",
    "    if i == 0:\n",
    "        test_accs[\"Original\"] = res[1]\n",
    "    else:\n",
    "        test_accs[f\"K = {k_list[i-1]}\"] = res[1]\n",
    "print(test_accs)"
   ]
  },
  {
   "cell_type": "code",
   "execution_count": 103,
   "metadata": {},
   "outputs": [],
   "source": [
    "import os\n",
    "import pandas as pd\n",
    "import matplotlib.pyplot as plt\n",
    "import seaborn as sns\n",
    "\n",
    "from anonymeter.evaluators import SinglingOutEvaluator\n",
    "from anonymeter.evaluators import LinkabilityEvaluator\n",
    "from anonymeter.evaluators import InferenceEvaluator"
   ]
  },
  {
   "cell_type": "code",
   "execution_count": 104,
   "metadata": {},
   "outputs": [
    {
     "name": "stdout",
     "output_type": "stream",
     "text": [
      "Replacing all generalized values...\n"
     ]
    },
    {
     "name": "stderr",
     "output_type": "stream",
     "text": [
      "861it [00:00, 27960.94it/s]\n"
     ]
    }
   ],
   "source": [
    "ori = pd.read_csv(\"./pr_mondrian_results/occupancy_anonymized_org.csv\")\n",
    "control, _, _ = encodeNonAnonData(\"occupancy\", \"/Users/amirrezasokhankhosh/Documents/Workstation/testing_adult/data/occupancy/test.csv\")"
   ]
  },
  {
   "cell_type": "code",
   "execution_count": 90,
   "metadata": {},
   "outputs": [
    {
     "name": "stdout",
     "output_type": "stream",
     "text": [
      "0.10918250215256743\n",
      "0.01740622151333518\n"
     ]
    },
    {
     "name": "stderr",
     "output_type": "stream",
     "text": [
      "/Users/amirrezasokhankhosh/mambaforge/envs/data-science/lib/python3.10/site-packages/anonymeter/stats/confidence.py:215: UserWarning: Attack is as good or worse as baseline model. Estimated rates: attack = 0.028126814121422983, baseline = 0.028126814121422983. Analysis results cannot be trusted.\n",
      "  self._sanity_check()\n"
     ]
    },
    {
     "name": "stdout",
     "output_type": "stream",
     "text": [
      "0.001844311770318952\n",
      "0.08059817983799487\n"
     ]
    },
    {
     "name": "stderr",
     "output_type": "stream",
     "text": [
      "/Users/amirrezasokhankhosh/mambaforge/envs/data-science/lib/python3.10/site-packages/anonymeter/stats/confidence.py:215: UserWarning: Attack is as good or worse as baseline model. Estimated rates: attack = 0.04738694415728327, baseline = 0.057017009175213414. Analysis results cannot be trusted.\n",
      "  self._sanity_check()\n"
     ]
    },
    {
     "name": "stdout",
     "output_type": "stream",
     "text": [
      "0.016244766584956986\n",
      "0.0415280965743401\n",
      "0.04102028043938658\n"
     ]
    }
   ],
   "source": [
    "risks = {}\n",
    "for k in k_list:\n",
    "    syn = pd.read_csv(f\"./pr_mondrian_results/occupancy_anonymized_{k}.csv\")\n",
    "    evaluator = SinglingOutEvaluator(ori=ori, \n",
    "                                    syn=syn, \n",
    "                                    control=control,\n",
    "                                    n_attacks=100, # this attack takes longer\n",
    "                                    n_cols=4)\n",
    "\n",
    "\n",
    "    try:\n",
    "        evaluator.evaluate(mode='multivariate')\n",
    "        risk = evaluator.risk()\n",
    "        print(risk.value)\n",
    "        risks[f\"K = {k}\"] = risk.value\n",
    "\n",
    "    except RuntimeError as ex: \n",
    "        print(f\"Singling out evaluation failed with {ex}. Please re-run this cell.\"\n",
    "            \"For more stable results increase `n_attacks`. Note that this will \"\n",
    "            \"make the evaluation slower.\")"
   ]
  },
  {
   "cell_type": "code",
   "execution_count": 38,
   "metadata": {},
   "outputs": [],
   "source": [
    "test = sorted(test_accs.items(), key=lambda kv: (kv[1], kv[0]))\n",
    "test_accs = {}\n",
    "for t in test:\n",
    "    test_accs[t[0]] = t[1]"
   ]
  },
  {
   "cell_type": "code",
   "execution_count": 92,
   "metadata": {},
   "outputs": [
    {
     "data": {
      "image/png": "[encoded data removed]",
      "text/plain": [
       "<Figure size 640x480 with 1 Axes>"
      ]
     },
     "metadata": {},
     "output_type": "display_data"
    }
   ],
   "source": [
    "for k in k_list:\n",
    "    plt.scatter(test_accs[f\"K = {k}\"], risks[f\"K = {k}\"], label=f\"K = {k}\")\n",
    "plt.ylabel(\"Singling Out Risk\")\n",
    "plt.xlabel(\"Test Accuracy\")\n",
    "plt.legend()\n",
    "plt.show()"
   ]
  },
  {
   "cell_type": "code",
   "execution_count": 25,
   "metadata": {},
   "outputs": [
    {
     "data": {
      "text/plain": [
       "{'K = 100': 0.624701201915741,\n",
       " 'Original': 0.6391102075576782,\n",
       " 'K = 5': 0.6430279016494751}"
      ]
     },
     "execution_count": 25,
     "metadata": {},
     "output_type": "execute_result"
    }
   ],
   "source": [
    "test_accs"
   ]
  },
  {
   "cell_type": "code",
   "execution_count": 39,
   "metadata": {},
   "outputs": [
    {
     "data": {
      "text/plain": [
       "<BarContainer object of 5 artists>"
      ]
     },
     "execution_count": 39,
     "metadata": {},
     "output_type": "execute_result"
    },
    {
     "data": {
      "image/png": "[encoded data removed]",
      "text/plain": [
       "<Figure size 640x480 with 1 Axes>"
      ]
     },
     "metadata": {},
     "output_type": "display_data"
    }
   ],
   "source": [
    "names = [\"Original\"] + [f\"K = {k}\" for k in k_list]\n",
    "height = [test_accs[name] for name in names]\n",
    "plt.bar(names, height)"
   ]
  },
  {
   "cell_type": "code",
   "execution_count": 111,
   "metadata": {},
   "outputs": [
    {
     "name": "stdout",
     "output_type": "stream",
     "text": [
      "Replacing all generalized values...\n"
     ]
    },
    {
     "name": "stderr",
     "output_type": "stream",
     "text": [
      "861it [00:00, 28388.46it/s]"
     ]
    },
    {
     "name": "stdout",
     "output_type": "stream",
     "text": [
      "27/27 [==============================] - 0s 3ms/step\n",
      "0.6817690143297375\n"
     ]
    },
    {
     "name": "stderr",
     "output_type": "stream",
     "text": [
      "\n",
      "2023-11-26 23:44:30.772430: I tensorflow/core/grappler/optimizers/custom_graph_optimizer_registry.cc:114] Plugin optimizer for device_type GPU is enabled.\n"
     ]
    },
    {
     "name": "stdout",
     "output_type": "stream",
     "text": [
      "Replacing all generalized values...\n"
     ]
    },
    {
     "name": "stderr",
     "output_type": "stream",
     "text": [
      "861it [00:00, 28405.43it/s]"
     ]
    },
    {
     "name": "stdout",
     "output_type": "stream",
     "text": [
      "27/27 [==============================] - 0s 3ms/step\n",
      "0.67082258735795\n"
     ]
    },
    {
     "name": "stderr",
     "output_type": "stream",
     "text": [
      "\n",
      "2023-11-26 23:44:31.025067: I tensorflow/core/grappler/optimizers/custom_graph_optimizer_registry.cc:114] Plugin optimizer for device_type GPU is enabled.\n"
     ]
    },
    {
     "name": "stdout",
     "output_type": "stream",
     "text": [
      "Replacing all generalized values...\n"
     ]
    },
    {
     "name": "stderr",
     "output_type": "stream",
     "text": [
      "861it [00:00, 28371.73it/s]"
     ]
    },
    {
     "name": "stdout",
     "output_type": "stream",
     "text": [
      "27/27 [==============================] - 0s 3ms/step\n"
     ]
    },
    {
     "name": "stderr",
     "output_type": "stream",
     "text": [
      "\n",
      "2023-11-26 23:44:31.295302: I tensorflow/core/grappler/optimizers/custom_graph_optimizer_registry.cc:114] Plugin optimizer for device_type GPU is enabled.\n"
     ]
    },
    {
     "name": "stdout",
     "output_type": "stream",
     "text": [
      "0.7012329333814965\n",
      "Replacing all generalized values...\n"
     ]
    },
    {
     "name": "stderr",
     "output_type": "stream",
     "text": [
      "861it [00:00, 27209.06it/s]"
     ]
    },
    {
     "name": "stdout",
     "output_type": "stream",
     "text": [
      "27/27 [==============================] - 0s 3ms/step\n"
     ]
    },
    {
     "name": "stderr",
     "output_type": "stream",
     "text": [
      "\n",
      "2023-11-26 23:44:31.577586: I tensorflow/core/grappler/optimizers/custom_graph_optimizer_registry.cc:114] Plugin optimizer for device_type GPU is enabled.\n"
     ]
    },
    {
     "name": "stdout",
     "output_type": "stream",
     "text": [
      "0.6588048663843884\n",
      "Replacing all generalized values...\n"
     ]
    },
    {
     "name": "stderr",
     "output_type": "stream",
     "text": [
      "861it [00:00, 28359.70it/s]"
     ]
    },
    {
     "name": "stdout",
     "output_type": "stream",
     "text": [
      "27/27 [==============================] - 0s 3ms/step\n"
     ]
    },
    {
     "name": "stderr",
     "output_type": "stream",
     "text": [
      "\n",
      "2023-11-26 23:44:31.844527: I tensorflow/core/grappler/optimizers/custom_graph_optimizer_registry.cc:114] Plugin optimizer for device_type GPU is enabled.\n"
     ]
    },
    {
     "name": "stdout",
     "output_type": "stream",
     "text": [
      "0.683367511010111\n",
      "Replacing all generalized values...\n"
     ]
    },
    {
     "name": "stderr",
     "output_type": "stream",
     "text": [
      "861it [00:00, 28395.38it/s]"
     ]
    },
    {
     "name": "stdout",
     "output_type": "stream",
     "text": [
      "27/27 [==============================] - 0s 3ms/step\n"
     ]
    },
    {
     "name": "stderr",
     "output_type": "stream",
     "text": [
      "\n",
      "2023-11-26 23:44:32.105572: I tensorflow/core/grappler/optimizers/custom_graph_optimizer_registry.cc:114] Plugin optimizer for device_type GPU is enabled.\n"
     ]
    },
    {
     "name": "stdout",
     "output_type": "stream",
     "text": [
      "0.6657236902228004\n",
      "Replacing all generalized values...\n"
     ]
    },
    {
     "name": "stderr",
     "output_type": "stream",
     "text": [
      "861it [00:00, 28650.39it/s]"
     ]
    },
    {
     "name": "stdout",
     "output_type": "stream",
     "text": [
      "27/27 [==============================] - 0s 3ms/step\n"
     ]
    },
    {
     "name": "stderr",
     "output_type": "stream",
     "text": [
      "\n",
      "2023-11-26 23:44:32.378703: I tensorflow/core/grappler/optimizers/custom_graph_optimizer_registry.cc:114] Plugin optimizer for device_type GPU is enabled.\n"
     ]
    },
    {
     "name": "stdout",
     "output_type": "stream",
     "text": [
      "0.6836894232364615\n",
      "Replacing all generalized values...\n"
     ]
    },
    {
     "name": "stderr",
     "output_type": "stream",
     "text": [
      "861it [00:00, 27425.62it/s]"
     ]
    },
    {
     "name": "stdout",
     "output_type": "stream",
     "text": [
      "27/27 [==============================] - 0s 3ms/step\n"
     ]
    },
    {
     "name": "stderr",
     "output_type": "stream",
     "text": [
      "\n",
      "2023-11-26 23:44:32.635863: I tensorflow/core/grappler/optimizers/custom_graph_optimizer_registry.cc:114] Plugin optimizer for device_type GPU is enabled.\n"
     ]
    },
    {
     "name": "stdout",
     "output_type": "stream",
     "text": [
      "0.7215795586527294\n",
      "Replacing all generalized values...\n"
     ]
    },
    {
     "name": "stderr",
     "output_type": "stream",
     "text": [
      "861it [00:00, 28442.12it/s]"
     ]
    },
    {
     "name": "stdout",
     "output_type": "stream",
     "text": [
      "27/27 [==============================] - 0s 3ms/step\n",
      "0.7264940774116908\n"
     ]
    },
    {
     "name": "stderr",
     "output_type": "stream",
     "text": [
      "\n",
      "2023-11-26 23:44:32.892648: I tensorflow/core/grappler/optimizers/custom_graph_optimizer_registry.cc:114] Plugin optimizer for device_type GPU is enabled.\n"
     ]
    }
   ],
   "source": [
    "from sklearn.metrics import f1_score\n",
    "import numpy as np\n",
    "f1s = {}\n",
    "for i in range(len(mond_util.k_list) + 1):\n",
    "    if i == 0:\n",
    "        mond_util.models[i] = tf.keras.models.load_model(\"./weights/model_org.h5\")\n",
    "    else:\n",
    "        mond_util.models[i] = tf.keras.models.load_model(f\"./weights/model_{k_list[i-1]}.h5\")\n",
    "    X, y = mond_util.features[i]\n",
    "    _, X_test, y_test = encodeNonAnonData(\"occupancy\", \"/Users/amirrezasokhankhosh/Documents/Workstation/testing_adult/data/occupancy/test.csv\")\n",
    "    pred = mond_util.models[i].predict(X_test)\n",
    "    f1 = f1_score(y_test, pred>0.5, average='weighted')\n",
    "    print(f1)\n",
    "    if i == 0:\n",
    "        f1s[\"Original\"] = f1\n",
    "    else:\n",
    "        f1s[f\"K = {k_list[i-1]}\"] = f1\n",
    "# print(f1s)"
   ]
  },
  {
   "cell_type": "code",
   "execution_count": 112,
   "metadata": {},
   "outputs": [
    {
     "data": {
      "text/plain": [
       "<BarContainer object of 9 artists>"
      ]
     },
     "execution_count": 112,
     "metadata": {},
     "output_type": "execute_result"
    },
    {
     "data": {
      "image/png": "[encoded data removed]",
      "text/plain": [
       "<Figure size 640x480 with 1 Axes>"
      ]
     },
     "metadata": {},
     "output_type": "display_data"
    }
   ],
   "source": [
    "names = [\"Original\"] + [f\"K = {k}\" for k in k_list]\n",
    "height = [f1s[name] for name in names]\n",
    "plt.bar(names, height)"
   ]
  },
  {
   "cell_type": "code",
   "execution_count": null,
   "metadata": {},
   "outputs": [],
   "source": [
    "# Make it work for adult\n",
    "# See syn for occ"
   ]
  }
 ],
 "metadata": {
  "kernelspec": {
   "display_name": "data-science",
   "language": "python",
   "name": "python3"
  },
  "language_info": {
   "codemirror_mode": {
    "name": "ipython",
    "version": 3
   },
   "file_extension": ".py",
   "mimetype": "text/x-python",
   "name": "python",
   "nbconvert_exporter": "python",
   "pygments_lexer": "ipython3",
   "version": "3.10.6"
  }
 },
 "nbformat": 4,
 "nbformat_minor": 2
}
