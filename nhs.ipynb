{
 "cells": [
  {
   "cell_type": "code",
   "execution_count": 2,
   "metadata": {},
   "outputs": [],
   "source": [
    "import tensorflow as tf\n",
    "import matplotlib.pyplot as plt\n",
    "import os\n",
    "os.chdir(\"/Users/amirrezasokhankhosh/Documents/Workstation/testing_adult/privacy/\")\n",
    "from privacy.encode import encodeData, encodeNonAnonData\n",
    "os.chdir(\"/Users/amirrezasokhankhosh/Documents/Workstation/testing_adult/\")"
   ]
  },
  {
   "cell_type": "code",
   "execution_count": 3,
   "metadata": {},
   "outputs": [],
   "source": [
    "data = \"texas\"\n",
    "k_list = [2, 3, 4, 5]"
   ]
  },
  {
   "cell_type": "code",
   "execution_count": 4,
   "metadata": {},
   "outputs": [],
   "source": [
    "class NHS_Utility:\n",
    "    def __init__(self, data, k_list):\n",
    "        self.data = data\n",
    "        self.k_list = k_list\n",
    "    \n",
    "    def get_features(self):\n",
    "        self.features = []\n",
    "        self.val = []\n",
    "        for k in self.k_list:\n",
    "            _, X_org, y_org, _, X_anon, y_anon = encodeData(self.data, k, method='nhs')\n",
    "            if not len(self.features):\n",
    "                self.features.append((X_org, y_org))\n",
    "            self.features.append((X_anon, y_anon))\n",
    "        _, X_val, y_val = encodeNonAnonData(self.data, f'/Users/amirrezasokhankhosh/Documents/Workstation/testing_adult/data/{self.data}/val.csv')\n",
    "        self.val_data = X_val, y_val\n",
    "\n",
    "    def get_model(self):\n",
    "        self.models = []\n",
    "        for _ in range(len(self.features)):\n",
    "            if self.data == \"texas\":\n",
    "                model = tf.keras.models.Sequential([tf.keras.layers.InputLayer(input_shape=(self.features[0][0].shape[1],)),\n",
    "                    tf.keras.layers.Dense(256, activation='relu'),\n",
    "                    tf.keras.layers.Dropout(0.5),\n",
    "                    tf.keras.layers.Dense(128, activation='relu'),\n",
    "                    tf.keras.layers.Dropout(0.5),\n",
    "                    tf.keras.layers.Dense(64, activation='relu'),\n",
    "                    tf.keras.layers.Dense(32, activation='relu'),\n",
    "                    tf.keras.layers.Dense(1)])\n",
    "            elif self.data == \"adult\":\n",
    "                model = tf.keras.models.Sequential([tf.keras.layers.InputLayer(input_shape=(self.features[0][0].shape[1],)),\n",
    "                    tf.keras.layers.Dense(256, activation='relu'),\n",
    "                    tf.keras.layers.Dropout(0.5),\n",
    "                    tf.keras.layers.Dense(128, activation='relu'),\n",
    "                    tf.keras.layers.Dropout(0.5),\n",
    "                    tf.keras.layers.Dense(64, activation='relu'),\n",
    "                    tf.keras.layers.Dense(32, activation='relu'),\n",
    "                    tf.keras.layers.Dense(1, activation='sigmoid')])\n",
    "            else:\n",
    "                model = tf.keras.models.Sequential([tf.keras.layers.InputLayer(input_shape=(self.features[0][0].shape[1],)),\n",
    "                    tf.keras.layers.Dense(10, activation='relu'),\n",
    "                    tf.keras.layers.Dropout(0.5),\n",
    "                    tf.keras.layers.Dense(4, activation='softmax')])\n",
    "            self.models.append(model)\n",
    "\n",
    "    def compile_models(self):\n",
    "        for i in range(len(self.models)):\n",
    "            if self.data == \"adult\":\n",
    "                self.models[i].compile(optimizer=tf.keras.optimizers.Adam(learning_rate=3e-4),\n",
    "                    loss='binary_crossentropy',\n",
    "                    metrics=[\"accuracy\"])\n",
    "            elif self.data == \"texas\":\n",
    "                self.models[i].compile(optimizer='adam',\n",
    "                    loss='mean_squared_error')\n",
    "            else:\n",
    "                self.models[i].compile(optimizer=tf.keras.optimizers.Adam(learning_rate=3e-4),\n",
    "                    loss='categorical_crossentropy',\n",
    "                    metrics=[\"accuracy\"])\n",
    "\n",
    "    def prepare_training(self):\n",
    "        self.get_features()\n",
    "        self.get_model()\n",
    "        self.compile_models()\n",
    "    \n",
    "    def train(self):\n",
    "        self.histories = []\n",
    "        for i in range(len(self.k_list) + 1):\n",
    "            X, y = self.features[i]\n",
    "            callback = tf.keras.callbacks.EarlyStopping(monitor='val_loss', patience=10)\n",
    "            history = self.models[i].fit(X, y, epochs=100, batch_size=64, validation_data=self.val_data, callbacks=[callback])\n",
    "            self.histories.append(history)\n",
    "            if i == 0:\n",
    "                self.models[i].save(f\"./nhs_weights/model_{self.data}_org.h5\")\n",
    "            else:\n",
    "                self.models[i].save(f\"./nhs_weights/model_{self.data}_{k_list[i-1]}.h5\")\n",
    "            print(f\"{i+1} trained.\")\n",
    "            "
   ]
  },
  {
   "cell_type": "code",
   "execution_count": 5,
   "metadata": {},
   "outputs": [],
   "source": [
    "nhs_util = NHS_Utility(data, k_list)"
   ]
  },
  {
   "cell_type": "code",
   "execution_count": 6,
   "metadata": {},
   "outputs": [
    {
     "name": "stdout",
     "output_type": "stream",
     "text": [
      "Replacing all generalized values...\n"
     ]
    },
    {
     "name": "stderr",
     "output_type": "stream",
     "text": [
      "25532it [00:01, 25203.90it/s]\n"
     ]
    },
    {
     "name": "stdout",
     "output_type": "stream",
     "text": [
      "Replacing all generalized values...\n"
     ]
    },
    {
     "name": "stderr",
     "output_type": "stream",
     "text": [
      "16610it [00:00, 25869.22it/s]\n"
     ]
    },
    {
     "name": "stdout",
     "output_type": "stream",
     "text": [
      "Replacing all generalized values...\n"
     ]
    },
    {
     "name": "stderr",
     "output_type": "stream",
     "text": [
      "12590it [00:00, 25692.58it/s]\n"
     ]
    },
    {
     "name": "stdout",
     "output_type": "stream",
     "text": [
      "Replacing all generalized values...\n"
     ]
    },
    {
     "name": "stderr",
     "output_type": "stream",
     "text": [
      "10170it [00:00, 25434.65it/s]\n"
     ]
    },
    {
     "name": "stdout",
     "output_type": "stream",
     "text": [
      "Replacing all generalized values...\n"
     ]
    },
    {
     "name": "stderr",
     "output_type": "stream",
     "text": [
      "75555it [00:02, 25654.78it/s]\n"
     ]
    },
    {
     "name": "stdout",
     "output_type": "stream",
     "text": [
      "Metal device set to: Apple M1 Pro\n",
      "\n",
      "systemMemory: 16.00 GB\n",
      "maxCacheSize: 5.33 GB\n",
      "\n"
     ]
    },
    {
     "name": "stderr",
     "output_type": "stream",
     "text": [
      "2023-12-01 17:07:06.741740: I tensorflow/core/common_runtime/pluggable_device/pluggable_device_factory.cc:306] Could not identify NUMA node of platform GPU ID 0, defaulting to 0. Your kernel may not have been built with NUMA support.\n",
      "2023-12-01 17:07:06.741866: I tensorflow/core/common_runtime/pluggable_device/pluggable_device_factory.cc:272] Created TensorFlow device (/job:localhost/replica:0/task:0/device:GPU:0 with 0 MB memory) -> physical PluggableDevice (device: 0, name: METAL, pci bus id: <undefined>)\n"
     ]
    }
   ],
   "source": [
    "nhs_util.prepare_training()"
   ]
  },
  {
   "cell_type": "code",
   "execution_count": 7,
   "metadata": {},
   "outputs": [
    {
     "name": "stdout",
     "output_type": "stream",
     "text": [
      "Epoch 1/100\n"
     ]
    },
    {
     "name": "stderr",
     "output_type": "stream",
     "text": [
      "2023-12-01 17:07:32.215788: W tensorflow/core/platform/profile_utils/cpu_utils.cc:128] Failed to get CPU frequency: 0 Hz\n",
      "2023-12-01 17:07:32.411420: I tensorflow/core/grappler/optimizers/custom_graph_optimizer_registry.cc:114] Plugin optimizer for device_type GPU is enabled.\n"
     ]
    },
    {
     "name": "stdout",
     "output_type": "stream",
     "text": [
      "1181/1181 [==============================] - ETA: 0s - loss: 0.6678"
     ]
    },
    {
     "name": "stderr",
     "output_type": "stream",
     "text": [
      "2023-12-01 17:07:44.095637: I tensorflow/core/grappler/optimizers/custom_graph_optimizer_registry.cc:114] Plugin optimizer for device_type GPU is enabled.\n"
     ]
    },
    {
     "name": "stdout",
     "output_type": "stream",
     "text": [
      "1181/1181 [==============================] - 17s 14ms/step - loss: 0.6678 - val_loss: 0.5710\n",
      "Epoch 2/100\n",
      "1181/1181 [==============================] - 16s 13ms/step - loss: 0.5486 - val_loss: 0.5247\n",
      "Epoch 3/100\n",
      "1181/1181 [==============================] - 16s 13ms/step - loss: 0.5150 - val_loss: 0.4605\n",
      "Epoch 4/100\n",
      "1181/1181 [==============================] - 16s 13ms/step - loss: 0.4924 - val_loss: 0.4582\n",
      "Epoch 5/100\n",
      "1181/1181 [==============================] - 15s 13ms/step - loss: 0.4840 - val_loss: 0.4357\n",
      "Epoch 6/100\n",
      "1181/1181 [==============================] - 15s 13ms/step - loss: 0.4561 - val_loss: 0.4416\n",
      "Epoch 7/100\n",
      "1181/1181 [==============================] - 15s 13ms/step - loss: 0.4482 - val_loss: 0.3904\n",
      "Epoch 8/100\n",
      "1181/1181 [==============================] - 16s 13ms/step - loss: 0.4368 - val_loss: 0.3920\n",
      "Epoch 9/100\n",
      "1181/1181 [==============================] - 16s 13ms/step - loss: 0.4089 - val_loss: 0.3782\n",
      "Epoch 10/100\n",
      "1181/1181 [==============================] - 16s 13ms/step - loss: 0.4045 - val_loss: 0.3326\n",
      "Epoch 11/100\n",
      "1181/1181 [==============================] - 15s 13ms/step - loss: 0.3898 - val_loss: 0.3208\n",
      "Epoch 12/100\n",
      "1181/1181 [==============================] - 15s 13ms/step - loss: 0.3613 - val_loss: 0.2906\n",
      "Epoch 13/100\n",
      "1181/1181 [==============================] - 15s 12ms/step - loss: 0.3351 - val_loss: 0.3638\n",
      "Epoch 14/100\n",
      "1181/1181 [==============================] - 15s 12ms/step - loss: 0.3386 - val_loss: 0.3189\n",
      "Epoch 15/100\n",
      "1181/1181 [==============================] - 15s 13ms/step - loss: 0.3388 - val_loss: 0.2842\n",
      "Epoch 16/100\n",
      "1181/1181 [==============================] - 15s 13ms/step - loss: 0.3325 - val_loss: 0.2688\n",
      "Epoch 17/100\n",
      "1181/1181 [==============================] - 15s 13ms/step - loss: 0.3205 - val_loss: 0.2635\n",
      "Epoch 18/100\n",
      "1181/1181 [==============================] - 15s 12ms/step - loss: 0.3003 - val_loss: 0.2388\n",
      "Epoch 19/100\n",
      "1181/1181 [==============================] - 14s 12ms/step - loss: 0.2959 - val_loss: 0.2460\n",
      "Epoch 20/100\n",
      "1181/1181 [==============================] - 15s 12ms/step - loss: 0.3094 - val_loss: 0.2638\n",
      "Epoch 21/100\n",
      "1181/1181 [==============================] - 15s 12ms/step - loss: 0.2954 - val_loss: 0.2638\n",
      "Epoch 22/100\n",
      "1181/1181 [==============================] - 14s 12ms/step - loss: 0.2925 - val_loss: 0.2820\n",
      "Epoch 23/100\n",
      "1181/1181 [==============================] - 14s 12ms/step - loss: 0.2931 - val_loss: 0.2511\n",
      "Epoch 24/100\n",
      "1181/1181 [==============================] - 15s 12ms/step - loss: 0.2810 - val_loss: 0.2390\n",
      "Epoch 25/100\n",
      "1181/1181 [==============================] - 15s 13ms/step - loss: 0.2765 - val_loss: 0.2909\n",
      "Epoch 26/100\n",
      "1181/1181 [==============================] - 15s 13ms/step - loss: 0.2779 - val_loss: 0.2139\n",
      "Epoch 27/100\n",
      "1181/1181 [==============================] - 15s 13ms/step - loss: 0.2685 - val_loss: 0.2335\n",
      "Epoch 28/100\n",
      "1181/1181 [==============================] - 15s 13ms/step - loss: 0.2666 - val_loss: 0.2090\n",
      "Epoch 29/100\n",
      "1181/1181 [==============================] - 15s 13ms/step - loss: 0.2604 - val_loss: 0.2189\n",
      "Epoch 30/100\n",
      "1181/1181 [==============================] - 16s 13ms/step - loss: 0.2533 - val_loss: 0.2195\n",
      "Epoch 31/100\n",
      "1181/1181 [==============================] - 16s 13ms/step - loss: 0.2548 - val_loss: 0.2054\n",
      "Epoch 32/100\n",
      "1181/1181 [==============================] - 15s 13ms/step - loss: 0.2517 - val_loss: 0.2180\n",
      "Epoch 33/100\n",
      "1181/1181 [==============================] - 16s 13ms/step - loss: 0.2485 - val_loss: 0.2778\n",
      "Epoch 34/100\n",
      "1181/1181 [==============================] - 15s 13ms/step - loss: 0.2573 - val_loss: 0.1951\n",
      "Epoch 35/100\n",
      "1181/1181 [==============================] - 15s 13ms/step - loss: 0.2441 - val_loss: 0.2213\n",
      "Epoch 36/100\n",
      "1181/1181 [==============================] - 15s 13ms/step - loss: 0.2434 - val_loss: 0.2085\n",
      "Epoch 37/100\n",
      "1181/1181 [==============================] - 15s 13ms/step - loss: 0.2500 - val_loss: 0.2172\n",
      "Epoch 38/100\n",
      "1181/1181 [==============================] - 15s 13ms/step - loss: 0.2292 - val_loss: 0.2039\n",
      "Epoch 39/100\n",
      "1181/1181 [==============================] - 16s 13ms/step - loss: 0.2365 - val_loss: 0.2113\n",
      "Epoch 40/100\n",
      "1181/1181 [==============================] - 16s 13ms/step - loss: 0.2318 - val_loss: 0.2136\n",
      "Epoch 41/100\n",
      "1181/1181 [==============================] - 15s 13ms/step - loss: 0.2378 - val_loss: 0.1920\n",
      "Epoch 42/100\n",
      "1181/1181 [==============================] - 15s 13ms/step - loss: 0.2394 - val_loss: 0.1974\n",
      "Epoch 43/100\n",
      "1181/1181 [==============================] - 15s 13ms/step - loss: 0.2258 - val_loss: 0.1857\n",
      "Epoch 44/100\n",
      "1181/1181 [==============================] - 16s 13ms/step - loss: 0.2294 - val_loss: 0.1846\n",
      "Epoch 45/100\n",
      "1181/1181 [==============================] - 15s 13ms/step - loss: 0.2222 - val_loss: 0.1926\n",
      "Epoch 46/100\n",
      "1181/1181 [==============================] - 15s 13ms/step - loss: 0.2215 - val_loss: 0.1880\n",
      "Epoch 47/100\n",
      "1181/1181 [==============================] - 16s 13ms/step - loss: 0.2244 - val_loss: 0.1891\n",
      "Epoch 48/100\n",
      "1181/1181 [==============================] - 15s 13ms/step - loss: 0.2134 - val_loss: 0.1932\n",
      "Epoch 49/100\n",
      "1181/1181 [==============================] - 15s 13ms/step - loss: 0.2229 - val_loss: 0.2039\n",
      "Epoch 50/100\n",
      "1181/1181 [==============================] - 15s 13ms/step - loss: 0.2273 - val_loss: 0.1819\n",
      "Epoch 51/100\n",
      "1181/1181 [==============================] - 15s 13ms/step - loss: 0.2128 - val_loss: 0.1772\n",
      "Epoch 52/100\n",
      "1181/1181 [==============================] - 15s 13ms/step - loss: 0.2199 - val_loss: 0.1748\n",
      "Epoch 53/100\n",
      "1181/1181 [==============================] - 16s 13ms/step - loss: 0.2261 - val_loss: 0.1735\n",
      "Epoch 54/100\n",
      "1181/1181 [==============================] - 16s 14ms/step - loss: 0.2172 - val_loss: 0.1739\n",
      "Epoch 55/100\n",
      "1181/1181 [==============================] - 16s 14ms/step - loss: 0.2114 - val_loss: 0.1925\n",
      "Epoch 56/100\n",
      "1181/1181 [==============================] - 16s 14ms/step - loss: 0.2200 - val_loss: 0.1679\n",
      "Epoch 57/100\n",
      "1181/1181 [==============================] - 17s 14ms/step - loss: 0.2069 - val_loss: 0.1812\n",
      "Epoch 58/100\n",
      "1181/1181 [==============================] - 16s 14ms/step - loss: 0.2159 - val_loss: 0.1886\n",
      "Epoch 59/100\n",
      "1181/1181 [==============================] - 17s 14ms/step - loss: 0.1992 - val_loss: 0.1707\n",
      "Epoch 60/100\n",
      "1181/1181 [==============================] - 17s 14ms/step - loss: 0.2113 - val_loss: 0.1728\n",
      "Epoch 61/100\n",
      "1181/1181 [==============================] - 17s 14ms/step - loss: 0.2049 - val_loss: 0.1767\n",
      "Epoch 62/100\n",
      "1181/1181 [==============================] - 17s 14ms/step - loss: 0.1996 - val_loss: 0.1791\n",
      "Epoch 63/100\n",
      "1181/1181 [==============================] - 17s 14ms/step - loss: 0.2074 - val_loss: 0.1740\n",
      "Epoch 64/100\n",
      "1181/1181 [==============================] - 17s 14ms/step - loss: 0.2119 - val_loss: 0.1778\n",
      "Epoch 65/100\n",
      "1181/1181 [==============================] - 17s 14ms/step - loss: 0.2177 - val_loss: 0.1822\n",
      "Epoch 66/100\n",
      "1181/1181 [==============================] - 17s 14ms/step - loss: 0.2087 - val_loss: 0.1649\n",
      "Epoch 67/100\n",
      "1181/1181 [==============================] - 16s 13ms/step - loss: 0.1983 - val_loss: 0.1822\n",
      "Epoch 68/100\n",
      "1181/1181 [==============================] - 16s 13ms/step - loss: 0.1981 - val_loss: 0.1675\n",
      "Epoch 69/100\n",
      "1181/1181 [==============================] - 16s 13ms/step - loss: 0.2044 - val_loss: 0.1774\n",
      "Epoch 70/100\n",
      "1181/1181 [==============================] - 16s 14ms/step - loss: 0.2010 - val_loss: 0.1615\n",
      "Epoch 71/100\n",
      "1181/1181 [==============================] - 16s 13ms/step - loss: 0.1977 - val_loss: 0.1609\n",
      "Epoch 72/100\n",
      "1181/1181 [==============================] - 16s 14ms/step - loss: 0.1993 - val_loss: 0.1615\n",
      "Epoch 73/100\n",
      "1181/1181 [==============================] - 17s 14ms/step - loss: 0.1952 - val_loss: 0.1711\n",
      "Epoch 74/100\n",
      "1181/1181 [==============================] - 16s 14ms/step - loss: 0.2095 - val_loss: 0.1625\n",
      "Epoch 75/100\n",
      "1181/1181 [==============================] - 16s 14ms/step - loss: 0.2075 - val_loss: 0.1769\n",
      "Epoch 76/100\n",
      "1181/1181 [==============================] - 16s 14ms/step - loss: 0.1943 - val_loss: 0.1613\n",
      "Epoch 77/100\n",
      "1181/1181 [==============================] - 16s 14ms/step - loss: 0.2002 - val_loss: 0.1675\n",
      "Epoch 78/100\n",
      "1181/1181 [==============================] - 17s 14ms/step - loss: 0.1946 - val_loss: 0.1658\n",
      "Epoch 79/100\n",
      "1181/1181 [==============================] - 16s 14ms/step - loss: 0.1910 - val_loss: 0.1699\n",
      "Epoch 80/100\n",
      "1181/1181 [==============================] - 17s 14ms/step - loss: 0.1928 - val_loss: 0.1619\n",
      "Epoch 81/100\n",
      "1181/1181 [==============================] - 17s 14ms/step - loss: 0.1875 - val_loss: 0.1575\n",
      "Epoch 82/100\n",
      "1181/1181 [==============================] - 17s 14ms/step - loss: 0.1897 - val_loss: 0.1671\n",
      "Epoch 83/100\n",
      "1181/1181 [==============================] - 16s 14ms/step - loss: 0.2038 - val_loss: 0.1606\n",
      "Epoch 84/100\n",
      "1181/1181 [==============================] - 16s 14ms/step - loss: 0.1881 - val_loss: 0.1581\n",
      "Epoch 85/100\n",
      "1181/1181 [==============================] - 17s 14ms/step - loss: 0.1905 - val_loss: 0.1535\n",
      "Epoch 86/100\n",
      "1181/1181 [==============================] - 16s 14ms/step - loss: 0.1831 - val_loss: 0.1554\n",
      "Epoch 87/100\n",
      "1181/1181 [==============================] - 16s 14ms/step - loss: 0.1895 - val_loss: 0.1576\n",
      "Epoch 88/100\n",
      "1181/1181 [==============================] - 16s 14ms/step - loss: 0.1883 - val_loss: 0.1608\n",
      "Epoch 89/100\n",
      "1181/1181 [==============================] - 16s 14ms/step - loss: 0.1828 - val_loss: 0.1553\n",
      "Epoch 90/100\n",
      "1181/1181 [==============================] - 16s 14ms/step - loss: 0.1836 - val_loss: 0.1543\n",
      "Epoch 91/100\n",
      "1181/1181 [==============================] - 16s 14ms/step - loss: 0.1856 - val_loss: 0.1516\n",
      "Epoch 92/100\n",
      "1181/1181 [==============================] - 16s 14ms/step - loss: 0.1939 - val_loss: 0.1625\n",
      "Epoch 93/100\n",
      "1181/1181 [==============================] - 16s 14ms/step - loss: 0.1862 - val_loss: 0.1648\n",
      "Epoch 94/100\n",
      "1181/1181 [==============================] - 17s 14ms/step - loss: 0.1879 - val_loss: 0.1553\n",
      "Epoch 95/100\n",
      "1181/1181 [==============================] - 18s 15ms/step - loss: 0.1814 - val_loss: 0.1589\n",
      "Epoch 96/100\n",
      "1181/1181 [==============================] - 17s 14ms/step - loss: 0.1854 - val_loss: 0.1507\n",
      "Epoch 97/100\n",
      "1181/1181 [==============================] - 17s 14ms/step - loss: 0.1747 - val_loss: 0.1673\n",
      "Epoch 98/100\n",
      "1181/1181 [==============================] - 16s 14ms/step - loss: 0.1854 - val_loss: 0.1482\n",
      "Epoch 99/100\n",
      "1181/1181 [==============================] - 17s 14ms/step - loss: 0.1869 - val_loss: 0.1536\n",
      "Epoch 100/100\n",
      "1181/1181 [==============================] - 17s 14ms/step - loss: 0.1756 - val_loss: 0.1458\n",
      "1 trained.\n",
      "Epoch 1/100\n"
     ]
    },
    {
     "name": "stderr",
     "output_type": "stream",
     "text": [
      "2023-12-01 17:33:53.449596: I tensorflow/core/grappler/optimizers/custom_graph_optimizer_registry.cc:114] Plugin optimizer for device_type GPU is enabled.\n"
     ]
    },
    {
     "name": "stdout",
     "output_type": "stream",
     "text": [
      "399/399 [==============================] - ETA: 0s - loss: 0.7008"
     ]
    },
    {
     "name": "stderr",
     "output_type": "stream",
     "text": [
      "2023-12-01 17:33:59.011293: I tensorflow/core/grappler/optimizers/custom_graph_optimizer_registry.cc:114] Plugin optimizer for device_type GPU is enabled.\n"
     ]
    },
    {
     "name": "stdout",
     "output_type": "stream",
     "text": [
      "399/399 [==============================] - 11s 26ms/step - loss: 0.7008 - val_loss: 1.0330\n",
      "Epoch 2/100\n",
      "399/399 [==============================] - 9s 22ms/step - loss: 0.6301 - val_loss: 1.2159\n",
      "Epoch 3/100\n",
      "399/399 [==============================] - 9s 22ms/step - loss: 0.6109 - val_loss: 1.1583\n",
      "Epoch 4/100\n",
      "399/399 [==============================] - 9s 22ms/step - loss: 0.5967 - val_loss: 1.1919\n",
      "Epoch 5/100\n",
      "399/399 [==============================] - 9s 22ms/step - loss: 0.5895 - val_loss: 1.6764\n",
      "Epoch 6/100\n",
      "399/399 [==============================] - 9s 23ms/step - loss: 0.5825 - val_loss: 1.2556\n",
      "Epoch 7/100\n",
      "399/399 [==============================] - 8s 21ms/step - loss: 0.5761 - val_loss: 1.2348\n",
      "Epoch 8/100\n",
      "399/399 [==============================] - 9s 23ms/step - loss: 0.5633 - val_loss: 1.3591\n",
      "Epoch 9/100\n",
      "399/399 [==============================] - 9s 22ms/step - loss: 0.5613 - val_loss: 1.5039\n",
      "Epoch 10/100\n",
      "399/399 [==============================] - 9s 22ms/step - loss: 0.5579 - val_loss: 1.2195\n",
      "Epoch 11/100\n",
      "399/399 [==============================] - 9s 22ms/step - loss: 0.5473 - val_loss: 1.5301\n",
      "2 trained.\n",
      "Epoch 1/100\n"
     ]
    },
    {
     "name": "stderr",
     "output_type": "stream",
     "text": [
      "2023-12-01 17:35:32.255500: I tensorflow/core/grappler/optimizers/custom_graph_optimizer_registry.cc:114] Plugin optimizer for device_type GPU is enabled.\n"
     ]
    },
    {
     "name": "stdout",
     "output_type": "stream",
     "text": [
      "260/260 [==============================] - ETA: 0s - loss: 0.6961"
     ]
    },
    {
     "name": "stderr",
     "output_type": "stream",
     "text": [
      "2023-12-01 17:35:35.494977: I tensorflow/core/grappler/optimizers/custom_graph_optimizer_registry.cc:114] Plugin optimizer for device_type GPU is enabled.\n"
     ]
    },
    {
     "name": "stdout",
     "output_type": "stream",
     "text": [
      "260/260 [==============================] - 8s 30ms/step - loss: 0.6961 - val_loss: 1.3607\n",
      "Epoch 2/100\n",
      "260/260 [==============================] - 7s 28ms/step - loss: 0.6090 - val_loss: 1.3600\n",
      "Epoch 3/100\n",
      "260/260 [==============================] - 7s 29ms/step - loss: 0.5995 - val_loss: 1.5082\n",
      "Epoch 4/100\n",
      "260/260 [==============================] - 7s 27ms/step - loss: 0.5882 - val_loss: 1.4729\n",
      "Epoch 5/100\n",
      "260/260 [==============================] - 8s 29ms/step - loss: 0.5806 - val_loss: 1.8351\n",
      "Epoch 6/100\n",
      "260/260 [==============================] - 7s 28ms/step - loss: 0.5773 - val_loss: 1.6454\n",
      "Epoch 7/100\n",
      "260/260 [==============================] - 7s 29ms/step - loss: 0.5727 - val_loss: 1.8617\n",
      "Epoch 8/100\n",
      "260/260 [==============================] - 7s 28ms/step - loss: 0.5682 - val_loss: 1.6761\n",
      "Epoch 9/100\n",
      "260/260 [==============================] - 7s 28ms/step - loss: 0.5602 - val_loss: 1.5942\n",
      "Epoch 10/100\n",
      "260/260 [==============================] - 7s 28ms/step - loss: 0.5589 - val_loss: 1.7075\n",
      "Epoch 11/100\n",
      "260/260 [==============================] - 7s 28ms/step - loss: 0.5544 - val_loss: 2.2203\n",
      "Epoch 12/100\n",
      "260/260 [==============================] - 7s 29ms/step - loss: 0.5483 - val_loss: 1.8478\n",
      "3 trained.\n",
      "Epoch 1/100\n"
     ]
    },
    {
     "name": "stderr",
     "output_type": "stream",
     "text": [
      "2023-12-01 17:37:01.399011: I tensorflow/core/grappler/optimizers/custom_graph_optimizer_registry.cc:114] Plugin optimizer for device_type GPU is enabled.\n"
     ]
    },
    {
     "name": "stdout",
     "output_type": "stream",
     "text": [
      "197/197 [==============================] - ETA: 0s - loss: 0.7661"
     ]
    },
    {
     "name": "stderr",
     "output_type": "stream",
     "text": [
      "2023-12-01 17:37:03.849617: I tensorflow/core/grappler/optimizers/custom_graph_optimizer_registry.cc:114] Plugin optimizer for device_type GPU is enabled.\n"
     ]
    },
    {
     "name": "stdout",
     "output_type": "stream",
     "text": [
      "197/197 [==============================] - 7s 36ms/step - loss: 0.7661 - val_loss: 1.2279\n",
      "Epoch 2/100\n",
      "197/197 [==============================] - 7s 35ms/step - loss: 0.6537 - val_loss: 1.4971\n",
      "Epoch 3/100\n",
      "197/197 [==============================] - 7s 33ms/step - loss: 0.6375 - val_loss: 1.7909\n",
      "Epoch 4/100\n",
      "197/197 [==============================] - 7s 35ms/step - loss: 0.6299 - val_loss: 1.3751\n",
      "Epoch 5/100\n",
      "197/197 [==============================] - 7s 35ms/step - loss: 0.6206 - val_loss: 1.9260\n",
      "Epoch 6/100\n",
      "197/197 [==============================] - 7s 34ms/step - loss: 0.6208 - val_loss: 2.1848\n",
      "Epoch 7/100\n",
      "197/197 [==============================] - 7s 35ms/step - loss: 0.6201 - val_loss: 1.8630\n",
      "Epoch 8/100\n",
      "197/197 [==============================] - 6s 33ms/step - loss: 0.6043 - val_loss: 1.8052\n",
      "Epoch 9/100\n",
      "197/197 [==============================] - 7s 35ms/step - loss: 0.6037 - val_loss: 1.5512\n",
      "Epoch 10/100\n",
      "197/197 [==============================] - 7s 33ms/step - loss: 0.6001 - val_loss: 2.2978\n",
      "Epoch 11/100\n",
      "197/197 [==============================] - 7s 34ms/step - loss: 0.6057 - val_loss: 1.8217\n",
      "4 trained.\n",
      "Epoch 1/100\n"
     ]
    },
    {
     "name": "stderr",
     "output_type": "stream",
     "text": [
      "2023-12-01 17:38:16.014683: I tensorflow/core/grappler/optimizers/custom_graph_optimizer_registry.cc:114] Plugin optimizer for device_type GPU is enabled.\n"
     ]
    },
    {
     "name": "stdout",
     "output_type": "stream",
     "text": [
      "159/159 [==============================] - ETA: 0s - loss: 0.7286"
     ]
    },
    {
     "name": "stderr",
     "output_type": "stream",
     "text": [
      "2023-12-01 17:38:18.241186: I tensorflow/core/grappler/optimizers/custom_graph_optimizer_registry.cc:114] Plugin optimizer for device_type GPU is enabled.\n"
     ]
    },
    {
     "name": "stdout",
     "output_type": "stream",
     "text": [
      "159/159 [==============================] - 7s 43ms/step - loss: 0.7286 - val_loss: 1.1667\n",
      "Epoch 2/100\n",
      "159/159 [==============================] - 6s 39ms/step - loss: 0.6362 - val_loss: 1.7022\n",
      "Epoch 3/100\n",
      "159/159 [==============================] - 6s 41ms/step - loss: 0.5950 - val_loss: 2.0859\n",
      "Epoch 4/100\n",
      "159/159 [==============================] - 6s 38ms/step - loss: 0.6005 - val_loss: 1.5639\n",
      "Epoch 5/100\n",
      "159/159 [==============================] - 7s 41ms/step - loss: 0.5840 - val_loss: 2.0545\n",
      "Epoch 6/100\n",
      "159/159 [==============================] - 6s 41ms/step - loss: 0.5767 - val_loss: 2.7188\n",
      "Epoch 7/100\n",
      "159/159 [==============================] - 6s 41ms/step - loss: 0.5608 - val_loss: 2.3624\n",
      "Epoch 8/100\n",
      "159/159 [==============================] - 6s 41ms/step - loss: 0.5570 - val_loss: 2.5253\n",
      "Epoch 9/100\n",
      "159/159 [==============================] - 6s 39ms/step - loss: 0.5628 - val_loss: 2.9651\n",
      "Epoch 10/100\n",
      "159/159 [==============================] - 6s 41ms/step - loss: 0.5504 - val_loss: 1.9675\n",
      "Epoch 11/100\n",
      "159/159 [==============================] - 6s 41ms/step - loss: 0.5623 - val_loss: 2.0732\n",
      "5 trained.\n"
     ]
    }
   ],
   "source": [
    "nhs_util.train()"
   ]
  },
  {
   "cell_type": "code",
   "execution_count": 10,
   "metadata": {},
   "outputs": [
    {
     "data": {
      "image/png": "[encoded data removed]",
      "text/plain": [
       "<Figure size 640x480 with 1 Axes>"
      ]
     },
     "metadata": {},
     "output_type": "display_data"
    }
   ],
   "source": [
    "for i in range(len(nhs_util.histories)):\n",
    "    if i == 0:\n",
    "        plt.plot(nhs_util.histories[i].history['loss'], label=\"Original\")\n",
    "    else:\n",
    "        plt.plot(nhs_util.histories[i].history['loss'], label=f\"K = {nhs_util.k_list[i-1]}\")\n",
    "plt.xlabel(\"Epoch\")\n",
    "plt.ylabel(f\"Train loss\")\n",
    "plt.title(f\"Train loss of {data} per epoch\")\n",
    "plt.legend()\n",
    "plt.show()"
   ]
  },
  {
   "cell_type": "code",
   "execution_count": 16,
   "metadata": {},
   "outputs": [
    {
     "data": {
      "image/png": "[encoded data removed]",
      "text/plain": [
       "<Figure size 640x480 with 1 Axes>"
      ]
     },
     "metadata": {},
     "output_type": "display_data"
    }
   ],
   "source": [
    "for i in range(len(nhs_util.histories)):\n",
    "    if i == 0:\n",
    "        plt.plot(nhs_util.histories[i].history['val_loss'], label=\"Original\")\n",
    "    else:\n",
    "        plt.plot(nhs_util.histories[i].history['val_loss'], label=f\"K = {nhs_util.k_list[i-1]}\")\n",
    "plt.xlabel(\"Epoch\")\n",
    "plt.ylabel(\"Validation loss\")\n",
    "plt.title(f\"Validation Loss of {data} per epoch\")\n",
    "plt.legend()\n",
    "plt.show()"
   ]
  },
  {
   "cell_type": "code",
   "execution_count": 13,
   "metadata": {},
   "outputs": [
    {
     "name": "stdout",
     "output_type": "stream",
     "text": [
      "Replacing all generalized values...\n"
     ]
    },
    {
     "name": "stderr",
     "output_type": "stream",
     "text": [
      "75555it [00:03, 24536.94it/s]\n"
     ]
    },
    {
     "name": "stdout",
     "output_type": "stream",
     "text": [
      "   9/2362 [..............................] - ETA: 16s - loss: 0.1235 "
     ]
    },
    {
     "name": "stderr",
     "output_type": "stream",
     "text": [
      "2023-12-01 17:41:04.722059: I tensorflow/core/grappler/optimizers/custom_graph_optimizer_registry.cc:114] Plugin optimizer for device_type GPU is enabled.\n"
     ]
    },
    {
     "name": "stdout",
     "output_type": "stream",
     "text": [
      "2362/2362 [==============================] - 12s 5ms/step - loss: 0.1803\n",
      "  22/2362 [..............................] - ETA: 11s - loss: 0.8224"
     ]
    },
    {
     "name": "stderr",
     "output_type": "stream",
     "text": [
      "2023-12-01 17:41:16.882386: I tensorflow/core/grappler/optimizers/custom_graph_optimizer_registry.cc:114] Plugin optimizer for device_type GPU is enabled.\n"
     ]
    },
    {
     "name": "stdout",
     "output_type": "stream",
     "text": [
      "2362/2362 [==============================] - 11s 5ms/step - loss: 1.3818\n",
      "  23/2362 [..............................] - ETA: 11s - loss: 1.2683"
     ]
    },
    {
     "name": "stderr",
     "output_type": "stream",
     "text": [
      "2023-12-01 17:41:28.408204: I tensorflow/core/grappler/optimizers/custom_graph_optimizer_registry.cc:114] Plugin optimizer for device_type GPU is enabled.\n"
     ]
    },
    {
     "name": "stdout",
     "output_type": "stream",
     "text": [
      "2362/2362 [==============================] - 11s 5ms/step - loss: 1.8649\n",
      "  17/2362 [..............................] - ETA: 15s - loss: 2.5550"
     ]
    },
    {
     "name": "stderr",
     "output_type": "stream",
     "text": [
      "2023-12-01 17:41:39.745486: I tensorflow/core/grappler/optimizers/custom_graph_optimizer_registry.cc:114] Plugin optimizer for device_type GPU is enabled.\n"
     ]
    },
    {
     "name": "stdout",
     "output_type": "stream",
     "text": [
      "2362/2362 [==============================] - 12s 5ms/step - loss: 3.0867\n",
      "  22/2362 [..............................] - ETA: 11s - loss: 1.7964"
     ]
    },
    {
     "name": "stderr",
     "output_type": "stream",
     "text": [
      "2023-12-01 17:41:51.736556: I tensorflow/core/grappler/optimizers/custom_graph_optimizer_registry.cc:114] Plugin optimizer for device_type GPU is enabled.\n"
     ]
    },
    {
     "name": "stdout",
     "output_type": "stream",
     "text": [
      "2362/2362 [==============================] - 12s 5ms/step - loss: 2.3392\n"
     ]
    }
   ],
   "source": [
    "test_accs = {}\n",
    "_, X_test, y_test = encodeNonAnonData(data, f\"/Users/amirrezasokhankhosh/Documents/Workstation/testing_adult/data/{data}/test.csv\")\n",
    "for i in range(len(nhs_util.k_list) + 1):\n",
    "    if i == 0:\n",
    "        nhs_util.models[i] = tf.keras.models.load_model(f\"./weights/model_{data}_org.h5\")\n",
    "    else:\n",
    "        nhs_util.models[i] = tf.keras.models.load_model(f\"./weights/model_{data}_{k_list[i-1]}.h5\")\n",
    "    X, y = nhs_util.features[i]\n",
    "    res = nhs_util.models[i].evaluate(X_test, y_test, verbose=0)\n",
    "    if i == 0:\n",
    "        test_accs[\"Original\"] = res\n",
    "    else:\n",
    "        test_accs[f\"K = {k_list[i-1]}\"] = res"
   ]
  },
  {
   "cell_type": "code",
   "execution_count": 15,
   "metadata": {},
   "outputs": [
    {
     "data": {
      "text/plain": [
       "Text(0, 0.5, 'MSE Loss')"
      ]
     },
     "execution_count": 15,
     "metadata": {},
     "output_type": "execute_result"
    },
    {
     "data": {
      "image/png": "[encoded data removed]",
      "text/plain": [
       "<Figure size 640x480 with 1 Axes>"
      ]
     },
     "metadata": {},
     "output_type": "display_data"
    }
   ],
   "source": [
    "names = [\"Original\"] + [f\"K = {k}\" for k in k_list]\n",
    "height = [test_accs[name] for name in names]\n",
    "plt.bar(names, height)\n",
    "plt.title(\"Loss values on test data\")\n",
    "plt.xlabel(\"Train data\")\n",
    "plt.ylabel(\"MSE Loss\")"
   ]
  }
 ],
 "metadata": {
  "kernelspec": {
   "display_name": "data-science",
   "language": "python",
   "name": "python3"
  },
  "language_info": {
   "codemirror_mode": {
    "name": "ipython",
    "version": 3
   },
   "file_extension": ".py",
   "mimetype": "text/x-python",
   "name": "python",
   "nbconvert_exporter": "python",
   "pygments_lexer": "ipython3",
   "version": "3.10.6"
  }
 },
 "nbformat": 4,
 "nbformat_minor": 2
}
