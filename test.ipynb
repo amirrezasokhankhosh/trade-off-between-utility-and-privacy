{
 "cells": [
  {
   "cell_type": "code",
   "execution_count": 2,
   "metadata": {},
   "outputs": [],
   "source": [
    "from sklearn.neighbors import NearestNeighbors\n",
    "import numpy as np\n",
    "import pandas as pd"
   ]
  },
  {
   "cell_type": "code",
   "execution_count": 3,
   "metadata": {},
   "outputs": [],
   "source": [
    "ori = pd.read_csv(\"./texas_org.csv\")\n",
    "syn = pd.read_csv(\"./texas_syn_3.csv\")"
   ]
  },
  {
   "cell_type": "code",
   "execution_count": 4,
   "metadata": {},
   "outputs": [],
   "source": [
    "one = ['DISCHARGE', 'TYPE_OF_ADMISSION', 'PAT_STATUS', 'ADMIT_WEEKDAY', 'RISK_MORTALITY', 'ILLNESS_SEVERITY', 'LENGTH_OF_STAY']\n",
    "two = ['PAT_STATE', 'SEX_CODE', 'RACE', 'ETHNICITY', 'PAT_AGE']"
   ]
  },
  {
   "cell_type": "code",
   "execution_count": 5,
   "metadata": {},
   "outputs": [],
   "source": [
    "c_one = []\n",
    "c_two = []\n",
    "for c in ori.columns:\n",
    "    for o in one:\n",
    "        if o in c:\n",
    "            c_one.append(c)\n",
    "    for t in two:\n",
    "        if t in c:\n",
    "            c_two.append(c)"
   ]
  },
  {
   "cell_type": "code",
   "execution_count": 109,
   "metadata": {},
   "outputs": [],
   "source": [
    "pub1 = ori[c_one]\n",
    "pub2 = ori[c_two]"
   ]
  },
  {
   "cell_type": "code",
   "execution_count": 110,
   "metadata": {},
   "outputs": [],
   "source": [
    "k_list = [2, 3, 4, 5]"
   ]
  },
  {
   "cell_type": "code",
   "execution_count": 120,
   "metadata": {},
   "outputs": [],
   "source": [
    "nhs_risks = {}\n",
    "for k in k_list:\n",
    "    syn = pd.read_csv(f\"./texas_{k}.csv\")\n",
    "    nn_model1 = NearestNeighbors(n_neighbors=1, algorithm='auto')\n",
    "    nn_model2 = NearestNeighbors(n_neighbors=1, algorithm='auto')\n",
    "    nn_model1.fit(syn[c_one])\n",
    "    nn_model2.fit(syn[c_two])\n",
    "    distances1, indices1 = nn_model1.kneighbors(pub1)\n",
    "    distances2, indices2 = nn_model2.kneighbors(pub2)\n",
    "\n",
    "    success = 0\n",
    "    for i in range(len(indices1)):\n",
    "        if indices1[i] == indices2[i]:\n",
    "            success += 1\n",
    "    rate = success / len(indices1)\n",
    "    nhs_risks[f\"K = {k}\"] = rate"
   ]
  },
  {
   "cell_type": "code",
   "execution_count": 121,
   "metadata": {},
   "outputs": [],
   "source": [
    "syn_risks = {}\n",
    "degrees = [1, 2, 3]\n",
    "for d in degrees:\n",
    "    syn = pd.read_csv(f\"./texas_syn_{d}.csv\")\n",
    "    nn_model1 = NearestNeighbors(n_neighbors=1, algorithm='auto')\n",
    "    nn_model2 = NearestNeighbors(n_neighbors=1, algorithm='auto')\n",
    "    nn_model1.fit(syn[c_one])\n",
    "    nn_model2.fit(syn[c_two])\n",
    "    distances1, indices1 = nn_model1.kneighbors(pub1)\n",
    "    distances2, indices2 = nn_model2.kneighbors(pub2)\n",
    "\n",
    "    success = 0\n",
    "    for i in range(len(indices1)):\n",
    "        if indices1[i] == indices2[i]:\n",
    "            success += 1\n",
    "    rate = success / len(indices1)\n",
    "    syn_risks[f\"D = {d}\"] = rate"
   ]
  },
  {
   "cell_type": "code",
   "execution_count": 113,
   "metadata": {},
   "outputs": [
    {
     "data": {
      "text/plain": [
       "{'K = 2': 0.003202964727681821,\n",
       " 'K = 3': 0.0035603202964727683,\n",
       " 'K = 4': 0.004923565614453048,\n",
       " 'K = 5': 0.0040103236053206275}"
      ]
     },
     "execution_count": 113,
     "metadata": {},
     "output_type": "execute_result"
    }
   ],
   "source": [
    "nhs_risks"
   ]
  },
  {
   "cell_type": "code",
   "execution_count": 114,
   "metadata": {},
   "outputs": [
    {
     "data": {
      "text/plain": [
       "{'D = 1': 0.0004632387002845609,\n",
       " 'D = 2': 0.00018529548011382436,\n",
       " 'D = 3': 0.0003705909602276487}"
      ]
     },
     "execution_count": 114,
     "metadata": {},
     "output_type": "execute_result"
    }
   ],
   "source": [
    "syn_risks"
   ]
  },
  {
   "cell_type": "code",
   "execution_count": 118,
   "metadata": {},
   "outputs": [
    {
     "data": {
      "text/plain": [
       "Text(0, 0.5, 'Linkability Risk')"
      ]
     },
     "execution_count": 118,
     "metadata": {},
     "output_type": "execute_result"
    },
    {
     "data": {
      "image/png": "[encoded data removed]",
      "text/plain": [
       "<Figure size 640x480 with 1 Axes>"
      ]
     },
     "metadata": {},
     "output_type": "display_data"
    }
   ],
   "source": [
    "import matplotlib.pyplot as plt\n",
    "\n",
    "names = [f\"D = {d}\" for d in degrees] + [f\"K = {k}\" for k in k_list]\n",
    "height = [round(syn_risks[f\"D = {d}\"], 5) for d in degrees] + [round(nhs_risks[f\"K = {k}\"], 5) for k in k_list]\n",
    "bar = plt.bar(names, height)\n",
    "plt.bar_label(bar)\n",
    "plt.title(\"Linkability Risk (My Implementation)\")\n",
    "plt.xlabel(\"Data\")\n",
    "plt.ylabel(\"Linkability Risk\")"
   ]
  },
  {
   "cell_type": "code",
   "execution_count": 14,
   "metadata": {},
   "outputs": [],
   "source": [
    "k_list = [2, 3, 4, 5]"
   ]
  },
  {
   "cell_type": "code",
   "execution_count": 15,
   "metadata": {},
   "outputs": [],
   "source": [
    "columns = one + two + [\"TOTAL_CHARGES\"]\n",
    "nhs_inference = {\"K = 2\" : 0, \"K = 3\" : 0, \"K = 4\" : 0, \"K = 5\" : 0}\n",
    "for k in k_list:\n",
    "    for secret in columns:\n",
    "        observed_columns = []\n",
    "        for c in ori.columns:\n",
    "            if secret not in c:\n",
    "                observed_columns.append(c)\n",
    "        true_data = ori[observed_columns]\n",
    "        syn = pd.read_csv(f\"./texas_{k}.csv\")\n",
    "        nn_model1 = NearestNeighbors(n_neighbors=1, algorithm='auto')\n",
    "        nn_model1.fit(syn[observed_columns])\n",
    "        distances1, indices1 = nn_model1.kneighbors(true_data)\n",
    "\n",
    "        success = 0\n",
    "        for i in range(len(indices1)):\n",
    "            if indices1[i] == i:\n",
    "                success += 1\n",
    "        rate = success / len(indices1)\n",
    "        nhs_inference[f\"K = {k}\"] += rate\n",
    "    nhs_inference[f\"K = {k}\"] /= len(columns)\n",
    "    "
   ]
  },
  {
   "cell_type": "code",
   "execution_count": 16,
   "metadata": {},
   "outputs": [],
   "source": [
    "columns = one + two + [\"TOTAL_CHARGES\"]\n",
    "degrees = [1, 2, 3]\n",
    "syn_inference = {\"D = 1\" : 0, \"D = 2\" : 0, \"D = 3\" : 0}\n",
    "for d in degrees:\n",
    "    for secret in columns:\n",
    "        observed_columns = []\n",
    "        for c in ori.columns:\n",
    "            if secret not in c:\n",
    "                observed_columns.append(c)\n",
    "        true_data = ori[observed_columns]\n",
    "        syn = pd.read_csv(f\"./texas_syn_{d}.csv\")\n",
    "        nn_model1 = NearestNeighbors(n_neighbors=1, algorithm='auto')\n",
    "        nn_model1.fit(syn[observed_columns])\n",
    "        distances1, indices1 = nn_model1.kneighbors(true_data)\n",
    "\n",
    "        success = 0\n",
    "        for i in range(len(indices1)):\n",
    "            if indices1[i] == i:\n",
    "                success += 1\n",
    "        rate = success / len(indices1)\n",
    "        syn_inference[f\"D = {d}\"] += rate\n",
    "    syn_inference[f\"D = {d}\"] /= len(columns)\n",
    "    "
   ]
  },
  {
   "cell_type": "code",
   "execution_count": 19,
   "metadata": {},
   "outputs": [
    {
     "data": {
      "text/plain": [
       "{'K = 2': 1.323539143670174e-05,\n",
       " 'K = 3': 1.323539143670174e-05,\n",
       " 'K = 4': 1.2217284403109297e-05,\n",
       " 'K = 5': 2.8506996940588362e-05}"
      ]
     },
     "execution_count": 19,
     "metadata": {},
     "output_type": "execute_result"
    }
   ],
   "source": [
    "nhs_inference"
   ]
  },
  {
   "cell_type": "code",
   "execution_count": 18,
   "metadata": {},
   "outputs": [
    {
     "data": {
      "text/plain": [
       "{'D = 1': 2.647078287340348e-05, 'D = 2': 0.0, 'D = 3': 1.2217284403109297e-05}"
      ]
     },
     "execution_count": 18,
     "metadata": {},
     "output_type": "execute_result"
    }
   ],
   "source": [
    "syn_inference"
   ]
  },
  {
   "cell_type": "code",
   "execution_count": 21,
   "metadata": {},
   "outputs": [
    {
     "data": {
      "text/plain": [
       "Text(0, 0.5, 'Linkability Risk')"
      ]
     },
     "execution_count": 21,
     "metadata": {},
     "output_type": "execute_result"
    },
    {
     "data": {
      "image/png": "[encoded data removed]",
      "text/plain": [
       "<Figure size 640x480 with 1 Axes>"
      ]
     },
     "metadata": {},
     "output_type": "display_data"
    }
   ],
   "source": [
    "import matplotlib.pyplot as plt\n",
    "\n",
    "names = [f\"D = {d}\" for d in degrees] + [f\"K = {k}\" for k in k_list]\n",
    "height = [round(syn_inference[f\"D = {d}\"], 10) for d in degrees] + [round(nhs_inference[f\"K = {k}\"], 10) for k in k_list]\n",
    "bar = plt.bar(names, height)\n",
    "plt.bar_label(bar)\n",
    "plt.title(\"Linkability Risk (My Implementation)\")\n",
    "plt.xlabel(\"Data\")\n",
    "plt.ylabel(\"Linkability Risk\")"
   ]
  }
 ],
 "metadata": {
  "kernelspec": {
   "display_name": "data-science",
   "language": "python",
   "name": "python3"
  },
  "language_info": {
   "codemirror_mode": {
    "name": "ipython",
    "version": 3
   },
   "file_extension": ".py",
   "mimetype": "text/x-python",
   "name": "python",
   "nbconvert_exporter": "python",
   "pygments_lexer": "ipython3",
   "version": "3.10.6"
  }
 },
 "nbformat": 4,
 "nbformat_minor": 2
}
